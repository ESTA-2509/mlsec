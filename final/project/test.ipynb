{
 "cells": [
  {
   "cell_type": "markdown",
   "metadata": {},
   "source": [
    "# Use for test model"
   ]
  },
  {
   "cell_type": "code",
   "execution_count": 20,
   "metadata": {},
   "outputs": [],
   "source": [
    "import mlflow\n",
    "from mlflow import MlflowClient\n",
    "import pandas as pd"
   ]
  },
  {
   "cell_type": "code",
   "execution_count": 21,
   "metadata": {},
   "outputs": [],
   "source": [
    "df = pd.read_csv('data/train.csv')"
   ]
  },
  {
   "cell_type": "code",
   "execution_count": 22,
   "metadata": {},
   "outputs": [
    {
     "name": "stderr",
     "output_type": "stream",
     "text": [
      "C:\\Users\\SonNH\\AppData\\Local\\Temp\\ipykernel_21108\\2097883960.py:8: FutureWarning: ``mlflow.tracking.client.MlflowClient.get_latest_versions`` is deprecated since 2.9.0. Model registry stages will be removed in a future major release. To learn more about the deprecation of model registry stages, see our migration guide here: https://mlflow.org/docs/latest/model-registry.html#migrating-from-stages\n",
      "  latest_ = client.get_latest_versions(model_name, stages=None)[0]\n"
     ]
    },
    {
     "data": {
      "application/vnd.jupyter.widget-view+json": {
       "model_id": "5bc94bf3833e422a98d0d250c377011b",
       "version_major": 2,
       "version_minor": 0
      },
      "text/plain": [
       "Downloading artifacts:   0%|          | 0/5 [00:00<?, ?it/s]"
      ]
     },
     "metadata": {},
     "output_type": "display_data"
    },
    {
     "name": "stderr",
     "output_type": "stream",
     "text": [
      "2024/11/30 14:37:58 WARNING mlflow.utils.requirements_utils: Detected one or more mismatches between the model's dependencies and the current Python environment:\n",
      " - numpy (current: 2.0.0, required: numpy==2.1.3)\n",
      "To fix the mismatches, call `mlflow.pyfunc.get_model_dependencies(model_uri)` to fetch the model's environment and install dependencies using the resulting environment file.\n",
      "2024/11/30 14:37:58 WARNING mlflow.pyfunc: The version of Python that the model was saved in, `Python 3.12.5`, differs from the version of Python that is currently running, `Python 3.10.11`, and may be incompatible\n"
     ]
    }
   ],
   "source": [
    "\n",
    "# Set mlflow as tracking server\n",
    "mlflow.set_tracking_uri(\"http://localhost:5000\")\n",
    "\n",
    "# logged_model = 'runs:/d8b4fedd9436429b88b1ddd2b962e672/model'\n",
    "# loaded_model = mlflow.pyfunc.load_model(logged_model)\n",
    "client = mlflow.tracking.MlflowClient()\n",
    "model_name = \"random_forest\"\n",
    "latest_ = client.get_latest_versions(model_name, stages=None)[0]\n",
    "loaded_model = mlflow.pyfunc.load_model(f'runs:/{latest_.run_id}/model')"
   ]
  },
  {
   "cell_type": "code",
   "execution_count": 27,
   "metadata": {},
   "outputs": [
    {
     "name": "stdout",
     "output_type": "stream",
     "text": [
      "              ID  flow_duration  Header_Length  Protocol type  Duration  \\\n",
      "1418732  2436427      40.266959       25800.34           6.02     75.41   \n",
      "\n",
      "              Rate      Srate  Drate  fin_flag_number  syn_flag_number  ...  \\\n",
      "1418732  45.258076  45.258076    0.0              0.0              0.0  ...   \n",
      "\n",
      "               Std  Tot size           IAT  Number   Magnitue      Radius  \\\n",
      "1418732  85.295807    107.22  8.337537e+07     9.5  15.585754  120.759219   \n",
      "\n",
      "          Covariance  Variance  Weight           Label  \n",
      "1418732  9146.703147      0.95  141.55  DDoS-SlowLoris  \n",
      "\n",
      "[1 rows x 48 columns]\n"
     ]
    },
    {
     "data": {
      "text/plain": [
       "array(['DDoS-SlowLoris'], dtype=object)"
      ]
     },
     "execution_count": 27,
     "metadata": {},
     "output_type": "execute_result"
    }
   ],
   "source": [
    "test = df.sample()\n",
    "print(test)\n",
    "loaded_model.predict(pd.DataFrame(test.drop(columns=['Label'])))"
   ]
  },
  {
   "cell_type": "code",
   "execution_count": null,
   "metadata": {},
   "outputs": [],
   "source": []
  }
 ],
 "metadata": {
  "kernelspec": {
   "display_name": "project",
   "language": "python",
   "name": "python3"
  },
  "language_info": {
   "codemirror_mode": {
    "name": "ipython",
    "version": 3
   },
   "file_extension": ".py",
   "mimetype": "text/x-python",
   "name": "python",
   "nbconvert_exporter": "python",
   "pygments_lexer": "ipython3",
   "version": "3.10.11"
  }
 },
 "nbformat": 4,
 "nbformat_minor": 2
}

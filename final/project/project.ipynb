{
 "cells": [
  {
   "cell_type": "code",
   "execution_count": null,
   "metadata": {},
   "outputs": [],
   "source": [
    "# Install dependencies\n",
    "\n",
    "!pip3 install pandas\n",
    "!pip3 install scikit-learn mlflow"
   ]
  },
  {
   "cell_type": "code",
   "execution_count": null,
   "metadata": {},
   "outputs": [],
   "source": [
    "# Import library\n",
    "\n",
    "import pandas as pd\n",
    "import mlflow\n",
    "\n",
    "\n",
    "from sklearn.preprocessing import StandardScaler\n",
    "from sklearn.model_selection import train_test_split\n",
    "from sklearn.ensemble import RandomForestClassifier\n",
    "from sklearn.metrics import classification_report, confusion_matrix, accuracy_score\n",
    "from sklearn.metrics import confusion_matrix, precision_score, recall_score, f1_score, accuracy_score\n",
    "from sklearn.model_selection import StratifiedKFold"
   ]
  },
  {
   "cell_type": "code",
   "execution_count": 4,
   "metadata": {},
   "outputs": [],
   "source": [
    "# Read dataset\n",
    "df = pd.read_csv('data/train.csv')"
   ]
  },
  {
   "cell_type": "code",
   "execution_count": 11,
   "metadata": {},
   "outputs": [
    {
     "name": "stdout",
     "output_type": "stream",
     "text": [
      "Dataset column\n",
      "Index(['ID', 'flow_duration', 'Header_Length', 'Protocol type', 'Duration',\n",
      "       'Rate', 'Srate', 'Drate', 'fin_flag_number', 'syn_flag_number',\n",
      "       'rst_flag_number', 'psh_flag_number', 'ack_flag_number',\n",
      "       'ece_flag_number', 'cwr_flag_number', 'ack_count', 'syn_count',\n",
      "       'fin_count', 'urg_count', 'rst_count', 'HTTP', 'HTTPS', 'DNS', 'Telnet',\n",
      "       'SMTP', 'SSH', 'IRC', 'TCP', 'UDP', 'DHCP', 'ARP', 'ICMP', 'IPv', 'LLC',\n",
      "       'Tot sum', 'Min', 'Max', 'AVG', 'Std', 'Tot size', 'IAT', 'Number',\n",
      "       'Magnitue', 'Radius', 'Covariance', 'Variance', 'Weight', 'Label'],\n",
      "      dtype='object')\n",
      "Summary of dataset info\n",
      "<bound method DataFrame.info of               ID  flow_duration  Header_Length  Protocol type  Duration  \\\n",
      "0         769866       0.000000          54.00           6.00     64.00   \n",
      "1        1859874       0.000892          54.58            NaN     64.00   \n",
      "2         396092       0.000000           0.00           1.00     64.00   \n",
      "3         179708     109.146727        1992.80           8.20     50.10   \n",
      "4        1527289       0.025221          58.53           5.95     65.91   \n",
      "...          ...            ...            ...            ...       ...   \n",
      "1950133   913815       2.126253            NaN          16.66     64.00   \n",
      "1950134  2150643       1.340738          77.76           6.00     64.00   \n",
      "1950135   368961     189.003258       12885.50            NaN    100.60   \n",
      "1950136   250960     298.879657        7006.50           7.60    147.50   \n",
      "1950137   847756       5.864603            NaN           6.00     64.00   \n",
      "\n",
      "                Rate        Srate  Drate  fin_flag_number  syn_flag_number  \\\n",
      "0           2.890680     2.890680    0.0              0.0              0.0   \n",
      "1          28.594443    28.594443    0.0              0.0              1.0   \n",
      "2          23.716061    23.716061    0.0              0.0              0.0   \n",
      "3          41.102103    41.102103    0.0              0.0              0.0   \n",
      "4          25.300629    25.300629    NaN              1.0              0.0   \n",
      "...              ...          ...    ...              ...              ...   \n",
      "1950133  1239.345221  1239.345221    0.0              0.0              0.0   \n",
      "1950134     0.656392     0.656392    0.0              0.0              1.0   \n",
      "1950135    21.719009    21.719009    0.0              0.0              0.0   \n",
      "1950136     0.451747     0.451747    0.0              0.0              0.0   \n",
      "1950137   347.082222   347.082222    0.0              0.0              0.0   \n",
      "\n",
      "         ...         Std  Tot size           IAT  Number   Magnitue  \\\n",
      "0        ...         NaN     54.00  8.294698e+07     9.5  10.392305   \n",
      "1        ...    0.000000     54.00  8.297298e+07     9.5  10.392305   \n",
      "2        ...         NaN       NaN  8.312478e+07     9.5   9.165151   \n",
      "3        ...  305.527954    223.00           NaN    13.5  19.438032   \n",
      "4        ...    1.158718     56.76  8.334493e+07     9.5  10.420536   \n",
      "...      ...         ...       ...           ...     ...        ...   \n",
      "1950133  ...   46.211504    518.73  8.378464e+07     9.5  32.752232   \n",
      "1950134  ...    0.000000     54.00  8.336185e+07     9.5  10.392305   \n",
      "1950135  ...  824.460757    133.00  1.668479e+08    13.5  30.729074   \n",
      "1950136  ...   52.308068    105.30  4.257479e-02     5.5  14.227318   \n",
      "1950137  ...    0.000000     66.00  7.218122e-04     5.5  11.489125   \n",
      "\n",
      "              Radius     Covariance  Variance  Weight                    Label  \n",
      "0           0.000000       0.000000      0.00  141.55            DoS-TCP_Flood  \n",
      "1           0.000000       0.000000      0.00  141.55            DoS-SYN_Flood  \n",
      "2           0.000000            NaN      0.00  141.55          DDoS-ICMP_Flood  \n",
      "3         433.145956   98347.063168      1.00  244.60           Recon-PortScan  \n",
      "4           1.657137      61.278209      0.04  141.55         DDoS-RSTFINFlood  \n",
      "...              ...            ...       ...     ...                      ...  \n",
      "1950133          NaN    6468.374735      0.35  141.55           Mirai-udpplain  \n",
      "1950134     0.000000       0.000000      0.00  141.55  DDoS-SynonymousIP_Flood  \n",
      "1950135  1168.193676  686325.224261      1.00  244.60      Recon-HostDiscovery  \n",
      "1950136    73.974779    3404.204759      0.90   38.50           Recon-PortScan  \n",
      "1950137     0.000000       0.000000      0.00   38.50         MITM-ArpSpoofing  \n",
      "\n",
      "[1950138 rows x 48 columns]>\n",
      "ID                      0\n",
      "flow_duration           0\n",
      "Header_Length      195013\n",
      "Protocol type      195013\n",
      "Duration           195013\n",
      "Rate               195013\n",
      "Srate              195013\n",
      "Drate              195013\n",
      "fin_flag_number         0\n",
      "syn_flag_number         0\n",
      "rst_flag_number    195013\n",
      "psh_flag_number    195013\n",
      "ack_flag_number         0\n",
      "ece_flag_number    195013\n",
      "cwr_flag_number    195013\n",
      "ack_count          195013\n",
      "syn_count          195013\n",
      "fin_count               0\n",
      "urg_count               0\n",
      "rst_count               0\n",
      "HTTP               195013\n",
      "HTTPS              195013\n",
      "DNS                     0\n",
      "Telnet             195013\n",
      "SMTP               195013\n",
      "SSH                195013\n",
      "IRC                     0\n",
      "TCP                195013\n",
      "UDP                     0\n",
      "DHCP                    0\n",
      "ARP                195013\n",
      "ICMP               195013\n",
      "IPv                     0\n",
      "LLC                     0\n",
      "Tot sum            195013\n",
      "Min                195013\n",
      "Max                195013\n",
      "AVG                     0\n",
      "Std                195013\n",
      "Tot size           195013\n",
      "IAT                195013\n",
      "Number                  0\n",
      "Magnitue           195013\n",
      "Radius             195013\n",
      "Covariance         195013\n",
      "Variance           195013\n",
      "Weight                  0\n",
      "Label                   0\n",
      "dtype: int64\n"
     ]
    }
   ],
   "source": [
    "# Check dataset\n",
    "df.head()\n",
    "print(\"Dataset column\")\n",
    "print(df.columns)\n",
    "print(\"Summary of dataset info\")\n",
    "print(df.info)\n",
    "\n",
    "# for col in df.columns:\n",
    "#   if df[col].dtype != 'object':  # Exclude non-numeric columns\n",
    "#     min_val = df[col].min()\n",
    "#     max_val = df[col].max()\n",
    "#     print(f\"Column: {col}\")\n",
    "#     print(f\"Minimum: {min_val}\")\n",
    "#     print(f\"Maximum: {max_val}\")\n",
    "#     print()\n",
    "\n",
    "print(df.isnull().sum())\n"
   ]
  },
  {
   "cell_type": "code",
   "execution_count": 6,
   "metadata": {},
   "outputs": [
    {
     "name": "stdout",
     "output_type": "stream",
     "text": [
      "ID                      0\n",
      "flow_duration           0\n",
      "Header_Length      195013\n",
      "Protocol type      195013\n",
      "Duration           195013\n",
      "Rate               195013\n",
      "Srate              195013\n",
      "Drate              195013\n",
      "fin_flag_number         0\n",
      "syn_flag_number         0\n",
      "rst_flag_number    195013\n",
      "psh_flag_number    195013\n",
      "ack_flag_number         0\n",
      "ece_flag_number    195013\n",
      "cwr_flag_number    195013\n",
      "ack_count          195013\n",
      "syn_count          195013\n",
      "fin_count               0\n",
      "urg_count               0\n",
      "rst_count               0\n",
      "HTTP               195013\n",
      "HTTPS              195013\n",
      "DNS                     0\n",
      "Telnet             195013\n",
      "SMTP               195013\n",
      "SSH                195013\n",
      "IRC                     0\n",
      "TCP                195013\n",
      "UDP                     0\n",
      "DHCP                    0\n",
      "ARP                195013\n",
      "ICMP               195013\n",
      "IPv                     0\n",
      "LLC                     0\n",
      "Tot sum            195013\n",
      "Min                195013\n",
      "Max                195013\n",
      "AVG                     0\n",
      "Std                195013\n",
      "Tot size           195013\n",
      "IAT                195013\n",
      "Number                  0\n",
      "Magnitue           195013\n",
      "Radius             195013\n",
      "Covariance         195013\n",
      "Variance           195013\n",
      "Weight                  0\n",
      "Label                   0\n",
      "dtype: int64\n",
      "ID                 0\n",
      "flow_duration      0\n",
      "Header_Length      0\n",
      "Protocol type      0\n",
      "Duration           0\n",
      "Rate               0\n",
      "Srate              0\n",
      "Drate              0\n",
      "fin_flag_number    0\n",
      "syn_flag_number    0\n",
      "rst_flag_number    0\n",
      "psh_flag_number    0\n",
      "ack_flag_number    0\n",
      "ece_flag_number    0\n",
      "cwr_flag_number    0\n",
      "ack_count          0\n",
      "syn_count          0\n",
      "fin_count          0\n",
      "urg_count          0\n",
      "rst_count          0\n",
      "HTTP               0\n",
      "HTTPS              0\n",
      "DNS                0\n",
      "Telnet             0\n",
      "SMTP               0\n",
      "SSH                0\n",
      "IRC                0\n",
      "TCP                0\n",
      "UDP                0\n",
      "DHCP               0\n",
      "ARP                0\n",
      "ICMP               0\n",
      "IPv                0\n",
      "LLC                0\n",
      "Tot sum            0\n",
      "Min                0\n",
      "Max                0\n",
      "AVG                0\n",
      "Std                0\n",
      "Tot size           0\n",
      "IAT                0\n",
      "Number             0\n",
      "Magnitue           0\n",
      "Radius             0\n",
      "Covariance         0\n",
      "Variance           0\n",
      "Weight             0\n",
      "Label              0\n",
      "dtype: int64\n",
      "0\n"
     ]
    }
   ],
   "source": [
    "# Fill all null data as -1\n",
    "print(df.isnull().sum())\n",
    "data_n_null = df.fillna(-1, inplace=False)\n",
    "print(data_n_null.isnull().sum())\n",
    "\n",
    "data_n_null.head()\n",
    "print(data_n_null.duplicated().sum())\n"
   ]
  },
  {
   "cell_type": "code",
   "execution_count": 7,
   "metadata": {},
   "outputs": [],
   "source": [
    "# Set mlflow as tracking server\n",
    "mlflow.set_tracking_uri(\"http://localhost:5000\")"
   ]
  },
  {
   "cell_type": "code",
   "execution_count": null,
   "metadata": {},
   "outputs": [
    {
     "name": "stderr",
     "output_type": "stream",
     "text": [
      "2024/11/29 23:39:09 INFO mlflow.tracking.fluent: Experiment with name 'Random Forest Experiment' does not exist. Creating a new experiment.\n"
     ]
    }
   ],
   "source": [
    "# Random forest follow this: https://gist.github.com/pb111/88545fa33780928694388779af23bf58\n",
    "data = data_n_null.drop(columns=['ID'])\n",
    "data_sample = data.sample(frac=0.2, random_state=42)\n",
    "\n",
    "\n",
    "numerical_columns = data_sample.select_dtypes(include=['float64', 'int64']).columns\n",
    "scaler = StandardScaler()\n",
    "data_sample[numerical_columns] = scaler.fit_transform(data_sample[numerical_columns])\n",
    "\n",
    "X = data_sample.drop(columns=['Label'])  # Features\n",
    "y = data_sample['Label']                # Target\n",
    "X_train, X_test, y_train, y_test = train_test_split(\n",
    "    X, y, test_size=0.2, random_state=42, stratify=y\n",
    ")\n",
    "\n",
    "mlflow.set_experiment(\"Random Forest Experiment\")\n",
    "mlflow.sklearn.autolog()\n",
    "\n",
    "\n",
    "kf = StratifiedKFold(n_splits=5, shuffle=True, random_state=42)\n",
    "fold_metrics = []\n"
   ]
  },
  {
   "cell_type": "code",
   "execution_count": 9,
   "metadata": {},
   "outputs": [
    {
     "name": "stderr",
     "output_type": "stream",
     "text": [
      "2024/11/29 23:39:25 INFO mlflow.utils.autologging_utils: Created MLflow autologging run with ID '40fb15ad629c450a8233e04d2451421f', which will track hyperparameters, performance metrics, model artifacts, and lineage information for the current sklearn workflow\n"
     ]
    },
    {
     "name": "stdout",
     "output_type": "stream",
     "text": [
      "🏃 View run selective-wasp-353 at: http://localhost:5000/#/experiments/1/runs/40fb15ad629c450a8233e04d2451421f\n",
      "🧪 View experiment at: http://localhost:5000/#/experiments/1\n"
     ]
    },
    {
     "name": "stderr",
     "output_type": "stream",
     "text": [
      "2024/11/29 23:41:43 INFO mlflow.utils.autologging_utils: Created MLflow autologging run with ID 'baac1469d46c485e94734ac9bc7bdfcb', which will track hyperparameters, performance metrics, model artifacts, and lineage information for the current sklearn workflow\n"
     ]
    },
    {
     "name": "stdout",
     "output_type": "stream",
     "text": [
      "Fold 1 Results:\n",
      "Accuracy: 0.9236, Precision: 0.9255, Recall: 0.9236, F1 Score: 0.9212\n",
      "False Positives: None, False Negatives: None\n",
      "----------------------------------------\n",
      "🏃 View run agreeable-tern-74 at: http://localhost:5000/#/experiments/1/runs/baac1469d46c485e94734ac9bc7bdfcb\n",
      "🧪 View experiment at: http://localhost:5000/#/experiments/1\n"
     ]
    },
    {
     "name": "stderr",
     "output_type": "stream",
     "text": [
      "D:\\project\\mlsec\\final\\project\\Lib\\site-packages\\sklearn\\metrics\\_classification.py:1531: UndefinedMetricWarning: Precision is ill-defined and being set to 0.0 in labels with no predicted samples. Use `zero_division` parameter to control this behavior.\n",
      "  _warn_prf(average, modifier, f\"{metric.capitalize()} is\", len(result))\n"
     ]
    },
    {
     "name": "stdout",
     "output_type": "stream",
     "text": [
      "Fold 2 Results:\n",
      "Accuracy: 0.9228, Precision: 0.9244, Recall: 0.9228, F1 Score: 0.9199\n",
      "False Positives: None, False Negatives: None\n",
      "----------------------------------------\n"
     ]
    },
    {
     "name": "stderr",
     "output_type": "stream",
     "text": [
      "2024/11/29 23:44:01 INFO mlflow.utils.autologging_utils: Created MLflow autologging run with ID '1ccc0bb26ad5475b8b3e8b3b1f02b4b5', which will track hyperparameters, performance metrics, model artifacts, and lineage information for the current sklearn workflow\n"
     ]
    },
    {
     "name": "stdout",
     "output_type": "stream",
     "text": [
      "🏃 View run melodic-ram-406 at: http://localhost:5000/#/experiments/1/runs/1ccc0bb26ad5475b8b3e8b3b1f02b4b5\n",
      "🧪 View experiment at: http://localhost:5000/#/experiments/1\n"
     ]
    },
    {
     "name": "stderr",
     "output_type": "stream",
     "text": [
      "D:\\project\\mlsec\\final\\project\\Lib\\site-packages\\sklearn\\metrics\\_classification.py:1531: UndefinedMetricWarning: Precision is ill-defined and being set to 0.0 in labels with no predicted samples. Use `zero_division` parameter to control this behavior.\n",
      "  _warn_prf(average, modifier, f\"{metric.capitalize()} is\", len(result))\n"
     ]
    },
    {
     "name": "stdout",
     "output_type": "stream",
     "text": [
      "Fold 3 Results:\n",
      "Accuracy: 0.9234, Precision: 0.9248, Recall: 0.9234, F1 Score: 0.9206\n",
      "False Positives: None, False Negatives: None\n",
      "----------------------------------------\n"
     ]
    },
    {
     "name": "stderr",
     "output_type": "stream",
     "text": [
      "2024/11/29 23:46:09 INFO mlflow.utils.autologging_utils: Created MLflow autologging run with ID 'cb17a5077c2d4d7ab4a20f5bfea0cf1b', which will track hyperparameters, performance metrics, model artifacts, and lineage information for the current sklearn workflow\n"
     ]
    },
    {
     "name": "stdout",
     "output_type": "stream",
     "text": [
      "🏃 View run inquisitive-bat-70 at: http://localhost:5000/#/experiments/1/runs/cb17a5077c2d4d7ab4a20f5bfea0cf1b\n",
      "🧪 View experiment at: http://localhost:5000/#/experiments/1\n"
     ]
    },
    {
     "name": "stderr",
     "output_type": "stream",
     "text": [
      "D:\\project\\mlsec\\final\\project\\Lib\\site-packages\\sklearn\\metrics\\_classification.py:1531: UndefinedMetricWarning: Precision is ill-defined and being set to 0.0 in labels with no predicted samples. Use `zero_division` parameter to control this behavior.\n",
      "  _warn_prf(average, modifier, f\"{metric.capitalize()} is\", len(result))\n",
      "2024/11/29 23:48:34 INFO mlflow.utils.autologging_utils: Created MLflow autologging run with ID '4871f34fd82341e897bd787055815157', which will track hyperparameters, performance metrics, model artifacts, and lineage information for the current sklearn workflow\n"
     ]
    },
    {
     "name": "stdout",
     "output_type": "stream",
     "text": [
      "Fold 4 Results:\n",
      "Accuracy: 0.9231, Precision: 0.9247, Recall: 0.9231, F1 Score: 0.9203\n",
      "False Positives: None, False Negatives: None\n",
      "----------------------------------------\n",
      "🏃 View run abundant-stag-218 at: http://localhost:5000/#/experiments/1/runs/4871f34fd82341e897bd787055815157\n",
      "🧪 View experiment at: http://localhost:5000/#/experiments/1\n"
     ]
    },
    {
     "name": "stderr",
     "output_type": "stream",
     "text": [
      "D:\\project\\mlsec\\final\\project\\Lib\\site-packages\\sklearn\\metrics\\_classification.py:1531: UndefinedMetricWarning: Precision is ill-defined and being set to 0.0 in labels with no predicted samples. Use `zero_division` parameter to control this behavior.\n",
      "  _warn_prf(average, modifier, f\"{metric.capitalize()} is\", len(result))\n"
     ]
    },
    {
     "name": "stdout",
     "output_type": "stream",
     "text": [
      "Fold 5 Results:\n",
      "Accuracy: 0.9233, Precision: 0.9241, Recall: 0.9233, F1 Score: 0.9206\n",
      "False Positives: None, False Negatives: None\n",
      "----------------------------------------\n"
     ]
    }
   ],
   "source": [
    "\n",
    "\n",
    "for fold, (train_idx, val_idx) in enumerate(kf.split(X_train, y_train), 1):\n",
    "    # Split training data into train and validation sets for the current fold\n",
    "    X_train_fold, X_val_fold = X_train.iloc[train_idx], X_train.iloc[val_idx]\n",
    "    y_train_fold, y_val_fold = y_train.iloc[train_idx], y_train.iloc[val_idx]\n",
    "    \n",
    "    # Train the model\n",
    "    model = RandomForestClassifier(random_state=42)\n",
    "    model.fit(X_train_fold, y_train_fold)\n",
    "    \n",
    "    # Predict on the validation fold\n",
    "    y_val_pred = model.predict(X_val_fold)\n",
    "    \n",
    "    # Compute metrics\n",
    "    cm = confusion_matrix(y_val_fold, y_val_pred)\n",
    "    tn, fp, fn, tp = cm.ravel() if cm.size == 4 else (None, None, None, None)  # Handle binary or multiclass cases\n",
    "    accuracy = accuracy_score(y_val_fold, y_val_pred)\n",
    "    precision = precision_score(y_val_fold, y_val_pred, average='weighted')\n",
    "    recall = recall_score(y_val_fold, y_val_pred, average='weighted')\n",
    "    f1 = f1_score(y_val_fold, y_val_pred, average='weighted')\n",
    "    \n",
    "    # Store metrics for this fold\n",
    "    fold_metrics.append({\n",
    "        \"Fold\": fold,\n",
    "        \"Accuracy\": accuracy,\n",
    "        \"Precision\": precision,\n",
    "        \"Recall\": recall,\n",
    "        \"F1 Score\": f1,\n",
    "        \"False Positives\": fp,\n",
    "        \"False Negatives\": fn,\n",
    "    })\n",
    "    print(f\"Fold {fold} Results:\")\n",
    "    print(f\"Accuracy: {accuracy:.4f}, Precision: {precision:.4f}, Recall: {recall:.4f}, F1 Score: {f1:.4f}\")\n",
    "    print(f\"False Positives: {fp}, False Negatives: {fn}\")\n",
    "    print(\"-\" * 40)\n",
    "    "
   ]
  }
 ],
 "metadata": {
  "kernelspec": {
   "display_name": "Python mlsec",
   "language": "python",
   "name": "venv_name"
  },
  "language_info": {
   "codemirror_mode": {
    "name": "ipython",
    "version": 3
   },
   "file_extension": ".py",
   "mimetype": "text/x-python",
   "name": "python",
   "nbconvert_exporter": "python",
   "pygments_lexer": "ipython3",
   "version": "3.12.5"
  }
 },
 "nbformat": 4,
 "nbformat_minor": 2
}

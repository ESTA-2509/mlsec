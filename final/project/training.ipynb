{
 "cells": [
  {
   "cell_type": "markdown",
   "metadata": {},
   "source": [
    "# Install packages"
   ]
  },
  {
   "cell_type": "code",
   "execution_count": 23,
   "metadata": {},
   "outputs": [
    {
     "name": "stdout",
     "output_type": "stream",
     "text": [
      "Requirement already satisfied: numpy==2.0.0 in .\\lib\\site-packages (2.0.0)\n"
     ]
    },
    {
     "name": "stderr",
     "output_type": "stream",
     "text": [
      "\n",
      "[notice] A new release of pip is available: 23.0.1 -> 24.3.1\n",
      "[notice] To update, run: python310.exe -m pip install --upgrade pip\n"
     ]
    },
    {
     "name": "stdout",
     "output_type": "stream",
     "text": [
      "Requirement already satisfied: pandas in .\\lib\\site-packages (2.2.3)\n",
      "Requirement already satisfied: tzdata>=2022.7 in .\\lib\\site-packages (from pandas) (2024.2)\n",
      "Requirement already satisfied: pytz>=2020.1 in .\\lib\\site-packages (from pandas) (2024.2)\n",
      "Requirement already satisfied: python-dateutil>=2.8.2 in .\\lib\\site-packages (from pandas) (2.9.0.post0)\n",
      "Requirement already satisfied: numpy>=1.22.4 in .\\lib\\site-packages (from pandas) (2.0.0)\n",
      "Requirement already satisfied: six>=1.5 in .\\lib\\site-packages (from python-dateutil>=2.8.2->pandas) (1.16.0)\n"
     ]
    },
    {
     "name": "stderr",
     "output_type": "stream",
     "text": [
      "\n",
      "[notice] A new release of pip is available: 23.0.1 -> 24.3.1\n",
      "[notice] To update, run: python310.exe -m pip install --upgrade pip\n"
     ]
    },
    {
     "name": "stdout",
     "output_type": "stream",
     "text": [
      "Requirement already satisfied: scikit-learn in .\\lib\\site-packages (1.5.2)\n",
      "Requirement already satisfied: mlflow in .\\lib\\site-packages (2.18.0)\n",
      "Requirement already satisfied: seaborn in .\\lib\\site-packages (0.13.2)\n",
      "Requirement already satisfied: shap in .\\lib\\site-packages (0.46.0)\n",
      "Requirement already satisfied: scipy>=1.6.0 in .\\lib\\site-packages (from scikit-learn) (1.14.1)\n",
      "Requirement already satisfied: joblib>=1.2.0 in .\\lib\\site-packages (from scikit-learn) (1.4.2)\n",
      "Requirement already satisfied: numpy>=1.19.5 in .\\lib\\site-packages (from scikit-learn) (2.0.0)\n",
      "Requirement already satisfied: threadpoolctl>=3.1.0 in .\\lib\\site-packages (from scikit-learn) (3.5.0)\n",
      "Requirement already satisfied: mlflow-skinny==2.18.0 in .\\lib\\site-packages (from mlflow) (2.18.0)\n",
      "Requirement already satisfied: Flask<4 in .\\lib\\site-packages (from mlflow) (3.1.0)\n",
      "Requirement already satisfied: waitress<4 in .\\lib\\site-packages (from mlflow) (3.0.2)\n",
      "Requirement already satisfied: matplotlib<4 in .\\lib\\site-packages (from mlflow) (3.9.2)\n",
      "Requirement already satisfied: markdown<4,>=3.3 in .\\lib\\site-packages (from mlflow) (3.7)\n",
      "Requirement already satisfied: pandas<3 in .\\lib\\site-packages (from mlflow) (2.2.3)\n",
      "Requirement already satisfied: sqlalchemy<3,>=1.4.0 in .\\lib\\site-packages (from mlflow) (2.0.36)\n",
      "Requirement already satisfied: docker<8,>=4.0.0 in .\\lib\\site-packages (from mlflow) (7.1.0)\n",
      "Requirement already satisfied: Jinja2<4,>=3.0 in .\\lib\\site-packages (from mlflow) (3.1.4)\n",
      "Requirement already satisfied: pyarrow<19,>=4.0.0 in .\\lib\\site-packages (from mlflow) (18.1.0)\n",
      "Requirement already satisfied: graphene<4 in .\\lib\\site-packages (from mlflow) (3.4.3)\n",
      "Requirement already satisfied: alembic!=1.10.0,<2 in .\\lib\\site-packages (from mlflow) (1.14.0)\n",
      "Requirement already satisfied: requests<3,>=2.17.3 in .\\lib\\site-packages (from mlflow-skinny==2.18.0->mlflow) (2.32.3)\n",
      "Requirement already satisfied: opentelemetry-api<3,>=1.9.0 in .\\lib\\site-packages (from mlflow-skinny==2.18.0->mlflow) (1.28.2)\n",
      "Requirement already satisfied: click<9,>=7.0 in .\\lib\\site-packages (from mlflow-skinny==2.18.0->mlflow) (8.1.7)\n",
      "Requirement already satisfied: opentelemetry-sdk<3,>=1.9.0 in .\\lib\\site-packages (from mlflow-skinny==2.18.0->mlflow) (1.28.2)\n",
      "Requirement already satisfied: cloudpickle<4 in .\\lib\\site-packages (from mlflow-skinny==2.18.0->mlflow) (3.1.0)\n",
      "Requirement already satisfied: pyyaml<7,>=5.1 in .\\lib\\site-packages (from mlflow-skinny==2.18.0->mlflow) (6.0.2)\n",
      "Requirement already satisfied: importlib-metadata!=4.7.0,<9,>=3.7.0 in .\\lib\\site-packages (from mlflow-skinny==2.18.0->mlflow) (8.5.0)\n",
      "Requirement already satisfied: protobuf<6,>=3.12.0 in .\\lib\\site-packages (from mlflow-skinny==2.18.0->mlflow) (5.29.0)\n",
      "Requirement already satisfied: packaging<25 in .\\lib\\site-packages (from mlflow-skinny==2.18.0->mlflow) (24.2)\n",
      "Requirement already satisfied: sqlparse<1,>=0.4.0 in .\\lib\\site-packages (from mlflow-skinny==2.18.0->mlflow) (0.5.2)\n",
      "Requirement already satisfied: databricks-sdk<1,>=0.20.0 in .\\lib\\site-packages (from mlflow-skinny==2.18.0->mlflow) (0.38.0)\n",
      "Requirement already satisfied: cachetools<6,>=5.0.0 in .\\lib\\site-packages (from mlflow-skinny==2.18.0->mlflow) (5.5.0)\n",
      "Requirement already satisfied: gitpython<4,>=3.1.9 in .\\lib\\site-packages (from mlflow-skinny==2.18.0->mlflow) (3.1.43)\n",
      "Requirement already satisfied: numba in .\\lib\\site-packages (from shap) (0.60.0)\n",
      "Requirement already satisfied: slicer==0.0.8 in .\\lib\\site-packages (from shap) (0.0.8)\n",
      "Requirement already satisfied: tqdm>=4.27.0 in .\\lib\\site-packages (from shap) (4.67.1)\n",
      "Requirement already satisfied: typing-extensions>=4 in .\\lib\\site-packages (from alembic!=1.10.0,<2->mlflow) (4.12.2)\n",
      "Requirement already satisfied: Mako in .\\lib\\site-packages (from alembic!=1.10.0,<2->mlflow) (1.3.6)\n",
      "Requirement already satisfied: pywin32>=304 in .\\lib\\site-packages (from docker<8,>=4.0.0->mlflow) (308)\n",
      "Requirement already satisfied: urllib3>=1.26.0 in .\\lib\\site-packages (from docker<8,>=4.0.0->mlflow) (2.2.3)\n",
      "Requirement already satisfied: Werkzeug>=3.1 in .\\lib\\site-packages (from Flask<4->mlflow) (3.1.3)\n",
      "Requirement already satisfied: itsdangerous>=2.2 in .\\lib\\site-packages (from Flask<4->mlflow) (2.2.0)\n",
      "Requirement already satisfied: blinker>=1.9 in .\\lib\\site-packages (from Flask<4->mlflow) (1.9.0)\n",
      "Requirement already satisfied: graphql-core<3.3,>=3.1 in .\\lib\\site-packages (from graphene<4->mlflow) (3.2.5)\n",
      "Requirement already satisfied: python-dateutil<3,>=2.7.0 in .\\lib\\site-packages (from graphene<4->mlflow) (2.9.0.post0)\n",
      "Requirement already satisfied: graphql-relay<3.3,>=3.1 in .\\lib\\site-packages (from graphene<4->mlflow) (3.2.0)\n",
      "Requirement already satisfied: MarkupSafe>=2.0 in .\\lib\\site-packages (from Jinja2<4,>=3.0->mlflow) (3.0.2)\n",
      "Requirement already satisfied: fonttools>=4.22.0 in .\\lib\\site-packages (from matplotlib<4->mlflow) (4.55.0)\n",
      "Requirement already satisfied: pillow>=8 in .\\lib\\site-packages (from matplotlib<4->mlflow) (11.0.0)\n",
      "Requirement already satisfied: cycler>=0.10 in .\\lib\\site-packages (from matplotlib<4->mlflow) (0.12.1)\n",
      "Requirement already satisfied: contourpy>=1.0.1 in .\\lib\\site-packages (from matplotlib<4->mlflow) (1.3.1)\n",
      "Requirement already satisfied: kiwisolver>=1.3.1 in .\\lib\\site-packages (from matplotlib<4->mlflow) (1.4.7)\n",
      "Requirement already satisfied: pyparsing>=2.3.1 in .\\lib\\site-packages (from matplotlib<4->mlflow) (3.2.0)\n",
      "Requirement already satisfied: pytz>=2020.1 in .\\lib\\site-packages (from pandas<3->mlflow) (2024.2)\n",
      "Requirement already satisfied: tzdata>=2022.7 in .\\lib\\site-packages (from pandas<3->mlflow) (2024.2)\n",
      "Requirement already satisfied: greenlet!=0.4.17 in .\\lib\\site-packages (from sqlalchemy<3,>=1.4.0->mlflow) (3.1.1)\n",
      "Requirement already satisfied: colorama in .\\lib\\site-packages (from tqdm>=4.27.0->shap) (0.4.6)\n",
      "Requirement already satisfied: llvmlite<0.44,>=0.43.0dev0 in .\\lib\\site-packages (from numba->shap) (0.43.0)\n",
      "Requirement already satisfied: google-auth~=2.0 in .\\lib\\site-packages (from databricks-sdk<1,>=0.20.0->mlflow-skinny==2.18.0->mlflow) (2.36.0)\n",
      "Requirement already satisfied: gitdb<5,>=4.0.1 in .\\lib\\site-packages (from gitpython<4,>=3.1.9->mlflow-skinny==2.18.0->mlflow) (4.0.11)\n",
      "Requirement already satisfied: zipp>=3.20 in .\\lib\\site-packages (from importlib-metadata!=4.7.0,<9,>=3.7.0->mlflow-skinny==2.18.0->mlflow) (3.21.0)\n",
      "Requirement already satisfied: deprecated>=1.2.6 in .\\lib\\site-packages (from opentelemetry-api<3,>=1.9.0->mlflow-skinny==2.18.0->mlflow) (1.2.15)\n",
      "Requirement already satisfied: opentelemetry-semantic-conventions==0.49b2 in .\\lib\\site-packages (from opentelemetry-sdk<3,>=1.9.0->mlflow-skinny==2.18.0->mlflow) (0.49b2)\n",
      "Requirement already satisfied: six>=1.5 in .\\lib\\site-packages (from python-dateutil<3,>=2.7.0->graphene<4->mlflow) (1.16.0)\n",
      "Requirement already satisfied: certifi>=2017.4.17 in .\\lib\\site-packages (from requests<3,>=2.17.3->mlflow-skinny==2.18.0->mlflow) (2024.8.30)\n",
      "Requirement already satisfied: idna<4,>=2.5 in .\\lib\\site-packages (from requests<3,>=2.17.3->mlflow-skinny==2.18.0->mlflow) (3.10)\n",
      "Requirement already satisfied: charset-normalizer<4,>=2 in .\\lib\\site-packages (from requests<3,>=2.17.3->mlflow-skinny==2.18.0->mlflow) (3.4.0)\n",
      "Requirement already satisfied: wrapt<2,>=1.10 in .\\lib\\site-packages (from deprecated>=1.2.6->opentelemetry-api<3,>=1.9.0->mlflow-skinny==2.18.0->mlflow) (1.17.0)\n",
      "Requirement already satisfied: smmap<6,>=3.0.1 in .\\lib\\site-packages (from gitdb<5,>=4.0.1->gitpython<4,>=3.1.9->mlflow-skinny==2.18.0->mlflow) (5.0.1)\n",
      "Requirement already satisfied: rsa<5,>=3.1.4 in .\\lib\\site-packages (from google-auth~=2.0->databricks-sdk<1,>=0.20.0->mlflow-skinny==2.18.0->mlflow) (4.9)\n",
      "Requirement already satisfied: pyasn1-modules>=0.2.1 in .\\lib\\site-packages (from google-auth~=2.0->databricks-sdk<1,>=0.20.0->mlflow-skinny==2.18.0->mlflow) (0.4.1)\n",
      "Requirement already satisfied: pyasn1<0.7.0,>=0.4.6 in .\\lib\\site-packages (from pyasn1-modules>=0.2.1->google-auth~=2.0->databricks-sdk<1,>=0.20.0->mlflow-skinny==2.18.0->mlflow) (0.6.1)\n"
     ]
    },
    {
     "name": "stderr",
     "output_type": "stream",
     "text": [
      "\n",
      "[notice] A new release of pip is available: 23.0.1 -> 24.3.1\n",
      "[notice] To update, run: python310.exe -m pip install --upgrade pip\n"
     ]
    },
    {
     "name": "stdout",
     "output_type": "stream",
     "text": [
      "Requirement already satisfied: bayesian-optimization in .\\lib\\site-packages (2.0.0)\n",
      "Requirement already satisfied: numpy>=1.25 in .\\lib\\site-packages (from bayesian-optimization) (2.0.0)\n",
      "Requirement already satisfied: colorama<0.5.0,>=0.4.6 in .\\lib\\site-packages (from bayesian-optimization) (0.4.6)\n",
      "Requirement already satisfied: scikit-learn<2.0.0,>=1.0.0 in .\\lib\\site-packages (from bayesian-optimization) (1.5.2)\n",
      "Requirement already satisfied: scipy<2.0.0,>=1.0.0 in .\\lib\\site-packages (from bayesian-optimization) (1.14.1)\n",
      "Requirement already satisfied: threadpoolctl>=3.1.0 in .\\lib\\site-packages (from scikit-learn<2.0.0,>=1.0.0->bayesian-optimization) (3.5.0)\n",
      "Requirement already satisfied: joblib>=1.2.0 in .\\lib\\site-packages (from scikit-learn<2.0.0,>=1.0.0->bayesian-optimization) (1.4.2)\n"
     ]
    },
    {
     "name": "stderr",
     "output_type": "stream",
     "text": [
      "\n",
      "[notice] A new release of pip is available: 23.0.1 -> 24.3.1\n",
      "[notice] To update, run: python310.exe -m pip install --upgrade pip\n"
     ]
    },
    {
     "name": "stdout",
     "output_type": "stream",
     "text": [
      "Requirement already satisfied: xgboost==2.1.2 in .\\lib\\site-packages (2.1.2)\n",
      "Requirement already satisfied: numpy in .\\lib\\site-packages (from xgboost==2.1.2) (2.0.0)\n",
      "Requirement already satisfied: scipy in .\\lib\\site-packages (from xgboost==2.1.2) (1.14.1)\n"
     ]
    },
    {
     "name": "stderr",
     "output_type": "stream",
     "text": [
      "\n",
      "[notice] A new release of pip is available: 23.0.1 -> 24.3.1\n",
      "[notice] To update, run: python310.exe -m pip install --upgrade pip\n"
     ]
    },
    {
     "name": "stdout",
     "output_type": "stream",
     "text": [
      "Requirement already satisfied: optuna in .\\lib\\site-packages (4.1.0)\n",
      "Requirement already satisfied: tqdm in .\\lib\\site-packages (from optuna) (4.67.1)\n",
      "Requirement already satisfied: colorlog in .\\lib\\site-packages (from optuna) (6.9.0)\n",
      "Requirement already satisfied: PyYAML in .\\lib\\site-packages (from optuna) (6.0.2)\n",
      "Requirement already satisfied: sqlalchemy>=1.4.2 in .\\lib\\site-packages (from optuna) (2.0.36)\n",
      "Requirement already satisfied: alembic>=1.5.0 in .\\lib\\site-packages (from optuna) (1.14.0)\n",
      "Requirement already satisfied: numpy in .\\lib\\site-packages (from optuna) (2.0.0)\n",
      "Requirement already satisfied: packaging>=20.0 in .\\lib\\site-packages (from optuna) (24.2)\n",
      "Requirement already satisfied: Mako in .\\lib\\site-packages (from alembic>=1.5.0->optuna) (1.3.6)\n",
      "Requirement already satisfied: typing-extensions>=4 in .\\lib\\site-packages (from alembic>=1.5.0->optuna) (4.12.2)\n",
      "Requirement already satisfied: greenlet!=0.4.17 in .\\lib\\site-packages (from sqlalchemy>=1.4.2->optuna) (3.1.1)\n",
      "Requirement already satisfied: colorama in .\\lib\\site-packages (from colorlog->optuna) (0.4.6)\n",
      "Requirement already satisfied: MarkupSafe>=0.9.2 in .\\lib\\site-packages (from Mako->alembic>=1.5.0->optuna) (3.0.2)\n"
     ]
    },
    {
     "name": "stderr",
     "output_type": "stream",
     "text": [
      "\n",
      "[notice] A new release of pip is available: 23.0.1 -> 24.3.1\n",
      "[notice] To update, run: python310.exe -m pip install --upgrade pip\n"
     ]
    },
    {
     "name": "stdout",
     "output_type": "stream",
     "text": [
      "Requirement already satisfied: optuna-integration[mlflow] in .\\lib\\site-packages (4.1.0)\n",
      "Requirement already satisfied: optuna in .\\lib\\site-packages (from optuna-integration[mlflow]) (4.1.0)\n",
      "Requirement already satisfied: mlflow in .\\lib\\site-packages (from optuna-integration[mlflow]) (2.18.0)\n",
      "Requirement already satisfied: Flask<4 in .\\lib\\site-packages (from mlflow->optuna-integration[mlflow]) (3.1.0)\n",
      "Requirement already satisfied: alembic!=1.10.0,<2 in .\\lib\\site-packages (from mlflow->optuna-integration[mlflow]) (1.14.0)\n",
      "Requirement already satisfied: graphene<4 in .\\lib\\site-packages (from mlflow->optuna-integration[mlflow]) (3.4.3)\n",
      "Requirement already satisfied: markdown<4,>=3.3 in .\\lib\\site-packages (from mlflow->optuna-integration[mlflow]) (3.7)\n",
      "Requirement already satisfied: pyarrow<19,>=4.0.0 in .\\lib\\site-packages (from mlflow->optuna-integration[mlflow]) (18.1.0)\n",
      "Requirement already satisfied: waitress<4 in .\\lib\\site-packages (from mlflow->optuna-integration[mlflow]) (3.0.2)\n",
      "Requirement already satisfied: mlflow-skinny==2.18.0 in .\\lib\\site-packages (from mlflow->optuna-integration[mlflow]) (2.18.0)\n",
      "Requirement already satisfied: docker<8,>=4.0.0 in .\\lib\\site-packages (from mlflow->optuna-integration[mlflow]) (7.1.0)\n",
      "Requirement already satisfied: Jinja2<4,>=3.0 in .\\lib\\site-packages (from mlflow->optuna-integration[mlflow]) (3.1.4)\n",
      "Requirement already satisfied: pandas<3 in .\\lib\\site-packages (from mlflow->optuna-integration[mlflow]) (2.2.3)\n",
      "Requirement already satisfied: numpy<3 in .\\lib\\site-packages (from mlflow->optuna-integration[mlflow]) (2.0.0)\n",
      "Requirement already satisfied: sqlalchemy<3,>=1.4.0 in .\\lib\\site-packages (from mlflow->optuna-integration[mlflow]) (2.0.36)\n",
      "Requirement already satisfied: scipy<2 in .\\lib\\site-packages (from mlflow->optuna-integration[mlflow]) (1.14.1)\n",
      "Requirement already satisfied: scikit-learn<2 in .\\lib\\site-packages (from mlflow->optuna-integration[mlflow]) (1.5.2)\n",
      "Requirement already satisfied: matplotlib<4 in .\\lib\\site-packages (from mlflow->optuna-integration[mlflow]) (3.9.2)\n",
      "Requirement already satisfied: packaging<25 in .\\lib\\site-packages (from mlflow-skinny==2.18.0->mlflow->optuna-integration[mlflow]) (24.2)\n",
      "Requirement already satisfied: requests<3,>=2.17.3 in .\\lib\\site-packages (from mlflow-skinny==2.18.0->mlflow->optuna-integration[mlflow]) (2.32.3)\n",
      "Requirement already satisfied: databricks-sdk<1,>=0.20.0 in .\\lib\\site-packages (from mlflow-skinny==2.18.0->mlflow->optuna-integration[mlflow]) (0.38.0)\n",
      "Requirement already satisfied: importlib-metadata!=4.7.0,<9,>=3.7.0 in .\\lib\\site-packages (from mlflow-skinny==2.18.0->mlflow->optuna-integration[mlflow]) (8.5.0)\n",
      "Requirement already satisfied: gitpython<4,>=3.1.9 in .\\lib\\site-packages (from mlflow-skinny==2.18.0->mlflow->optuna-integration[mlflow]) (3.1.43)\n",
      "Requirement already satisfied: cloudpickle<4 in .\\lib\\site-packages (from mlflow-skinny==2.18.0->mlflow->optuna-integration[mlflow]) (3.1.0)\n",
      "Requirement already satisfied: opentelemetry-api<3,>=1.9.0 in .\\lib\\site-packages (from mlflow-skinny==2.18.0->mlflow->optuna-integration[mlflow]) (1.28.2)\n",
      "Requirement already satisfied: cachetools<6,>=5.0.0 in .\\lib\\site-packages (from mlflow-skinny==2.18.0->mlflow->optuna-integration[mlflow]) (5.5.0)\n",
      "Requirement already satisfied: sqlparse<1,>=0.4.0 in .\\lib\\site-packages (from mlflow-skinny==2.18.0->mlflow->optuna-integration[mlflow]) (0.5.2)\n",
      "Requirement already satisfied: opentelemetry-sdk<3,>=1.9.0 in .\\lib\\site-packages (from mlflow-skinny==2.18.0->mlflow->optuna-integration[mlflow]) (1.28.2)\n",
      "Requirement already satisfied: click<9,>=7.0 in .\\lib\\site-packages (from mlflow-skinny==2.18.0->mlflow->optuna-integration[mlflow]) (8.1.7)\n",
      "Requirement already satisfied: pyyaml<7,>=5.1 in .\\lib\\site-packages (from mlflow-skinny==2.18.0->mlflow->optuna-integration[mlflow]) (6.0.2)\n",
      "Requirement already satisfied: protobuf<6,>=3.12.0 in .\\lib\\site-packages (from mlflow-skinny==2.18.0->mlflow->optuna-integration[mlflow]) (5.29.0)\n",
      "Requirement already satisfied: colorlog in .\\lib\\site-packages (from optuna->optuna-integration[mlflow]) (6.9.0)\n",
      "Requirement already satisfied: tqdm in .\\lib\\site-packages (from optuna->optuna-integration[mlflow]) (4.67.1)\n",
      "Requirement already satisfied: typing-extensions>=4 in .\\lib\\site-packages (from alembic!=1.10.0,<2->mlflow->optuna-integration[mlflow]) (4.12.2)\n",
      "Requirement already satisfied: Mako in .\\lib\\site-packages (from alembic!=1.10.0,<2->mlflow->optuna-integration[mlflow]) (1.3.6)\n",
      "Requirement already satisfied: urllib3>=1.26.0 in .\\lib\\site-packages (from docker<8,>=4.0.0->mlflow->optuna-integration[mlflow]) (2.2.3)\n",
      "Requirement already satisfied: pywin32>=304 in .\\lib\\site-packages (from docker<8,>=4.0.0->mlflow->optuna-integration[mlflow]) (308)\n",
      "Requirement already satisfied: Werkzeug>=3.1 in .\\lib\\site-packages (from Flask<4->mlflow->optuna-integration[mlflow]) (3.1.3)\n",
      "Requirement already satisfied: itsdangerous>=2.2 in .\\lib\\site-packages (from Flask<4->mlflow->optuna-integration[mlflow]) (2.2.0)\n",
      "Requirement already satisfied: blinker>=1.9 in .\\lib\\site-packages (from Flask<4->mlflow->optuna-integration[mlflow]) (1.9.0)\n",
      "Requirement already satisfied: graphql-core<3.3,>=3.1 in .\\lib\\site-packages (from graphene<4->mlflow->optuna-integration[mlflow]) (3.2.5)\n",
      "Requirement already satisfied: graphql-relay<3.3,>=3.1 in .\\lib\\site-packages (from graphene<4->mlflow->optuna-integration[mlflow]) (3.2.0)\n",
      "Requirement already satisfied: python-dateutil<3,>=2.7.0 in .\\lib\\site-packages (from graphene<4->mlflow->optuna-integration[mlflow]) (2.9.0.post0)\n",
      "Requirement already satisfied: MarkupSafe>=2.0 in .\\lib\\site-packages (from Jinja2<4,>=3.0->mlflow->optuna-integration[mlflow]) (3.0.2)\n",
      "Requirement already satisfied: pillow>=8 in .\\lib\\site-packages (from matplotlib<4->mlflow->optuna-integration[mlflow]) (11.0.0)\n",
      "Requirement already satisfied: contourpy>=1.0.1 in .\\lib\\site-packages (from matplotlib<4->mlflow->optuna-integration[mlflow]) (1.3.1)\n",
      "Requirement already satisfied: kiwisolver>=1.3.1 in .\\lib\\site-packages (from matplotlib<4->mlflow->optuna-integration[mlflow]) (1.4.7)\n",
      "Requirement already satisfied: pyparsing>=2.3.1 in .\\lib\\site-packages (from matplotlib<4->mlflow->optuna-integration[mlflow]) (3.2.0)\n",
      "Requirement already satisfied: cycler>=0.10 in .\\lib\\site-packages (from matplotlib<4->mlflow->optuna-integration[mlflow]) (0.12.1)\n",
      "Requirement already satisfied: fonttools>=4.22.0 in .\\lib\\site-packages (from matplotlib<4->mlflow->optuna-integration[mlflow]) (4.55.0)\n",
      "Requirement already satisfied: tzdata>=2022.7 in .\\lib\\site-packages (from pandas<3->mlflow->optuna-integration[mlflow]) (2024.2)\n",
      "Requirement already satisfied: pytz>=2020.1 in .\\lib\\site-packages (from pandas<3->mlflow->optuna-integration[mlflow]) (2024.2)\n",
      "Requirement already satisfied: joblib>=1.2.0 in .\\lib\\site-packages (from scikit-learn<2->mlflow->optuna-integration[mlflow]) (1.4.2)\n",
      "Requirement already satisfied: threadpoolctl>=3.1.0 in .\\lib\\site-packages (from scikit-learn<2->mlflow->optuna-integration[mlflow]) (3.5.0)\n",
      "Requirement already satisfied: greenlet!=0.4.17 in .\\lib\\site-packages (from sqlalchemy<3,>=1.4.0->mlflow->optuna-integration[mlflow]) (3.1.1)\n",
      "Requirement already satisfied: colorama in .\\lib\\site-packages (from colorlog->optuna->optuna-integration[mlflow]) (0.4.6)\n",
      "Requirement already satisfied: google-auth~=2.0 in .\\lib\\site-packages (from databricks-sdk<1,>=0.20.0->mlflow-skinny==2.18.0->mlflow->optuna-integration[mlflow]) (2.36.0)\n",
      "Requirement already satisfied: gitdb<5,>=4.0.1 in .\\lib\\site-packages (from gitpython<4,>=3.1.9->mlflow-skinny==2.18.0->mlflow->optuna-integration[mlflow]) (4.0.11)\n",
      "Requirement already satisfied: zipp>=3.20 in .\\lib\\site-packages (from importlib-metadata!=4.7.0,<9,>=3.7.0->mlflow-skinny==2.18.0->mlflow->optuna-integration[mlflow]) (3.21.0)\n",
      "Requirement already satisfied: deprecated>=1.2.6 in .\\lib\\site-packages (from opentelemetry-api<3,>=1.9.0->mlflow-skinny==2.18.0->mlflow->optuna-integration[mlflow]) (1.2.15)\n",
      "Requirement already satisfied: opentelemetry-semantic-conventions==0.49b2 in .\\lib\\site-packages (from opentelemetry-sdk<3,>=1.9.0->mlflow-skinny==2.18.0->mlflow->optuna-integration[mlflow]) (0.49b2)\n",
      "Requirement already satisfied: six>=1.5 in .\\lib\\site-packages (from python-dateutil<3,>=2.7.0->graphene<4->mlflow->optuna-integration[mlflow]) (1.16.0)\n",
      "Requirement already satisfied: certifi>=2017.4.17 in .\\lib\\site-packages (from requests<3,>=2.17.3->mlflow-skinny==2.18.0->mlflow->optuna-integration[mlflow]) (2024.8.30)\n",
      "Requirement already satisfied: charset-normalizer<4,>=2 in .\\lib\\site-packages (from requests<3,>=2.17.3->mlflow-skinny==2.18.0->mlflow->optuna-integration[mlflow]) (3.4.0)\n",
      "Requirement already satisfied: idna<4,>=2.5 in .\\lib\\site-packages (from requests<3,>=2.17.3->mlflow-skinny==2.18.0->mlflow->optuna-integration[mlflow]) (3.10)\n",
      "Requirement already satisfied: wrapt<2,>=1.10 in .\\lib\\site-packages (from deprecated>=1.2.6->opentelemetry-api<3,>=1.9.0->mlflow-skinny==2.18.0->mlflow->optuna-integration[mlflow]) (1.17.0)\n",
      "Requirement already satisfied: smmap<6,>=3.0.1 in .\\lib\\site-packages (from gitdb<5,>=4.0.1->gitpython<4,>=3.1.9->mlflow-skinny==2.18.0->mlflow->optuna-integration[mlflow]) (5.0.1)\n",
      "Requirement already satisfied: pyasn1-modules>=0.2.1 in .\\lib\\site-packages (from google-auth~=2.0->databricks-sdk<1,>=0.20.0->mlflow-skinny==2.18.0->mlflow->optuna-integration[mlflow]) (0.4.1)\n",
      "Requirement already satisfied: rsa<5,>=3.1.4 in .\\lib\\site-packages (from google-auth~=2.0->databricks-sdk<1,>=0.20.0->mlflow-skinny==2.18.0->mlflow->optuna-integration[mlflow]) (4.9)\n",
      "Requirement already satisfied: pyasn1<0.7.0,>=0.4.6 in .\\lib\\site-packages (from pyasn1-modules>=0.2.1->google-auth~=2.0->databricks-sdk<1,>=0.20.0->mlflow-skinny==2.18.0->mlflow->optuna-integration[mlflow]) (0.6.1)\n"
     ]
    },
    {
     "name": "stderr",
     "output_type": "stream",
     "text": [
      "\n",
      "[notice] A new release of pip is available: 23.0.1 -> 24.3.1\n",
      "[notice] To update, run: python310.exe -m pip install --upgrade pip\n"
     ]
    }
   ],
   "source": [
    "# Install dependencies\n",
    "# !pip3 uninstall numpy\n",
    "!pip3 install --upgrade numpy==2.0.0\n",
    "!pip3 install pandas\n",
    "!pip3 install scikit-learn mlflow seaborn shap\n",
    "!pip3 install bayesian-optimization\n",
    "!pip3 install xgboost==2.1.2\n",
    "!pip3 install optuna\n",
    "!pip3 install optuna-integration[mlflow]\n"
   ]
  },
  {
   "cell_type": "markdown",
   "metadata": {},
   "source": [
    "# Import package"
   ]
  },
  {
   "cell_type": "code",
   "execution_count": null,
   "metadata": {},
   "outputs": [],
   "source": [
    "# Import library\n",
    "\n",
    "import pandas as pd\n",
    "import numpy as np\n",
    "\n",
    "import mlflow\n",
    "from mlflow import MlflowClient\n",
    "from mlflow.models import infer_signature, make_metric\n",
    "from optuna.integration.mlflow import MLflowCallback\n",
    "from sklearn.preprocessing import StandardScaler, LabelEncoder\n",
    "from sklearn.model_selection import train_test_split\n",
    "from sklearn.ensemble import RandomForestClassifier\n",
    "from sklearn.tree import DecisionTreeClassifier\n",
    "from sklearn.metrics import confusion_matrix, precision_score, recall_score, f1_score, accuracy_score, classification_report\n",
    "from sklearn.model_selection import StratifiedKFold, GridSearchCV, RandomizedSearchCV\n",
    "from sklearn.naive_bayes import GaussianNB\n",
    "from sklearn.inspection import permutation_importance\n",
    "from sklearn.linear_model import LogisticRegression\n",
    "from xgboost import XGBClassifier, plot_importance\n",
    "import seaborn as sns\n",
    "import matplotlib.pyplot as plt\n",
    "import shap\n",
    "import optuna\n",
    "import os, json"
   ]
  },
  {
   "cell_type": "markdown",
   "metadata": {},
   "source": [
    "# Prepare dataset\n",
    "Because test dataset not have label, we must split train dataset to 2 parts. One for train and one for validate. We just do this on the first time"
   ]
  },
  {
   "cell_type": "code",
   "execution_count": 25,
   "metadata": {},
   "outputs": [],
   "source": [
    "# Read dataset\n",
    "# df = pd.read_csv('data/data.csv')\n",
    "# train_test_data, validate_data = train_test_split(df, test_size=0.2, random_state=42)\n",
    "# train_test_data.to_csv('data/train_.csv', index=False, header=True)\n",
    "# validate_data.to_csv('data/validate.csv', index=False, header=True)"
   ]
  },
  {
   "cell_type": "markdown",
   "metadata": {},
   "source": [
    "Now we check some information of dataset"
   ]
  },
  {
   "cell_type": "code",
   "execution_count": 26,
   "metadata": {},
   "outputs": [
    {
     "name": "stdout",
     "output_type": "stream",
     "text": [
      "<class 'pandas.core.frame.DataFrame'>\n",
      "RangeIndex: 1560110 entries, 0 to 1560109\n",
      "Data columns (total 48 columns):\n",
      " #   Column           Non-Null Count    Dtype  \n",
      "---  ------           --------------    -----  \n",
      " 0   ID               1560110 non-null  int64  \n",
      " 1   flow_duration    1560110 non-null  float64\n",
      " 2   Header_Length    1404309 non-null  float64\n",
      " 3   Protocol type    1404300 non-null  float64\n",
      " 4   Duration         1404067 non-null  float64\n",
      " 5   Rate             1403930 non-null  float64\n",
      " 6   Srate            1404035 non-null  float64\n",
      " 7   Drate            1404061 non-null  float64\n",
      " 8   fin_flag_number  1560110 non-null  float64\n",
      " 9   syn_flag_number  1560110 non-null  float64\n",
      " 10  rst_flag_number  1404080 non-null  float64\n",
      " 11  psh_flag_number  1404104 non-null  float64\n",
      " 12  ack_flag_number  1560110 non-null  float64\n",
      " 13  ece_flag_number  1404221 non-null  float64\n",
      " 14  cwr_flag_number  1403991 non-null  float64\n",
      " 15  ack_count        1404032 non-null  float64\n",
      " 16  syn_count        1403832 non-null  float64\n",
      " 17  fin_count        1560110 non-null  float64\n",
      " 18  urg_count        1560110 non-null  float64\n",
      " 19  rst_count        1560110 non-null  float64\n",
      " 20  HTTP             1404117 non-null  float64\n",
      " 21  HTTPS            1403711 non-null  float64\n",
      " 22  DNS              1560110 non-null  float64\n",
      " 23  Telnet           1404066 non-null  float64\n",
      " 24  SMTP             1404278 non-null  float64\n",
      " 25  SSH              1403849 non-null  float64\n",
      " 26  IRC              1560110 non-null  float64\n",
      " 27  TCP              1404100 non-null  float64\n",
      " 28  UDP              1560110 non-null  float64\n",
      " 29  DHCP             1560110 non-null  float64\n",
      " 30  ARP              1403921 non-null  float64\n",
      " 31  ICMP             1404122 non-null  float64\n",
      " 32  IPv              1560110 non-null  float64\n",
      " 33  LLC              1560110 non-null  float64\n",
      " 34  Tot sum          1404310 non-null  float64\n",
      " 35  Min              1403972 non-null  float64\n",
      " 36  Max              1404149 non-null  float64\n",
      " 37  AVG              1560110 non-null  float64\n",
      " 38  Std              1404052 non-null  float64\n",
      " 39  Tot size         1404172 non-null  float64\n",
      " 40  IAT              1403895 non-null  float64\n",
      " 41  Number           1560110 non-null  float64\n",
      " 42  Magnitue         1560110 non-null  float64\n",
      " 43  Radius           1404204 non-null  float64\n",
      " 44  Covariance       1403878 non-null  float64\n",
      " 45  Variance         1404004 non-null  float64\n",
      " 46  Weight           1560110 non-null  float64\n",
      " 47  Label            1560110 non-null  object \n",
      "dtypes: float64(46), int64(1), object(1)\n",
      "memory usage: 571.3+ MB\n"
     ]
    },
    {
     "data": {
      "text/plain": [
       "ID                      0\n",
       "flow_duration           0\n",
       "Header_Length      155801\n",
       "Protocol type      155810\n",
       "Duration           156043\n",
       "Rate               156180\n",
       "Srate              156075\n",
       "Drate              156049\n",
       "fin_flag_number         0\n",
       "syn_flag_number         0\n",
       "rst_flag_number    156030\n",
       "psh_flag_number    156006\n",
       "ack_flag_number         0\n",
       "ece_flag_number    155889\n",
       "cwr_flag_number    156119\n",
       "ack_count          156078\n",
       "syn_count          156278\n",
       "fin_count               0\n",
       "urg_count               0\n",
       "rst_count               0\n",
       "HTTP               155993\n",
       "HTTPS              156399\n",
       "DNS                     0\n",
       "Telnet             156044\n",
       "SMTP               155832\n",
       "SSH                156261\n",
       "IRC                     0\n",
       "TCP                156010\n",
       "UDP                     0\n",
       "DHCP                    0\n",
       "ARP                156189\n",
       "ICMP               155988\n",
       "IPv                     0\n",
       "LLC                     0\n",
       "Tot sum            155800\n",
       "Min                156138\n",
       "Max                155961\n",
       "AVG                     0\n",
       "Std                156058\n",
       "Tot size           155938\n",
       "IAT                156215\n",
       "Number                  0\n",
       "Magnitue                0\n",
       "Radius             155906\n",
       "Covariance         156232\n",
       "Variance           156106\n",
       "Weight                  0\n",
       "Label                   0\n",
       "dtype: int64"
      ]
     },
     "execution_count": 26,
     "metadata": {},
     "output_type": "execute_result"
    }
   ],
   "source": [
    "# Check dataset\n",
    "df = pd.read_csv('data/train_.csv')\n",
    "df.head()\n",
    "# print(\"Dataset column\")\n",
    "df.columns\n",
    "# print(\"Summary of dataset info\")\n",
    "df.info()\n",
    "# print(\"view dimensions of dataset\")\n",
    "df.shape\n",
    "\n",
    "# for col in df.columns:\n",
    "#   if df[col].dtype != 'object':  # Exclude non-numeric columns\n",
    "#     min_val = df[col].min()\n",
    "#     max_val = df[col].max()\n",
    "#     print(f\"Column: {col}\")\n",
    "#     print(f\"Minimum: {min_val}\")\n",
    "#     print(f\"Maximum: {max_val}\")\n",
    "#     print()\n",
    "\n",
    "df.isnull().sum()\n"
   ]
  },
  {
   "cell_type": "markdown",
   "metadata": {},
   "source": [
    "We see some cell have null value, we can not drop which rows have null cell because it to much. So we just fill all null value = -1"
   ]
  },
  {
   "cell_type": "code",
   "execution_count": 27,
   "metadata": {},
   "outputs": [
    {
     "name": "stdout",
     "output_type": "stream",
     "text": [
      "ID                      0\n",
      "flow_duration           0\n",
      "Header_Length      155801\n",
      "Protocol type      155810\n",
      "Duration           156043\n",
      "Rate               156180\n",
      "Srate              156075\n",
      "Drate              156049\n",
      "fin_flag_number         0\n",
      "syn_flag_number         0\n",
      "rst_flag_number    156030\n",
      "psh_flag_number    156006\n",
      "ack_flag_number         0\n",
      "ece_flag_number    155889\n",
      "cwr_flag_number    156119\n",
      "ack_count          156078\n",
      "syn_count          156278\n",
      "fin_count               0\n",
      "urg_count               0\n",
      "rst_count               0\n",
      "HTTP               155993\n",
      "HTTPS              156399\n",
      "DNS                     0\n",
      "Telnet             156044\n",
      "SMTP               155832\n",
      "SSH                156261\n",
      "IRC                     0\n",
      "TCP                156010\n",
      "UDP                     0\n",
      "DHCP                    0\n",
      "ARP                156189\n",
      "ICMP               155988\n",
      "IPv                     0\n",
      "LLC                     0\n",
      "Tot sum            155800\n",
      "Min                156138\n",
      "Max                155961\n",
      "AVG                     0\n",
      "Std                156058\n",
      "Tot size           155938\n",
      "IAT                156215\n",
      "Number                  0\n",
      "Magnitue                0\n",
      "Radius             155906\n",
      "Covariance         156232\n",
      "Variance           156106\n",
      "Weight                  0\n",
      "Label                   0\n",
      "dtype: int64\n"
     ]
    }
   ],
   "source": [
    "# Fill all null data as -1\n",
    "\n",
    "val_dataset_ = pd.read_csv('data/validate.csv')\n",
    "val_dataset = val_dataset_.fillna(-1, inplace=False)\n",
    "\n",
    "print(df.isnull().sum())\n",
    "\n",
    "data_n_null = df.fillna(-1, inplace=False)\n",
    "data_n_null.isnull().sum()\n",
    "data_n_null.head()\n",
    "data_n_null.duplicated().sum()\n",
    "data_n_null['Label'].unique().tolist()\n",
    "\n",
    "\n",
    "X_val = val_dataset.drop(columns=['Label'])\n",
    "y_val = val_dataset['Label']\n"
   ]
  },
  {
   "cell_type": "markdown",
   "metadata": {},
   "source": [
    "For tracking during training, we using MLflow. The software defined by container in mlflow folder"
   ]
  },
  {
   "cell_type": "code",
   "execution_count": 28,
   "metadata": {},
   "outputs": [],
   "source": [
    "# Set mlflow as tracking server\n",
    "ML_TRACKING_URL = \"http://localhost:5000\"\n",
    "mlflow.set_tracking_uri(ML_TRACKING_URL)"
   ]
  },
  {
   "cell_type": "markdown",
   "metadata": {},
   "source": [
    "# Train model\n",
    "We train with some model with these steps\n",
    "- We training with small part of dataset (0.2 or 0.3): dataset_frac\n",
    "- We log artifacts, we see some column less contribute in  Feature Importance Score, so we delete it\n",
    "- We train with full dataset, verify droped column is correct and need modify or not\n",
    "- We use RandomizedSearchCV to search parameter\n",
    "- We save best parameter to mlflow. With mlflow.sklearn.autolog, model and its metrics was save to model registry. We just download it and use"
   ]
  },
  {
   "cell_type": "markdown",
   "metadata": {},
   "source": [
    "## Decision Tree\n"
   ]
  },
  {
   "cell_type": "code",
   "execution_count": null,
   "metadata": {},
   "outputs": [
    {
     "data": {
      "application/vnd.jupyter.widget-view+json": {
       "model_id": "c196868479554c7384290f75b32d5c19",
       "version_major": 2,
       "version_minor": 0
      },
      "text/plain": [
       "  0%|          | 0/100 [00:00<?, ?it/s]"
      ]
     },
     "metadata": {},
     "output_type": "display_data"
    },
    {
     "name": "stdout",
     "output_type": "stream",
     "text": [
      "🏃 View run welcoming-swan-369 at: http://localhost:5000/#/experiments/5/runs/0f8e3ee641e04335b21339a6e36b19af\n",
      "🧪 View experiment at: http://localhost:5000/#/experiments/5\n",
      "Initial trial 0 achieved value: 0.8468287820706768\n",
      "🏃 View run luminous-pig-19 at: http://localhost:5000/#/experiments/5/runs/4491782fa4974afdb5b43f57f1bb34cb\n",
      "🧪 View experiment at: http://localhost:5000/#/experiments/5\n",
      "Trial 1 achieved value: 0.919595941077566 with  7.9129% improvement\n",
      "🏃 View run nimble-skink-793 at: http://localhost:5000/#/experiments/5/runs/59450eb87e4f4fb283a95ba9de8ee3f5\n",
      "🧪 View experiment at: http://localhost:5000/#/experiments/5\n",
      "Trial 2 achieved value: 0.9255817686520453 with  0.6467% improvement\n",
      "🏃 View run crawling-sow-629 at: http://localhost:5000/#/experiments/5/runs/824698ad2473499b88eb47b0704c8c44\n",
      "🧪 View experiment at: http://localhost:5000/#/experiments/5\n",
      "Trial 3 achieved value: 0.926723055867559 with  0.1232% improvement\n",
      "🏃 View run dapper-newt-514 at: http://localhost:5000/#/experiments/5/runs/ba7bfe91ebc84eb08cdf2e1224d98d2d\n",
      "🧪 View experiment at: http://localhost:5000/#/experiments/5\n",
      "Trial 4 achieved value: 0.928280966920383 with  0.1678% improvement\n",
      "🏃 View run languid-loon-582 at: http://localhost:5000/#/experiments/5/runs/6861f1921beb4d30bbc9190ac39404ff\n",
      "🧪 View experiment at: http://localhost:5000/#/experiments/5\n",
      "Trial 5 achieved value: 0.9292273121846748 with  0.1018% improvement\n"
     ]
    },
    {
     "name": "stderr",
     "output_type": "stream",
     "text": [
      "d:\\project\\mlsec\\final\\project\\lib\\site-packages\\sklearn\\metrics\\_classification.py:1531: UndefinedMetricWarning: Precision is ill-defined and being set to 0.0 in labels with no predicted samples. Use `zero_division` parameter to control this behavior.\n",
      "  _warn_prf(average, modifier, f\"{metric.capitalize()} is\", len(result))\n",
      "d:\\project\\mlsec\\final\\project\\lib\\site-packages\\sklearn\\metrics\\_classification.py:1531: UndefinedMetricWarning: Precision is ill-defined and being set to 0.0 in labels with no predicted samples. Use `zero_division` parameter to control this behavior.\n",
      "  _warn_prf(average, modifier, f\"{metric.capitalize()} is\", len(result))\n"
     ]
    },
    {
     "name": "stdout",
     "output_type": "stream",
     "text": [
      "🏃 View run chill-bass-538 at: http://localhost:5000/#/experiments/5/runs/c69f2803924f4735b5db1fb19a8ed933\n",
      "🧪 View experiment at: http://localhost:5000/#/experiments/5\n",
      "🏃 View run traveling-smelt-874 at: http://localhost:5000/#/experiments/5/runs/c81af560dcfe46608617b5aaa24448db\n",
      "🧪 View experiment at: http://localhost:5000/#/experiments/5\n",
      "Trial 7 achieved value: 0.9293448766421688 with  0.0127% improvement\n"
     ]
    },
    {
     "name": "stderr",
     "output_type": "stream",
     "text": [
      "d:\\project\\mlsec\\final\\project\\lib\\site-packages\\sklearn\\metrics\\_classification.py:1531: UndefinedMetricWarning: Precision is ill-defined and being set to 0.0 in labels with no predicted samples. Use `zero_division` parameter to control this behavior.\n",
      "  _warn_prf(average, modifier, f\"{metric.capitalize()} is\", len(result))\n",
      "d:\\project\\mlsec\\final\\project\\lib\\site-packages\\sklearn\\metrics\\_classification.py:1531: UndefinedMetricWarning: Precision is ill-defined and being set to 0.0 in labels with no predicted samples. Use `zero_division` parameter to control this behavior.\n",
      "  _warn_prf(average, modifier, f\"{metric.capitalize()} is\", len(result))\n"
     ]
    },
    {
     "name": "stdout",
     "output_type": "stream",
     "text": [
      "🏃 View run exultant-yak-651 at: http://localhost:5000/#/experiments/5/runs/cfff0320d8a24ef2af40469fe2e050b6\n",
      "🧪 View experiment at: http://localhost:5000/#/experiments/5\n",
      "🏃 View run placid-moth-842 at: http://localhost:5000/#/experiments/5/runs/e9b35a3c8a6944eea5916db902a164e1\n",
      "🧪 View experiment at: http://localhost:5000/#/experiments/5\n",
      "🏃 View run rumbling-smelt-717 at: http://localhost:5000/#/experiments/5/runs/01b386c8f2664d68b6cdd8e5b968aeac\n",
      "🧪 View experiment at: http://localhost:5000/#/experiments/5\n",
      "🏃 View run likeable-gnu-122 at: http://localhost:5000/#/experiments/5/runs/807361d5236341a689a78aa629dfd236\n",
      "🧪 View experiment at: http://localhost:5000/#/experiments/5\n",
      "🏃 View run respected-shoat-871 at: http://localhost:5000/#/experiments/5/runs/03e68937b07d4e8092a92b3b38328de4\n",
      "🧪 View experiment at: http://localhost:5000/#/experiments/5\n",
      "🏃 View run abundant-gull-324 at: http://localhost:5000/#/experiments/5/runs/5158fbbb40dc48679a24311be3bbf95e\n",
      "🧪 View experiment at: http://localhost:5000/#/experiments/5\n",
      "🏃 View run loud-mouse-253 at: http://localhost:5000/#/experiments/5/runs/ebbfb019bcd94d1d8831d4dfcaa18311\n",
      "🧪 View experiment at: http://localhost:5000/#/experiments/5\n",
      "🏃 View run luminous-bass-716 at: http://localhost:5000/#/experiments/5/runs/fb2b055057f6415eaa09e14d1027479d\n",
      "🧪 View experiment at: http://localhost:5000/#/experiments/5\n",
      "🏃 View run abrasive-kite-58 at: http://localhost:5000/#/experiments/5/runs/df9329e9379240b9a6babfed0397c693\n",
      "🧪 View experiment at: http://localhost:5000/#/experiments/5\n",
      "Trial 16 achieved value: 0.9297751222553572 with  0.0463% improvement\n",
      "🏃 View run amazing-loon-832 at: http://localhost:5000/#/experiments/5/runs/10c816729a2a41219b0beff60532c94b\n",
      "🧪 View experiment at: http://localhost:5000/#/experiments/5\n"
     ]
    },
    {
     "name": "stderr",
     "output_type": "stream",
     "text": [
      "2024/12/05 20:49:22 WARNING mlflow.utils.autologging_utils: MLflow autologging encountered a warning: \"d:\\project\\mlsec\\final\\project\\lib\\site-packages\\mlflow\\sklearn\\utils.py:352: RuntimeWarning: More than 20 figures have been opened. Figures created through the pyplot interface (`matplotlib.pyplot.figure`) are retained until explicitly closed and may consume too much memory. (To control this warning, see the rcParam `figure.max_open_warning`). Consider using `matplotlib.pyplot.close()`.\"\n",
      "C:\\Users\\SonNH\\AppData\\Local\\Temp\\ipykernel_7932\\3928576652.py:35: RuntimeWarning: More than 20 figures have been opened. Figures created through the pyplot interface (`matplotlib.pyplot.figure`) are retained until explicitly closed and may consume too much memory. (To control this warning, see the rcParam `figure.max_open_warning`). Consider using `matplotlib.pyplot.close()`.\n",
      "  plt.figure(figsize=(20, 20))\n"
     ]
    },
    {
     "name": "stdout",
     "output_type": "stream",
     "text": [
      "🏃 View run marvelous-smelt-400 at: http://localhost:5000/#/experiments/5/runs/1676d75dfd5644ddaaae2929bbd316fe\n",
      "🧪 View experiment at: http://localhost:5000/#/experiments/5\n",
      "🏃 View run orderly-sponge-876 at: http://localhost:5000/#/experiments/5/runs/130d9c7bcaf8443595952a9ba4d25702\n",
      "🧪 View experiment at: http://localhost:5000/#/experiments/5\n",
      "🏃 View run exultant-ram-362 at: http://localhost:5000/#/experiments/5/runs/ae97e188a03e48998c525ad0ab6112e3\n",
      "🧪 View experiment at: http://localhost:5000/#/experiments/5\n",
      "🏃 View run legendary-stork-273 at: http://localhost:5000/#/experiments/5/runs/bb1a4e78be9b403681e6eb2d42d85899\n",
      "🧪 View experiment at: http://localhost:5000/#/experiments/5\n",
      "🏃 View run learned-cow-382 at: http://localhost:5000/#/experiments/5/runs/efdc5b3e2c004fcd934ec63fd327a26d\n",
      "🧪 View experiment at: http://localhost:5000/#/experiments/5\n",
      "🏃 View run carefree-cub-588 at: http://localhost:5000/#/experiments/5/runs/67575b77b01d4a8ab2a8f65fe96afb03\n",
      "🧪 View experiment at: http://localhost:5000/#/experiments/5\n",
      "🏃 View run bouncy-lamb-776 at: http://localhost:5000/#/experiments/5/runs/e15caa3532b2423899825ac7c08df57e\n",
      "🧪 View experiment at: http://localhost:5000/#/experiments/5\n",
      "🏃 View run fun-hare-397 at: http://localhost:5000/#/experiments/5/runs/9cd317d3508f4b6fa56155f3d4fd7d70\n",
      "🧪 View experiment at: http://localhost:5000/#/experiments/5\n",
      "🏃 View run delicate-wren-281 at: http://localhost:5000/#/experiments/5/runs/d065893129f741b5939b6d724b28d53e\n",
      "🧪 View experiment at: http://localhost:5000/#/experiments/5\n",
      "🏃 View run selective-fox-284 at: http://localhost:5000/#/experiments/5/runs/2efb513269cb410c839a79ed818ab3c2\n",
      "🧪 View experiment at: http://localhost:5000/#/experiments/5\n",
      "🏃 View run judicious-carp-111 at: http://localhost:5000/#/experiments/5/runs/8373a8141a834b6a84336e27ebb6cc28\n",
      "🧪 View experiment at: http://localhost:5000/#/experiments/5\n",
      "🏃 View run funny-bear-788 at: http://localhost:5000/#/experiments/5/runs/46d5c24f4f154d5ea4b1a5ae82ea3683\n",
      "🧪 View experiment at: http://localhost:5000/#/experiments/5\n",
      "🏃 View run secretive-snake-50 at: http://localhost:5000/#/experiments/5/runs/a2615dec0f0547579e3800a844554403\n",
      "🧪 View experiment at: http://localhost:5000/#/experiments/5\n",
      "🏃 View run powerful-bug-717 at: http://localhost:5000/#/experiments/5/runs/6add8682458b423c8baf4c1be047a83f\n",
      "🧪 View experiment at: http://localhost:5000/#/experiments/5\n",
      "🏃 View run respected-fish-567 at: http://localhost:5000/#/experiments/5/runs/252c23ce47d54a9f96b2e9d41ad70e61\n",
      "🧪 View experiment at: http://localhost:5000/#/experiments/5\n",
      "🏃 View run whimsical-goat-682 at: http://localhost:5000/#/experiments/5/runs/d76cd36b9956446e9c820e8e14adf62e\n",
      "🧪 View experiment at: http://localhost:5000/#/experiments/5\n",
      "🏃 View run useful-bird-771 at: http://localhost:5000/#/experiments/5/runs/b4a15bf97dc84ce8ab2eadac87a5457d\n",
      "🧪 View experiment at: http://localhost:5000/#/experiments/5\n",
      "🏃 View run spiffy-carp-275 at: http://localhost:5000/#/experiments/5/runs/66d1c0592cb1432990189ed63a488db1\n",
      "🧪 View experiment at: http://localhost:5000/#/experiments/5\n",
      "🏃 View run respected-midge-264 at: http://localhost:5000/#/experiments/5/runs/34dcfe5889144347aa2b64346e7b5758\n",
      "🧪 View experiment at: http://localhost:5000/#/experiments/5\n",
      "🏃 View run auspicious-crow-406 at: http://localhost:5000/#/experiments/5/runs/43be473b8c6f4ce389d3b4725b09dcbd\n",
      "🧪 View experiment at: http://localhost:5000/#/experiments/5\n",
      "🏃 View run resilient-smelt-943 at: http://localhost:5000/#/experiments/5/runs/cd441325489b46c58877d563e96b06bf\n",
      "🧪 View experiment at: http://localhost:5000/#/experiments/5\n",
      "🏃 View run blushing-lynx-961 at: http://localhost:5000/#/experiments/5/runs/8d7d549b9a2e47f59753a18224412ee9\n",
      "🧪 View experiment at: http://localhost:5000/#/experiments/5\n",
      "🏃 View run clumsy-toad-541 at: http://localhost:5000/#/experiments/5/runs/088b722bc9e144fe82b8f94c44760e6e\n",
      "🧪 View experiment at: http://localhost:5000/#/experiments/5\n",
      "🏃 View run adorable-stoat-689 at: http://localhost:5000/#/experiments/5/runs/f503bf7ed2b04d3baf64a6c20992d25f\n",
      "🧪 View experiment at: http://localhost:5000/#/experiments/5\n",
      "🏃 View run big-lynx-95 at: http://localhost:5000/#/experiments/5/runs/5acb1faa0b6a4ad48011b9d01aab000f\n",
      "🧪 View experiment at: http://localhost:5000/#/experiments/5\n",
      "🏃 View run treasured-hog-187 at: http://localhost:5000/#/experiments/5/runs/6baa806d546c44b3954e9622406d6b1c\n",
      "🧪 View experiment at: http://localhost:5000/#/experiments/5\n",
      "🏃 View run stately-shrew-548 at: http://localhost:5000/#/experiments/5/runs/29468d23b4b14e41a71f5496549ef70d\n",
      "🧪 View experiment at: http://localhost:5000/#/experiments/5\n",
      "🏃 View run placid-foal-129 at: http://localhost:5000/#/experiments/5/runs/438a78cdb2ff412994393c79d90be05f\n",
      "🧪 View experiment at: http://localhost:5000/#/experiments/5\n",
      "🏃 View run unruly-shrimp-662 at: http://localhost:5000/#/experiments/5/runs/7680f7e829254ff78a795231b88b7767\n",
      "🧪 View experiment at: http://localhost:5000/#/experiments/5\n",
      "🏃 View run intrigued-shoat-547 at: http://localhost:5000/#/experiments/5/runs/6ab9ecc8be1749f0b5ffe042f0711a4f\n",
      "🧪 View experiment at: http://localhost:5000/#/experiments/5\n",
      "🏃 View run whimsical-deer-886 at: http://localhost:5000/#/experiments/5/runs/89d53bad77004969aa57fd0ca5c21ceb\n",
      "🧪 View experiment at: http://localhost:5000/#/experiments/5\n",
      "🏃 View run blushing-shrew-896 at: http://localhost:5000/#/experiments/5/runs/2a768851bc1c46269fc879fc10f2de66\n",
      "🧪 View experiment at: http://localhost:5000/#/experiments/5\n",
      "🏃 View run unequaled-carp-642 at: http://localhost:5000/#/experiments/5/runs/c480b7e527244c7bb65f53b290caf3a7\n",
      "🧪 View experiment at: http://localhost:5000/#/experiments/5\n",
      "🏃 View run nosy-sponge-316 at: http://localhost:5000/#/experiments/5/runs/f21d865bffc741c4b2a06717fd50ea1f\n",
      "🧪 View experiment at: http://localhost:5000/#/experiments/5\n",
      "🏃 View run adventurous-frog-131 at: http://localhost:5000/#/experiments/5/runs/2dc4334414024747a1d2b5b0df14ef57\n",
      "🧪 View experiment at: http://localhost:5000/#/experiments/5\n",
      "🏃 View run gaudy-shoat-796 at: http://localhost:5000/#/experiments/5/runs/33bc61f3285a4ec89d39fbeb753c43eb\n",
      "🧪 View experiment at: http://localhost:5000/#/experiments/5\n",
      "🏃 View run rumbling-croc-339 at: http://localhost:5000/#/experiments/5/runs/a01b38b92b48438585e41f6056edfe47\n",
      "🧪 View experiment at: http://localhost:5000/#/experiments/5\n",
      "🏃 View run bustling-doe-303 at: http://localhost:5000/#/experiments/5/runs/7761e08aeb6b49e1bfda640a90f72f1c\n",
      "🧪 View experiment at: http://localhost:5000/#/experiments/5\n",
      "🏃 View run agreeable-auk-6 at: http://localhost:5000/#/experiments/5/runs/978b9af7156b420e8a077d5db3b7ebbe\n",
      "🧪 View experiment at: http://localhost:5000/#/experiments/5\n",
      "🏃 View run exultant-ape-834 at: http://localhost:5000/#/experiments/5/runs/90609b9e76e648f59c3302fbf0dc28c6\n",
      "🧪 View experiment at: http://localhost:5000/#/experiments/5\n",
      "🏃 View run casual-yak-495 at: http://localhost:5000/#/experiments/5/runs/94c4d1f08cd1469c904567c8b2ddd943\n",
      "🧪 View experiment at: http://localhost:5000/#/experiments/5\n",
      "🏃 View run amazing-ape-592 at: http://localhost:5000/#/experiments/5/runs/5eeaba654d144a3bafa14765872e8c79\n",
      "🧪 View experiment at: http://localhost:5000/#/experiments/5\n"
     ]
    },
    {
     "name": "stderr",
     "output_type": "stream",
     "text": [
      "C:\\Users\\SonNH\\AppData\\Local\\Temp\\ipykernel_7932\\3928576652.py:108: FutureWarning: ``mlflow.tracking.client.MlflowClient.get_latest_versions`` is deprecated since 2.9.0. Model registry stages will be removed in a future major release. To learn more about the deprecation of model registry stages, see our migration guide here: https://mlflow.org/docs/latest/model-registry.html#migrating-from-stages\n",
      "  latest_ = client.get_latest_versions(model_name, stages=None)[0]\n",
      "Registered model 'Decision Tree' already exists. Creating a new version of this model...\n",
      "2024/12/05 22:13:20 INFO mlflow.store.model_registry.abstract_store: Waiting up to 300 seconds for model version to finish creation. Model name: Decision Tree, version 5\n"
     ]
    },
    {
     "name": "stdout",
     "output_type": "stream",
     "text": [
      "🏃 View run learned-sloth-164 at: http://localhost:5000/#/experiments/5/runs/81279b835e9a4994b26b654153629e0b\n",
      "🧪 View experiment at: http://localhost:5000/#/experiments/5\n"
     ]
    },
    {
     "name": "stderr",
     "output_type": "stream",
     "text": [
      "Created version '5' of model 'Decision Tree'.\n"
     ]
    },
    {
     "name": "stdout",
     "output_type": "stream",
     "text": [
      "🏃 View run calm-shad-475 at: http://localhost:5000/#/experiments/5/runs/6aa089706f7d4409ad7ce5f8c99867c0\n",
      "🧪 View experiment at: http://localhost:5000/#/experiments/5\n"
     ]
    }
   ],
   "source": [
    "tags = {\n",
    "    \"dataset_frac\": 1.0,\n",
    "    \"test_size\" : 0.2,\n",
    "    \"droped_column\" : ['ID','IPv','DNS','IRC','DHCP','ARP','SMTP','cwr_flag_number','ece_flag_number','Telnet','Drate','psh_flag_number','rst_flag_number','LLC', 'TCP','SSH','HTTPS','ack_flag_number','Std','Tot size', 'ack_count'],\n",
    "    \"author\": \"Son Nguyen\"\n",
    "}\n",
    "\n",
    "def dct_objective(trial):\n",
    "    with mlflow.start_run(nested=True) as run:\n",
    "        params = {\n",
    "            \"max_features\": trial.suggest_int(\"max_features\", 2, 50, step=2),\n",
    "            \"criterion\": trial.suggest_categorical(\"criterion\", [\"gini\", \"entropy\", \"log_loss\"]),\n",
    "            \"max_depth\": trial.suggest_int(\"max_depth\", 10, 1010, step=50),\n",
    "            \"min_samples_split\": trial.suggest_int(\"min_samples_split\", 2, 20, step=2),\n",
    "            \"min_samples_leaf\": trial.suggest_int(\"min_samples_leaf\", 2, 20, step = 2),\n",
    "            \"random_state\" : 42\n",
    "        }\n",
    "       \n",
    "        model = DecisionTreeClassifier(**params)\n",
    "\n",
    "        mlflow.sklearn.autolog()\n",
    "        model.fit(X_train, y_train)\n",
    "        y_pred = model.predict(X_test)\n",
    "        accuracy = accuracy_score(y_test, y_pred)\n",
    "        f1 = f1_score(y_test, y_pred, average='weighted')\n",
    "        precision = precision_score(y_test, y_pred, average='weighted')\n",
    "        recall = recall_score(y_test, y_pred, average='weighted')\n",
    "        mlflow.log_metric(\"accuracy\", accuracy)\n",
    "        mlflow.log_metric(\"f1_score\", f1)\n",
    "        mlflow.log_metric(\"precision\", precision)\n",
    "        mlflow.log_metric(\"recall\", recall)\n",
    "\n",
    "\n",
    "        feature_scores = pd.Series(model.feature_importances_, index=X_train.columns).sort_values(ascending=False)\n",
    "        plt.figure(figsize=(20, 20))\n",
    "        sns.barplot(x=feature_scores, y=feature_scores.index)\n",
    "        plt.xlabel('Feature Importance Score')\n",
    "        plt.ylabel('Features')\n",
    "        plt.title(\"Visualizing Important Features\")\n",
    "        feature_importance_plot = \"feature_importance.png\"\n",
    "        plt.savefig(feature_importance_plot, bbox_inches='tight')\n",
    "        mlflow.log_artifact(feature_importance_plot)\n",
    "        os.remove(feature_importance_plot)\n",
    "\n",
    "        \n",
    "        metrics_file = \"model_summary.json\"\n",
    "        metrics = {\n",
    "            \"parameter\" : {**params},\n",
    "            \"metrics\" : {\n",
    "                \"f1\" : f1,\n",
    "                \"precision\" : precision,\n",
    "                \"accuracy\" : accuracy,\n",
    "                \"recall\" : recall\n",
    "            }\n",
    "            \n",
    "        }\n",
    "        \n",
    "        with open(metrics_file, \"w\") as f:\n",
    "            json.dump(metrics, f, indent=4)\n",
    "\n",
    "        mlflow.log_artifact(metrics_file)\n",
    "        os.remove(metrics_file)\n",
    "\n",
    "        trial.set_user_attr(\"run_id\", run.info.run_id)\n",
    "    return f1\n",
    "\n",
    "\n",
    "def dct_callback(study, frozen_trial):\n",
    "    winner = study.user_attrs.get(\"winner\", None)\n",
    "    if study.best_value and winner != study.best_value:\n",
    "        study.set_user_attr(\"winner\", study.best_value)\n",
    "        if winner:\n",
    "            improvement_percent = (abs(winner - study.best_value) / study.best_value) * 100\n",
    "            print(\n",
    "                f\"Trial {frozen_trial.number} achieved value: {frozen_trial.value} with \"\n",
    "                f\"{improvement_percent: .4f}% improvement\"\n",
    "            )\n",
    "        else:\n",
    "            print(f\"Initial trial {frozen_trial.number} achieved value: {frozen_trial.value}\")\n",
    "\n",
    "\n",
    "data = data_n_null.drop(columns=tags['droped_column'])\n",
    "data_sample = data.sample(frac=tags['dataset_frac'])\n",
    "X = data_sample.drop(columns=['Label'])\n",
    "y = data_sample['Label']\n",
    "X_train, X_test, y_train, y_test = train_test_split(X, y, test_size = tags['test_size'], random_state = 42)\n",
    "\n",
    "\n",
    "mlflow.set_experiment(\"decision_tree\")\n",
    "optuna.logging.set_verbosity(optuna.logging.ERROR)\n",
    "\n",
    "\n",
    "\n",
    "with mlflow.start_run(nested=True) as run:\n",
    "\n",
    "    # mlflow.xgboost.autolog() can not put auto log here\n",
    "    study = optuna.create_study(direction='maximize')\n",
    "    study.optimize(dct_objective, n_trials=100, timeout=7200, callbacks=[dct_callback], show_progress_bar=True)\n",
    "    # study.optimize(dct_objective, n_trials=100, timeout=100, callbacks=[dct_callback], show_progress_bar=True)\n",
    "    \n",
    "    best_trial = study.best_trial\n",
    "    best_run_id = best_trial.user_attrs['run_id']\n",
    "    # best_param = study.best_params\n",
    "    best_value = study.best_value\n",
    "\n",
    "    model_name = \"Decision Tree\"\n",
    "    client = mlflow.tracking.MlflowClient()\n",
    "    latest_ = client.get_latest_versions(model_name, stages=None)[0]\n",
    "\n",
    "    model_uri = f\"runs:/{best_run_id}/model\"\n",
    "    best_model = mlflow.register_model(model_uri, model_name)\n",
    "    \n",
    "    \n",
    "    best_param = client.get_run(best_run_id).data.params\n",
    "    if latest_:\n",
    "        previous_f1_score = client.get_metric_history(latest_.run_id, \"f1_score\")[-1].value\n",
    "        if previous_f1_score >= best_value:\n",
    "            print(f\"Last model is better. Current values {best_value}, latest values {previous_f1_score}\")\n",
    "        else:\n",
    "    \n",
    "            client.update_registered_model(\n",
    "                name=model_name,\n",
    "                description=\"Best moldel\",\n",
    "            )\n",
    "\n",
    "            for key, value in best_param.items():\n",
    "                client.set_model_version_tag(\n",
    "                    name=model_name,\n",
    "                    version=best_model.version,\n",
    "                    key=key,\n",
    "                    value=value\n",
    "                )\n",
    "\n",
    "            client.set_model_version_tag(\n",
    "                name=model_name,\n",
    "                version=best_model.version,\n",
    "                key=\"values\",\n",
    "                value=best_value\n",
    "            )\n",
    "\n",
    "            for key, value in tags.items():\n",
    "                mlflow.set_tag(key,value)\n",
    "            mlflow.set_tag(\"job\", \"Decision Tree using optuna to search parameter\")\n"
   ]
  },
  {
   "cell_type": "markdown",
   "metadata": {},
   "source": [
    "## Naive Bayes"
   ]
  },
  {
   "cell_type": "code",
   "execution_count": 30,
   "metadata": {},
   "outputs": [
    {
     "data": {
      "application/vnd.jupyter.widget-view+json": {
       "model_id": "621ccbc73c5f4ff4885411151ed574d9",
       "version_major": 2,
       "version_minor": 0
      },
      "text/plain": [
       "  0%|          | 0/100 [00:00<?, ?it/s]"
      ]
     },
     "metadata": {},
     "output_type": "display_data"
    },
    {
     "name": "stderr",
     "output_type": "stream",
     "text": [
      "d:\\project\\mlsec\\final\\project\\lib\\site-packages\\sklearn\\metrics\\_classification.py:1531: UndefinedMetricWarning: Precision is ill-defined and being set to 0.0 in labels with no predicted samples. Use `zero_division` parameter to control this behavior.\n",
      "  _warn_prf(average, modifier, f\"{metric.capitalize()} is\", len(result))\n",
      "d:\\project\\mlsec\\final\\project\\lib\\site-packages\\sklearn\\metrics\\_classification.py:1531: UndefinedMetricWarning: Precision is ill-defined and being set to 0.0 in labels with no predicted samples. Use `zero_division` parameter to control this behavior.\n",
      "  _warn_prf(average, modifier, f\"{metric.capitalize()} is\", len(result))\n"
     ]
    },
    {
     "name": "stdout",
     "output_type": "stream",
     "text": [
      "🏃 View run dazzling-snake-951 at: http://localhost:5000/#/experiments/7/runs/e8e90936c2384390ab57b4a2233393be\n",
      "🧪 View experiment at: http://localhost:5000/#/experiments/7\n",
      "Initial trial 0 achieved value: 0.14948271287807147\n"
     ]
    },
    {
     "name": "stderr",
     "output_type": "stream",
     "text": [
      "d:\\project\\mlsec\\final\\project\\lib\\site-packages\\sklearn\\metrics\\_classification.py:1531: UndefinedMetricWarning: Precision is ill-defined and being set to 0.0 in labels with no predicted samples. Use `zero_division` parameter to control this behavior.\n",
      "  _warn_prf(average, modifier, f\"{metric.capitalize()} is\", len(result))\n",
      "d:\\project\\mlsec\\final\\project\\lib\\site-packages\\sklearn\\metrics\\_classification.py:1531: UndefinedMetricWarning: Precision is ill-defined and being set to 0.0 in labels with no predicted samples. Use `zero_division` parameter to control this behavior.\n",
      "  _warn_prf(average, modifier, f\"{metric.capitalize()} is\", len(result))\n"
     ]
    },
    {
     "name": "stdout",
     "output_type": "stream",
     "text": [
      "🏃 View run melodic-fish-86 at: http://localhost:5000/#/experiments/7/runs/e50639426cff4f4fb6addcfc80ea7484\n",
      "🧪 View experiment at: http://localhost:5000/#/experiments/7\n"
     ]
    },
    {
     "name": "stderr",
     "output_type": "stream",
     "text": [
      "d:\\project\\mlsec\\final\\project\\lib\\site-packages\\sklearn\\metrics\\_classification.py:1531: UndefinedMetricWarning: Precision is ill-defined and being set to 0.0 in labels with no predicted samples. Use `zero_division` parameter to control this behavior.\n",
      "  _warn_prf(average, modifier, f\"{metric.capitalize()} is\", len(result))\n",
      "d:\\project\\mlsec\\final\\project\\lib\\site-packages\\sklearn\\metrics\\_classification.py:1531: UndefinedMetricWarning: Precision is ill-defined and being set to 0.0 in labels with no predicted samples. Use `zero_division` parameter to control this behavior.\n",
      "  _warn_prf(average, modifier, f\"{metric.capitalize()} is\", len(result))\n"
     ]
    },
    {
     "name": "stdout",
     "output_type": "stream",
     "text": [
      "🏃 View run likeable-mouse-779 at: http://localhost:5000/#/experiments/7/runs/9e672abd34ce47d2bdec7ec64e059c4b\n",
      "🧪 View experiment at: http://localhost:5000/#/experiments/7\n"
     ]
    },
    {
     "name": "stderr",
     "output_type": "stream",
     "text": [
      "d:\\project\\mlsec\\final\\project\\lib\\site-packages\\sklearn\\metrics\\_classification.py:1531: UndefinedMetricWarning: Precision is ill-defined and being set to 0.0 in labels with no predicted samples. Use `zero_division` parameter to control this behavior.\n",
      "  _warn_prf(average, modifier, f\"{metric.capitalize()} is\", len(result))\n",
      "d:\\project\\mlsec\\final\\project\\lib\\site-packages\\sklearn\\metrics\\_classification.py:1531: UndefinedMetricWarning: Precision is ill-defined and being set to 0.0 in labels with no predicted samples. Use `zero_division` parameter to control this behavior.\n",
      "  _warn_prf(average, modifier, f\"{metric.capitalize()} is\", len(result))\n"
     ]
    },
    {
     "name": "stdout",
     "output_type": "stream",
     "text": [
      "🏃 View run monumental-dog-630 at: http://localhost:5000/#/experiments/7/runs/85123d2231014eb09b64d7c3ec765f9b\n",
      "🧪 View experiment at: http://localhost:5000/#/experiments/7\n"
     ]
    },
    {
     "name": "stderr",
     "output_type": "stream",
     "text": [
      "d:\\project\\mlsec\\final\\project\\lib\\site-packages\\sklearn\\metrics\\_classification.py:1531: UndefinedMetricWarning: Precision is ill-defined and being set to 0.0 in labels with no predicted samples. Use `zero_division` parameter to control this behavior.\n",
      "  _warn_prf(average, modifier, f\"{metric.capitalize()} is\", len(result))\n",
      "d:\\project\\mlsec\\final\\project\\lib\\site-packages\\sklearn\\metrics\\_classification.py:1531: UndefinedMetricWarning: Precision is ill-defined and being set to 0.0 in labels with no predicted samples. Use `zero_division` parameter to control this behavior.\n",
      "  _warn_prf(average, modifier, f\"{metric.capitalize()} is\", len(result))\n"
     ]
    },
    {
     "name": "stdout",
     "output_type": "stream",
     "text": [
      "🏃 View run unruly-doe-160 at: http://localhost:5000/#/experiments/7/runs/c7601679d0c2459aad310c5f627d0ff8\n",
      "🧪 View experiment at: http://localhost:5000/#/experiments/7\n"
     ]
    },
    {
     "name": "stderr",
     "output_type": "stream",
     "text": [
      "d:\\project\\mlsec\\final\\project\\lib\\site-packages\\sklearn\\metrics\\_classification.py:1531: UndefinedMetricWarning: Precision is ill-defined and being set to 0.0 in labels with no predicted samples. Use `zero_division` parameter to control this behavior.\n",
      "  _warn_prf(average, modifier, f\"{metric.capitalize()} is\", len(result))\n",
      "d:\\project\\mlsec\\final\\project\\lib\\site-packages\\sklearn\\metrics\\_classification.py:1531: UndefinedMetricWarning: Precision is ill-defined and being set to 0.0 in labels with no predicted samples. Use `zero_division` parameter to control this behavior.\n",
      "  _warn_prf(average, modifier, f\"{metric.capitalize()} is\", len(result))\n"
     ]
    },
    {
     "name": "stdout",
     "output_type": "stream",
     "text": [
      "🏃 View run carefree-mouse-938 at: http://localhost:5000/#/experiments/7/runs/2398e8cf9e604a0b950b82ef825af2b0\n",
      "🧪 View experiment at: http://localhost:5000/#/experiments/7\n"
     ]
    },
    {
     "name": "stderr",
     "output_type": "stream",
     "text": [
      "d:\\project\\mlsec\\final\\project\\lib\\site-packages\\sklearn\\metrics\\_classification.py:1531: UndefinedMetricWarning: Precision is ill-defined and being set to 0.0 in labels with no predicted samples. Use `zero_division` parameter to control this behavior.\n",
      "  _warn_prf(average, modifier, f\"{metric.capitalize()} is\", len(result))\n",
      "d:\\project\\mlsec\\final\\project\\lib\\site-packages\\sklearn\\metrics\\_classification.py:1531: UndefinedMetricWarning: Precision is ill-defined and being set to 0.0 in labels with no predicted samples. Use `zero_division` parameter to control this behavior.\n",
      "  _warn_prf(average, modifier, f\"{metric.capitalize()} is\", len(result))\n"
     ]
    },
    {
     "name": "stdout",
     "output_type": "stream",
     "text": [
      "🏃 View run unique-swan-93 at: http://localhost:5000/#/experiments/7/runs/cac39be7548844db87b9bdd46f0b8854\n",
      "🧪 View experiment at: http://localhost:5000/#/experiments/7\n"
     ]
    },
    {
     "name": "stderr",
     "output_type": "stream",
     "text": [
      "d:\\project\\mlsec\\final\\project\\lib\\site-packages\\sklearn\\metrics\\_classification.py:1531: UndefinedMetricWarning: Precision is ill-defined and being set to 0.0 in labels with no predicted samples. Use `zero_division` parameter to control this behavior.\n",
      "  _warn_prf(average, modifier, f\"{metric.capitalize()} is\", len(result))\n",
      "d:\\project\\mlsec\\final\\project\\lib\\site-packages\\sklearn\\metrics\\_classification.py:1531: UndefinedMetricWarning: Precision is ill-defined and being set to 0.0 in labels with no predicted samples. Use `zero_division` parameter to control this behavior.\n",
      "  _warn_prf(average, modifier, f\"{metric.capitalize()} is\", len(result))\n"
     ]
    },
    {
     "name": "stdout",
     "output_type": "stream",
     "text": [
      "🏃 View run colorful-wolf-776 at: http://localhost:5000/#/experiments/7/runs/572eedcf6c1a4a05a34fd7e74270008a\n",
      "🧪 View experiment at: http://localhost:5000/#/experiments/7\n"
     ]
    },
    {
     "name": "stderr",
     "output_type": "stream",
     "text": [
      "d:\\project\\mlsec\\final\\project\\lib\\site-packages\\sklearn\\metrics\\_classification.py:1531: UndefinedMetricWarning: Precision is ill-defined and being set to 0.0 in labels with no predicted samples. Use `zero_division` parameter to control this behavior.\n",
      "  _warn_prf(average, modifier, f\"{metric.capitalize()} is\", len(result))\n",
      "d:\\project\\mlsec\\final\\project\\lib\\site-packages\\sklearn\\metrics\\_classification.py:1531: UndefinedMetricWarning: Precision is ill-defined and being set to 0.0 in labels with no predicted samples. Use `zero_division` parameter to control this behavior.\n",
      "  _warn_prf(average, modifier, f\"{metric.capitalize()} is\", len(result))\n"
     ]
    },
    {
     "name": "stdout",
     "output_type": "stream",
     "text": [
      "🏃 View run thundering-shark-198 at: http://localhost:5000/#/experiments/7/runs/14fcab5f4faf4bdd8616b93157b9f871\n",
      "🧪 View experiment at: http://localhost:5000/#/experiments/7\n"
     ]
    },
    {
     "name": "stderr",
     "output_type": "stream",
     "text": [
      "d:\\project\\mlsec\\final\\project\\lib\\site-packages\\sklearn\\metrics\\_classification.py:1531: UndefinedMetricWarning: Precision is ill-defined and being set to 0.0 in labels with no predicted samples. Use `zero_division` parameter to control this behavior.\n",
      "  _warn_prf(average, modifier, f\"{metric.capitalize()} is\", len(result))\n",
      "d:\\project\\mlsec\\final\\project\\lib\\site-packages\\sklearn\\metrics\\_classification.py:1531: UndefinedMetricWarning: Precision is ill-defined and being set to 0.0 in labels with no predicted samples. Use `zero_division` parameter to control this behavior.\n",
      "  _warn_prf(average, modifier, f\"{metric.capitalize()} is\", len(result))\n"
     ]
    },
    {
     "name": "stdout",
     "output_type": "stream",
     "text": [
      "🏃 View run unleashed-bird-327 at: http://localhost:5000/#/experiments/7/runs/d87c194886434dd681b99d048e1a0be9\n",
      "🧪 View experiment at: http://localhost:5000/#/experiments/7\n"
     ]
    },
    {
     "name": "stderr",
     "output_type": "stream",
     "text": [
      "d:\\project\\mlsec\\final\\project\\lib\\site-packages\\sklearn\\metrics\\_classification.py:1531: UndefinedMetricWarning: Precision is ill-defined and being set to 0.0 in labels with no predicted samples. Use `zero_division` parameter to control this behavior.\n",
      "  _warn_prf(average, modifier, f\"{metric.capitalize()} is\", len(result))\n",
      "d:\\project\\mlsec\\final\\project\\lib\\site-packages\\sklearn\\metrics\\_classification.py:1531: UndefinedMetricWarning: Precision is ill-defined and being set to 0.0 in labels with no predicted samples. Use `zero_division` parameter to control this behavior.\n",
      "  _warn_prf(average, modifier, f\"{metric.capitalize()} is\", len(result))\n"
     ]
    },
    {
     "name": "stdout",
     "output_type": "stream",
     "text": [
      "🏃 View run thoughtful-elk-75 at: http://localhost:5000/#/experiments/7/runs/8c2f3229db3344bdb679958b1baaa8bb\n",
      "🧪 View experiment at: http://localhost:5000/#/experiments/7\n"
     ]
    },
    {
     "name": "stderr",
     "output_type": "stream",
     "text": [
      "d:\\project\\mlsec\\final\\project\\lib\\site-packages\\sklearn\\metrics\\_classification.py:1531: UndefinedMetricWarning: Precision is ill-defined and being set to 0.0 in labels with no predicted samples. Use `zero_division` parameter to control this behavior.\n",
      "  _warn_prf(average, modifier, f\"{metric.capitalize()} is\", len(result))\n",
      "d:\\project\\mlsec\\final\\project\\lib\\site-packages\\sklearn\\metrics\\_classification.py:1531: UndefinedMetricWarning: Precision is ill-defined and being set to 0.0 in labels with no predicted samples. Use `zero_division` parameter to control this behavior.\n",
      "  _warn_prf(average, modifier, f\"{metric.capitalize()} is\", len(result))\n"
     ]
    },
    {
     "name": "stdout",
     "output_type": "stream",
     "text": [
      "🏃 View run puzzled-fawn-557 at: http://localhost:5000/#/experiments/7/runs/044b2f6c76d04fe59d997dd6a6bcebe7\n",
      "🧪 View experiment at: http://localhost:5000/#/experiments/7\n",
      "Trial 11 achieved value: 0.1526503453776376 with  2.0751% improvement\n"
     ]
    },
    {
     "name": "stderr",
     "output_type": "stream",
     "text": [
      "d:\\project\\mlsec\\final\\project\\lib\\site-packages\\sklearn\\metrics\\_classification.py:1531: UndefinedMetricWarning: Precision is ill-defined and being set to 0.0 in labels with no predicted samples. Use `zero_division` parameter to control this behavior.\n",
      "  _warn_prf(average, modifier, f\"{metric.capitalize()} is\", len(result))\n",
      "d:\\project\\mlsec\\final\\project\\lib\\site-packages\\sklearn\\metrics\\_classification.py:1531: UndefinedMetricWarning: Precision is ill-defined and being set to 0.0 in labels with no predicted samples. Use `zero_division` parameter to control this behavior.\n",
      "  _warn_prf(average, modifier, f\"{metric.capitalize()} is\", len(result))\n"
     ]
    },
    {
     "name": "stdout",
     "output_type": "stream",
     "text": [
      "🏃 View run languid-moth-76 at: http://localhost:5000/#/experiments/7/runs/449daea9aa7148c19c758954ba3dc6d3\n",
      "🧪 View experiment at: http://localhost:5000/#/experiments/7\n"
     ]
    },
    {
     "name": "stderr",
     "output_type": "stream",
     "text": [
      "d:\\project\\mlsec\\final\\project\\lib\\site-packages\\sklearn\\metrics\\_classification.py:1531: UndefinedMetricWarning: Precision is ill-defined and being set to 0.0 in labels with no predicted samples. Use `zero_division` parameter to control this behavior.\n",
      "  _warn_prf(average, modifier, f\"{metric.capitalize()} is\", len(result))\n",
      "d:\\project\\mlsec\\final\\project\\lib\\site-packages\\sklearn\\metrics\\_classification.py:1531: UndefinedMetricWarning: Precision is ill-defined and being set to 0.0 in labels with no predicted samples. Use `zero_division` parameter to control this behavior.\n",
      "  _warn_prf(average, modifier, f\"{metric.capitalize()} is\", len(result))\n"
     ]
    },
    {
     "name": "stdout",
     "output_type": "stream",
     "text": [
      "🏃 View run orderly-mouse-766 at: http://localhost:5000/#/experiments/7/runs/b55f61a73e63493b89974fa579e69e96\n",
      "🧪 View experiment at: http://localhost:5000/#/experiments/7\n"
     ]
    },
    {
     "name": "stderr",
     "output_type": "stream",
     "text": [
      "d:\\project\\mlsec\\final\\project\\lib\\site-packages\\sklearn\\metrics\\_classification.py:1531: UndefinedMetricWarning: Precision is ill-defined and being set to 0.0 in labels with no predicted samples. Use `zero_division` parameter to control this behavior.\n",
      "  _warn_prf(average, modifier, f\"{metric.capitalize()} is\", len(result))\n",
      "d:\\project\\mlsec\\final\\project\\lib\\site-packages\\sklearn\\metrics\\_classification.py:1531: UndefinedMetricWarning: Precision is ill-defined and being set to 0.0 in labels with no predicted samples. Use `zero_division` parameter to control this behavior.\n",
      "  _warn_prf(average, modifier, f\"{metric.capitalize()} is\", len(result))\n"
     ]
    },
    {
     "name": "stdout",
     "output_type": "stream",
     "text": [
      "🏃 View run amazing-gnu-932 at: http://localhost:5000/#/experiments/7/runs/2c3cbb9f0e674a44b9a834af0a508900\n",
      "🧪 View experiment at: http://localhost:5000/#/experiments/7\n"
     ]
    },
    {
     "name": "stderr",
     "output_type": "stream",
     "text": [
      "d:\\project\\mlsec\\final\\project\\lib\\site-packages\\sklearn\\metrics\\_classification.py:1531: UndefinedMetricWarning: Precision is ill-defined and being set to 0.0 in labels with no predicted samples. Use `zero_division` parameter to control this behavior.\n",
      "  _warn_prf(average, modifier, f\"{metric.capitalize()} is\", len(result))\n",
      "d:\\project\\mlsec\\final\\project\\lib\\site-packages\\sklearn\\metrics\\_classification.py:1531: UndefinedMetricWarning: Precision is ill-defined and being set to 0.0 in labels with no predicted samples. Use `zero_division` parameter to control this behavior.\n",
      "  _warn_prf(average, modifier, f\"{metric.capitalize()} is\", len(result))\n"
     ]
    },
    {
     "name": "stdout",
     "output_type": "stream",
     "text": [
      "🏃 View run carefree-tern-541 at: http://localhost:5000/#/experiments/7/runs/791616be7116406f8c734bfba09ed67a\n",
      "🧪 View experiment at: http://localhost:5000/#/experiments/7\n"
     ]
    },
    {
     "name": "stderr",
     "output_type": "stream",
     "text": [
      "d:\\project\\mlsec\\final\\project\\lib\\site-packages\\sklearn\\metrics\\_classification.py:1531: UndefinedMetricWarning: Precision is ill-defined and being set to 0.0 in labels with no predicted samples. Use `zero_division` parameter to control this behavior.\n",
      "  _warn_prf(average, modifier, f\"{metric.capitalize()} is\", len(result))\n",
      "d:\\project\\mlsec\\final\\project\\lib\\site-packages\\sklearn\\metrics\\_classification.py:1531: UndefinedMetricWarning: Precision is ill-defined and being set to 0.0 in labels with no predicted samples. Use `zero_division` parameter to control this behavior.\n",
      "  _warn_prf(average, modifier, f\"{metric.capitalize()} is\", len(result))\n"
     ]
    },
    {
     "name": "stdout",
     "output_type": "stream",
     "text": [
      "🏃 View run vaunted-conch-672 at: http://localhost:5000/#/experiments/7/runs/5e8f9d78c5474dcd85b93dc8c93e2f1a\n",
      "🧪 View experiment at: http://localhost:5000/#/experiments/7\n"
     ]
    },
    {
     "name": "stderr",
     "output_type": "stream",
     "text": [
      "d:\\project\\mlsec\\final\\project\\lib\\site-packages\\sklearn\\metrics\\_classification.py:1531: UndefinedMetricWarning: Precision is ill-defined and being set to 0.0 in labels with no predicted samples. Use `zero_division` parameter to control this behavior.\n",
      "  _warn_prf(average, modifier, f\"{metric.capitalize()} is\", len(result))\n",
      "d:\\project\\mlsec\\final\\project\\lib\\site-packages\\sklearn\\metrics\\_classification.py:1531: UndefinedMetricWarning: Precision is ill-defined and being set to 0.0 in labels with no predicted samples. Use `zero_division` parameter to control this behavior.\n",
      "  _warn_prf(average, modifier, f\"{metric.capitalize()} is\", len(result))\n"
     ]
    },
    {
     "name": "stdout",
     "output_type": "stream",
     "text": [
      "🏃 View run salty-rat-596 at: http://localhost:5000/#/experiments/7/runs/fad81b4a8b174e6da66e09e214af084b\n",
      "🧪 View experiment at: http://localhost:5000/#/experiments/7\n"
     ]
    },
    {
     "name": "stderr",
     "output_type": "stream",
     "text": [
      "d:\\project\\mlsec\\final\\project\\lib\\site-packages\\sklearn\\metrics\\_classification.py:1531: UndefinedMetricWarning: Precision is ill-defined and being set to 0.0 in labels with no predicted samples. Use `zero_division` parameter to control this behavior.\n",
      "  _warn_prf(average, modifier, f\"{metric.capitalize()} is\", len(result))\n",
      "d:\\project\\mlsec\\final\\project\\lib\\site-packages\\sklearn\\metrics\\_classification.py:1531: UndefinedMetricWarning: Precision is ill-defined and being set to 0.0 in labels with no predicted samples. Use `zero_division` parameter to control this behavior.\n",
      "  _warn_prf(average, modifier, f\"{metric.capitalize()} is\", len(result))\n"
     ]
    },
    {
     "name": "stdout",
     "output_type": "stream",
     "text": [
      "🏃 View run dashing-vole-53 at: http://localhost:5000/#/experiments/7/runs/c2cbb5608e754654917f21c332cb2fa5\n",
      "🧪 View experiment at: http://localhost:5000/#/experiments/7\n"
     ]
    },
    {
     "name": "stderr",
     "output_type": "stream",
     "text": [
      "d:\\project\\mlsec\\final\\project\\lib\\site-packages\\sklearn\\metrics\\_classification.py:1531: UndefinedMetricWarning: Precision is ill-defined and being set to 0.0 in labels with no predicted samples. Use `zero_division` parameter to control this behavior.\n",
      "  _warn_prf(average, modifier, f\"{metric.capitalize()} is\", len(result))\n",
      "d:\\project\\mlsec\\final\\project\\lib\\site-packages\\sklearn\\metrics\\_classification.py:1531: UndefinedMetricWarning: Precision is ill-defined and being set to 0.0 in labels with no predicted samples. Use `zero_division` parameter to control this behavior.\n",
      "  _warn_prf(average, modifier, f\"{metric.capitalize()} is\", len(result))\n"
     ]
    },
    {
     "name": "stdout",
     "output_type": "stream",
     "text": [
      "🏃 View run worried-crab-128 at: http://localhost:5000/#/experiments/7/runs/6aa08d730fbf4365924fd5a64343460e\n",
      "🧪 View experiment at: http://localhost:5000/#/experiments/7\n",
      "Trial 19 achieved value: 0.1561795058679405 with  2.2597% improvement\n"
     ]
    },
    {
     "name": "stderr",
     "output_type": "stream",
     "text": [
      "d:\\project\\mlsec\\final\\project\\lib\\site-packages\\sklearn\\metrics\\_classification.py:1531: UndefinedMetricWarning: Precision is ill-defined and being set to 0.0 in labels with no predicted samples. Use `zero_division` parameter to control this behavior.\n",
      "  _warn_prf(average, modifier, f\"{metric.capitalize()} is\", len(result))\n",
      "d:\\project\\mlsec\\final\\project\\lib\\site-packages\\sklearn\\metrics\\_classification.py:1531: UndefinedMetricWarning: Precision is ill-defined and being set to 0.0 in labels with no predicted samples. Use `zero_division` parameter to control this behavior.\n",
      "  _warn_prf(average, modifier, f\"{metric.capitalize()} is\", len(result))\n"
     ]
    },
    {
     "name": "stdout",
     "output_type": "stream",
     "text": [
      "🏃 View run sincere-koi-500 at: http://localhost:5000/#/experiments/7/runs/3b3aaafcd7cf48b68fb2e41fd4b8cab1\n",
      "🧪 View experiment at: http://localhost:5000/#/experiments/7\n"
     ]
    },
    {
     "name": "stderr",
     "output_type": "stream",
     "text": [
      "d:\\project\\mlsec\\final\\project\\lib\\site-packages\\sklearn\\metrics\\_classification.py:1531: UndefinedMetricWarning: Precision is ill-defined and being set to 0.0 in labels with no predicted samples. Use `zero_division` parameter to control this behavior.\n",
      "  _warn_prf(average, modifier, f\"{metric.capitalize()} is\", len(result))\n",
      "d:\\project\\mlsec\\final\\project\\lib\\site-packages\\sklearn\\metrics\\_classification.py:1531: UndefinedMetricWarning: Precision is ill-defined and being set to 0.0 in labels with no predicted samples. Use `zero_division` parameter to control this behavior.\n",
      "  _warn_prf(average, modifier, f\"{metric.capitalize()} is\", len(result))\n"
     ]
    },
    {
     "name": "stdout",
     "output_type": "stream",
     "text": [
      "🏃 View run powerful-moth-647 at: http://localhost:5000/#/experiments/7/runs/8f02ecd63f4b42b7a4747d8951e51cae\n",
      "🧪 View experiment at: http://localhost:5000/#/experiments/7\n"
     ]
    },
    {
     "name": "stderr",
     "output_type": "stream",
     "text": [
      "d:\\project\\mlsec\\final\\project\\lib\\site-packages\\sklearn\\metrics\\_classification.py:1531: UndefinedMetricWarning: Precision is ill-defined and being set to 0.0 in labels with no predicted samples. Use `zero_division` parameter to control this behavior.\n",
      "  _warn_prf(average, modifier, f\"{metric.capitalize()} is\", len(result))\n",
      "d:\\project\\mlsec\\final\\project\\lib\\site-packages\\sklearn\\metrics\\_classification.py:1531: UndefinedMetricWarning: Precision is ill-defined and being set to 0.0 in labels with no predicted samples. Use `zero_division` parameter to control this behavior.\n",
      "  _warn_prf(average, modifier, f\"{metric.capitalize()} is\", len(result))\n"
     ]
    },
    {
     "name": "stdout",
     "output_type": "stream",
     "text": [
      "🏃 View run judicious-tern-686 at: http://localhost:5000/#/experiments/7/runs/3b0cd71e0265496b992585ff6e00174e\n",
      "🧪 View experiment at: http://localhost:5000/#/experiments/7\n"
     ]
    },
    {
     "name": "stderr",
     "output_type": "stream",
     "text": [
      "d:\\project\\mlsec\\final\\project\\lib\\site-packages\\sklearn\\metrics\\_classification.py:1531: UndefinedMetricWarning: Precision is ill-defined and being set to 0.0 in labels with no predicted samples. Use `zero_division` parameter to control this behavior.\n",
      "  _warn_prf(average, modifier, f\"{metric.capitalize()} is\", len(result))\n",
      "d:\\project\\mlsec\\final\\project\\lib\\site-packages\\sklearn\\metrics\\_classification.py:1531: UndefinedMetricWarning: Precision is ill-defined and being set to 0.0 in labels with no predicted samples. Use `zero_division` parameter to control this behavior.\n",
      "  _warn_prf(average, modifier, f\"{metric.capitalize()} is\", len(result))\n"
     ]
    },
    {
     "name": "stdout",
     "output_type": "stream",
     "text": [
      "🏃 View run awesome-stork-597 at: http://localhost:5000/#/experiments/7/runs/85786c93eca64ecfaaed2b4f194f5cea\n",
      "🧪 View experiment at: http://localhost:5000/#/experiments/7\n"
     ]
    },
    {
     "name": "stderr",
     "output_type": "stream",
     "text": [
      "d:\\project\\mlsec\\final\\project\\lib\\site-packages\\sklearn\\metrics\\_classification.py:1531: UndefinedMetricWarning: Precision is ill-defined and being set to 0.0 in labels with no predicted samples. Use `zero_division` parameter to control this behavior.\n",
      "  _warn_prf(average, modifier, f\"{metric.capitalize()} is\", len(result))\n",
      "d:\\project\\mlsec\\final\\project\\lib\\site-packages\\sklearn\\metrics\\_classification.py:1531: UndefinedMetricWarning: Precision is ill-defined and being set to 0.0 in labels with no predicted samples. Use `zero_division` parameter to control this behavior.\n",
      "  _warn_prf(average, modifier, f\"{metric.capitalize()} is\", len(result))\n"
     ]
    },
    {
     "name": "stdout",
     "output_type": "stream",
     "text": [
      "🏃 View run rambunctious-bee-382 at: http://localhost:5000/#/experiments/7/runs/faea612fb5674f8899de3f0196461eee\n",
      "🧪 View experiment at: http://localhost:5000/#/experiments/7\n"
     ]
    },
    {
     "name": "stderr",
     "output_type": "stream",
     "text": [
      "d:\\project\\mlsec\\final\\project\\lib\\site-packages\\sklearn\\metrics\\_classification.py:1531: UndefinedMetricWarning: Precision is ill-defined and being set to 0.0 in labels with no predicted samples. Use `zero_division` parameter to control this behavior.\n",
      "  _warn_prf(average, modifier, f\"{metric.capitalize()} is\", len(result))\n",
      "d:\\project\\mlsec\\final\\project\\lib\\site-packages\\sklearn\\metrics\\_classification.py:1531: UndefinedMetricWarning: Precision is ill-defined and being set to 0.0 in labels with no predicted samples. Use `zero_division` parameter to control this behavior.\n",
      "  _warn_prf(average, modifier, f\"{metric.capitalize()} is\", len(result))\n"
     ]
    },
    {
     "name": "stdout",
     "output_type": "stream",
     "text": [
      "🏃 View run aged-tern-236 at: http://localhost:5000/#/experiments/7/runs/fd01eea13b8b4c00a86b6783e558d548\n",
      "🧪 View experiment at: http://localhost:5000/#/experiments/7\n"
     ]
    },
    {
     "name": "stderr",
     "output_type": "stream",
     "text": [
      "d:\\project\\mlsec\\final\\project\\lib\\site-packages\\sklearn\\metrics\\_classification.py:1531: UndefinedMetricWarning: Precision is ill-defined and being set to 0.0 in labels with no predicted samples. Use `zero_division` parameter to control this behavior.\n",
      "  _warn_prf(average, modifier, f\"{metric.capitalize()} is\", len(result))\n",
      "d:\\project\\mlsec\\final\\project\\lib\\site-packages\\sklearn\\metrics\\_classification.py:1531: UndefinedMetricWarning: Precision is ill-defined and being set to 0.0 in labels with no predicted samples. Use `zero_division` parameter to control this behavior.\n",
      "  _warn_prf(average, modifier, f\"{metric.capitalize()} is\", len(result))\n"
     ]
    },
    {
     "name": "stdout",
     "output_type": "stream",
     "text": [
      "🏃 View run adventurous-flea-632 at: http://localhost:5000/#/experiments/7/runs/6bb2563480da4cc1adb58fb182796368\n",
      "🧪 View experiment at: http://localhost:5000/#/experiments/7\n"
     ]
    },
    {
     "name": "stderr",
     "output_type": "stream",
     "text": [
      "d:\\project\\mlsec\\final\\project\\lib\\site-packages\\sklearn\\metrics\\_classification.py:1531: UndefinedMetricWarning: Precision is ill-defined and being set to 0.0 in labels with no predicted samples. Use `zero_division` parameter to control this behavior.\n",
      "  _warn_prf(average, modifier, f\"{metric.capitalize()} is\", len(result))\n",
      "d:\\project\\mlsec\\final\\project\\lib\\site-packages\\sklearn\\metrics\\_classification.py:1531: UndefinedMetricWarning: Precision is ill-defined and being set to 0.0 in labels with no predicted samples. Use `zero_division` parameter to control this behavior.\n",
      "  _warn_prf(average, modifier, f\"{metric.capitalize()} is\", len(result))\n"
     ]
    },
    {
     "name": "stdout",
     "output_type": "stream",
     "text": [
      "🏃 View run loud-wren-769 at: http://localhost:5000/#/experiments/7/runs/eec281c4a1404a13a2f7b7cba0a34862\n",
      "🧪 View experiment at: http://localhost:5000/#/experiments/7\n"
     ]
    },
    {
     "name": "stderr",
     "output_type": "stream",
     "text": [
      "d:\\project\\mlsec\\final\\project\\lib\\site-packages\\sklearn\\metrics\\_classification.py:1531: UndefinedMetricWarning: Precision is ill-defined and being set to 0.0 in labels with no predicted samples. Use `zero_division` parameter to control this behavior.\n",
      "  _warn_prf(average, modifier, f\"{metric.capitalize()} is\", len(result))\n",
      "d:\\project\\mlsec\\final\\project\\lib\\site-packages\\sklearn\\metrics\\_classification.py:1531: UndefinedMetricWarning: Precision is ill-defined and being set to 0.0 in labels with no predicted samples. Use `zero_division` parameter to control this behavior.\n",
      "  _warn_prf(average, modifier, f\"{metric.capitalize()} is\", len(result))\n"
     ]
    },
    {
     "name": "stdout",
     "output_type": "stream",
     "text": [
      "🏃 View run wise-moth-823 at: http://localhost:5000/#/experiments/7/runs/3e837b6fcd6b43a09c7a6242c0f32bb6\n",
      "🧪 View experiment at: http://localhost:5000/#/experiments/7\n"
     ]
    },
    {
     "name": "stderr",
     "output_type": "stream",
     "text": [
      "d:\\project\\mlsec\\final\\project\\lib\\site-packages\\sklearn\\metrics\\_classification.py:1531: UndefinedMetricWarning: Precision is ill-defined and being set to 0.0 in labels with no predicted samples. Use `zero_division` parameter to control this behavior.\n",
      "  _warn_prf(average, modifier, f\"{metric.capitalize()} is\", len(result))\n",
      "d:\\project\\mlsec\\final\\project\\lib\\site-packages\\sklearn\\metrics\\_classification.py:1531: UndefinedMetricWarning: Precision is ill-defined and being set to 0.0 in labels with no predicted samples. Use `zero_division` parameter to control this behavior.\n",
      "  _warn_prf(average, modifier, f\"{metric.capitalize()} is\", len(result))\n"
     ]
    },
    {
     "name": "stdout",
     "output_type": "stream",
     "text": [
      "🏃 View run rebellious-moose-7 at: http://localhost:5000/#/experiments/7/runs/04c832feda5c48a6bd20fd9dca01ed68\n",
      "🧪 View experiment at: http://localhost:5000/#/experiments/7\n"
     ]
    },
    {
     "name": "stderr",
     "output_type": "stream",
     "text": [
      "d:\\project\\mlsec\\final\\project\\lib\\site-packages\\sklearn\\metrics\\_classification.py:1531: UndefinedMetricWarning: Precision is ill-defined and being set to 0.0 in labels with no predicted samples. Use `zero_division` parameter to control this behavior.\n",
      "  _warn_prf(average, modifier, f\"{metric.capitalize()} is\", len(result))\n",
      "d:\\project\\mlsec\\final\\project\\lib\\site-packages\\sklearn\\metrics\\_classification.py:1531: UndefinedMetricWarning: Precision is ill-defined and being set to 0.0 in labels with no predicted samples. Use `zero_division` parameter to control this behavior.\n",
      "  _warn_prf(average, modifier, f\"{metric.capitalize()} is\", len(result))\n"
     ]
    },
    {
     "name": "stdout",
     "output_type": "stream",
     "text": [
      "🏃 View run gifted-grub-729 at: http://localhost:5000/#/experiments/7/runs/2afc706f76f54dbbbf226c3852da9f08\n",
      "🧪 View experiment at: http://localhost:5000/#/experiments/7\n"
     ]
    },
    {
     "name": "stderr",
     "output_type": "stream",
     "text": [
      "d:\\project\\mlsec\\final\\project\\lib\\site-packages\\sklearn\\metrics\\_classification.py:1531: UndefinedMetricWarning: Precision is ill-defined and being set to 0.0 in labels with no predicted samples. Use `zero_division` parameter to control this behavior.\n",
      "  _warn_prf(average, modifier, f\"{metric.capitalize()} is\", len(result))\n",
      "d:\\project\\mlsec\\final\\project\\lib\\site-packages\\sklearn\\metrics\\_classification.py:1531: UndefinedMetricWarning: Precision is ill-defined and being set to 0.0 in labels with no predicted samples. Use `zero_division` parameter to control this behavior.\n",
      "  _warn_prf(average, modifier, f\"{metric.capitalize()} is\", len(result))\n"
     ]
    },
    {
     "name": "stdout",
     "output_type": "stream",
     "text": [
      "🏃 View run rumbling-asp-878 at: http://localhost:5000/#/experiments/7/runs/b6814ba6698e453b9f924c3c12dd0e03\n",
      "🧪 View experiment at: http://localhost:5000/#/experiments/7\n"
     ]
    },
    {
     "name": "stderr",
     "output_type": "stream",
     "text": [
      "d:\\project\\mlsec\\final\\project\\lib\\site-packages\\sklearn\\metrics\\_classification.py:1531: UndefinedMetricWarning: Precision is ill-defined and being set to 0.0 in labels with no predicted samples. Use `zero_division` parameter to control this behavior.\n",
      "  _warn_prf(average, modifier, f\"{metric.capitalize()} is\", len(result))\n",
      "d:\\project\\mlsec\\final\\project\\lib\\site-packages\\sklearn\\metrics\\_classification.py:1531: UndefinedMetricWarning: Precision is ill-defined and being set to 0.0 in labels with no predicted samples. Use `zero_division` parameter to control this behavior.\n",
      "  _warn_prf(average, modifier, f\"{metric.capitalize()} is\", len(result))\n"
     ]
    },
    {
     "name": "stdout",
     "output_type": "stream",
     "text": [
      "🏃 View run respected-gull-659 at: http://localhost:5000/#/experiments/7/runs/325e3302e17243c49214193e336e7663\n",
      "🧪 View experiment at: http://localhost:5000/#/experiments/7\n"
     ]
    },
    {
     "name": "stderr",
     "output_type": "stream",
     "text": [
      "d:\\project\\mlsec\\final\\project\\lib\\site-packages\\sklearn\\metrics\\_classification.py:1531: UndefinedMetricWarning: Precision is ill-defined and being set to 0.0 in labels with no predicted samples. Use `zero_division` parameter to control this behavior.\n",
      "  _warn_prf(average, modifier, f\"{metric.capitalize()} is\", len(result))\n",
      "d:\\project\\mlsec\\final\\project\\lib\\site-packages\\sklearn\\metrics\\_classification.py:1531: UndefinedMetricWarning: Precision is ill-defined and being set to 0.0 in labels with no predicted samples. Use `zero_division` parameter to control this behavior.\n",
      "  _warn_prf(average, modifier, f\"{metric.capitalize()} is\", len(result))\n"
     ]
    },
    {
     "name": "stdout",
     "output_type": "stream",
     "text": [
      "🏃 View run exultant-vole-442 at: http://localhost:5000/#/experiments/7/runs/3c6ebe2d26654090aa08c56752ed3396\n",
      "🧪 View experiment at: http://localhost:5000/#/experiments/7\n"
     ]
    },
    {
     "name": "stderr",
     "output_type": "stream",
     "text": [
      "d:\\project\\mlsec\\final\\project\\lib\\site-packages\\sklearn\\metrics\\_classification.py:1531: UndefinedMetricWarning: Precision is ill-defined and being set to 0.0 in labels with no predicted samples. Use `zero_division` parameter to control this behavior.\n",
      "  _warn_prf(average, modifier, f\"{metric.capitalize()} is\", len(result))\n",
      "d:\\project\\mlsec\\final\\project\\lib\\site-packages\\sklearn\\metrics\\_classification.py:1531: UndefinedMetricWarning: Precision is ill-defined and being set to 0.0 in labels with no predicted samples. Use `zero_division` parameter to control this behavior.\n",
      "  _warn_prf(average, modifier, f\"{metric.capitalize()} is\", len(result))\n"
     ]
    },
    {
     "name": "stdout",
     "output_type": "stream",
     "text": [
      "🏃 View run adaptable-lamb-448 at: http://localhost:5000/#/experiments/7/runs/60208a413a9e45579f880e6b68c0ba8b\n",
      "🧪 View experiment at: http://localhost:5000/#/experiments/7\n"
     ]
    },
    {
     "name": "stderr",
     "output_type": "stream",
     "text": [
      "d:\\project\\mlsec\\final\\project\\lib\\site-packages\\sklearn\\metrics\\_classification.py:1531: UndefinedMetricWarning: Precision is ill-defined and being set to 0.0 in labels with no predicted samples. Use `zero_division` parameter to control this behavior.\n",
      "  _warn_prf(average, modifier, f\"{metric.capitalize()} is\", len(result))\n",
      "d:\\project\\mlsec\\final\\project\\lib\\site-packages\\sklearn\\metrics\\_classification.py:1531: UndefinedMetricWarning: Precision is ill-defined and being set to 0.0 in labels with no predicted samples. Use `zero_division` parameter to control this behavior.\n",
      "  _warn_prf(average, modifier, f\"{metric.capitalize()} is\", len(result))\n"
     ]
    },
    {
     "name": "stdout",
     "output_type": "stream",
     "text": [
      "🏃 View run industrious-colt-351 at: http://localhost:5000/#/experiments/7/runs/7f23702979144f2f93c4ce661180a9c6\n",
      "🧪 View experiment at: http://localhost:5000/#/experiments/7\n"
     ]
    },
    {
     "name": "stderr",
     "output_type": "stream",
     "text": [
      "d:\\project\\mlsec\\final\\project\\lib\\site-packages\\sklearn\\metrics\\_classification.py:1531: UndefinedMetricWarning: Precision is ill-defined and being set to 0.0 in labels with no predicted samples. Use `zero_division` parameter to control this behavior.\n",
      "  _warn_prf(average, modifier, f\"{metric.capitalize()} is\", len(result))\n",
      "d:\\project\\mlsec\\final\\project\\lib\\site-packages\\sklearn\\metrics\\_classification.py:1531: UndefinedMetricWarning: Precision is ill-defined and being set to 0.0 in labels with no predicted samples. Use `zero_division` parameter to control this behavior.\n",
      "  _warn_prf(average, modifier, f\"{metric.capitalize()} is\", len(result))\n"
     ]
    },
    {
     "name": "stdout",
     "output_type": "stream",
     "text": [
      "🏃 View run bemused-bat-191 at: http://localhost:5000/#/experiments/7/runs/4e66fa10547d4a7d8e269bd5772d77a5\n",
      "🧪 View experiment at: http://localhost:5000/#/experiments/7\n"
     ]
    },
    {
     "name": "stderr",
     "output_type": "stream",
     "text": [
      "d:\\project\\mlsec\\final\\project\\lib\\site-packages\\sklearn\\metrics\\_classification.py:1531: UndefinedMetricWarning: Precision is ill-defined and being set to 0.0 in labels with no predicted samples. Use `zero_division` parameter to control this behavior.\n",
      "  _warn_prf(average, modifier, f\"{metric.capitalize()} is\", len(result))\n",
      "d:\\project\\mlsec\\final\\project\\lib\\site-packages\\sklearn\\metrics\\_classification.py:1531: UndefinedMetricWarning: Precision is ill-defined and being set to 0.0 in labels with no predicted samples. Use `zero_division` parameter to control this behavior.\n",
      "  _warn_prf(average, modifier, f\"{metric.capitalize()} is\", len(result))\n"
     ]
    },
    {
     "name": "stdout",
     "output_type": "stream",
     "text": [
      "🏃 View run likeable-fawn-391 at: http://localhost:5000/#/experiments/7/runs/bac639132a6e4450b697aa6411d3f67e\n",
      "🧪 View experiment at: http://localhost:5000/#/experiments/7\n"
     ]
    },
    {
     "name": "stderr",
     "output_type": "stream",
     "text": [
      "d:\\project\\mlsec\\final\\project\\lib\\site-packages\\sklearn\\metrics\\_classification.py:1531: UndefinedMetricWarning: Precision is ill-defined and being set to 0.0 in labels with no predicted samples. Use `zero_division` parameter to control this behavior.\n",
      "  _warn_prf(average, modifier, f\"{metric.capitalize()} is\", len(result))\n",
      "d:\\project\\mlsec\\final\\project\\lib\\site-packages\\sklearn\\metrics\\_classification.py:1531: UndefinedMetricWarning: Precision is ill-defined and being set to 0.0 in labels with no predicted samples. Use `zero_division` parameter to control this behavior.\n",
      "  _warn_prf(average, modifier, f\"{metric.capitalize()} is\", len(result))\n"
     ]
    },
    {
     "name": "stdout",
     "output_type": "stream",
     "text": [
      "🏃 View run classy-shrike-569 at: http://localhost:5000/#/experiments/7/runs/e1d37dce3cd7429897ba0c0b2e66f100\n",
      "🧪 View experiment at: http://localhost:5000/#/experiments/7\n"
     ]
    },
    {
     "name": "stderr",
     "output_type": "stream",
     "text": [
      "d:\\project\\mlsec\\final\\project\\lib\\site-packages\\sklearn\\metrics\\_classification.py:1531: UndefinedMetricWarning: Precision is ill-defined and being set to 0.0 in labels with no predicted samples. Use `zero_division` parameter to control this behavior.\n",
      "  _warn_prf(average, modifier, f\"{metric.capitalize()} is\", len(result))\n",
      "d:\\project\\mlsec\\final\\project\\lib\\site-packages\\sklearn\\metrics\\_classification.py:1531: UndefinedMetricWarning: Precision is ill-defined and being set to 0.0 in labels with no predicted samples. Use `zero_division` parameter to control this behavior.\n",
      "  _warn_prf(average, modifier, f\"{metric.capitalize()} is\", len(result))\n"
     ]
    },
    {
     "name": "stdout",
     "output_type": "stream",
     "text": [
      "🏃 View run thundering-colt-481 at: http://localhost:5000/#/experiments/7/runs/9de0d732535844a0903d49c2d1873bcf\n",
      "🧪 View experiment at: http://localhost:5000/#/experiments/7\n"
     ]
    },
    {
     "name": "stderr",
     "output_type": "stream",
     "text": [
      "d:\\project\\mlsec\\final\\project\\lib\\site-packages\\sklearn\\metrics\\_classification.py:1531: UndefinedMetricWarning: Precision is ill-defined and being set to 0.0 in labels with no predicted samples. Use `zero_division` parameter to control this behavior.\n",
      "  _warn_prf(average, modifier, f\"{metric.capitalize()} is\", len(result))\n",
      "d:\\project\\mlsec\\final\\project\\lib\\site-packages\\sklearn\\metrics\\_classification.py:1531: UndefinedMetricWarning: Precision is ill-defined and being set to 0.0 in labels with no predicted samples. Use `zero_division` parameter to control this behavior.\n",
      "  _warn_prf(average, modifier, f\"{metric.capitalize()} is\", len(result))\n"
     ]
    },
    {
     "name": "stdout",
     "output_type": "stream",
     "text": [
      "🏃 View run adorable-calf-867 at: http://localhost:5000/#/experiments/7/runs/463083e4883d4388951c5a1b83e7914f\n",
      "🧪 View experiment at: http://localhost:5000/#/experiments/7\n"
     ]
    },
    {
     "name": "stderr",
     "output_type": "stream",
     "text": [
      "d:\\project\\mlsec\\final\\project\\lib\\site-packages\\sklearn\\metrics\\_classification.py:1531: UndefinedMetricWarning: Precision is ill-defined and being set to 0.0 in labels with no predicted samples. Use `zero_division` parameter to control this behavior.\n",
      "  _warn_prf(average, modifier, f\"{metric.capitalize()} is\", len(result))\n",
      "d:\\project\\mlsec\\final\\project\\lib\\site-packages\\sklearn\\metrics\\_classification.py:1531: UndefinedMetricWarning: Precision is ill-defined and being set to 0.0 in labels with no predicted samples. Use `zero_division` parameter to control this behavior.\n",
      "  _warn_prf(average, modifier, f\"{metric.capitalize()} is\", len(result))\n"
     ]
    },
    {
     "name": "stdout",
     "output_type": "stream",
     "text": [
      "🏃 View run sneaky-penguin-990 at: http://localhost:5000/#/experiments/7/runs/92732640b9e249ada44e6b3327cf8632\n",
      "🧪 View experiment at: http://localhost:5000/#/experiments/7\n"
     ]
    },
    {
     "name": "stderr",
     "output_type": "stream",
     "text": [
      "d:\\project\\mlsec\\final\\project\\lib\\site-packages\\sklearn\\metrics\\_classification.py:1531: UndefinedMetricWarning: Precision is ill-defined and being set to 0.0 in labels with no predicted samples. Use `zero_division` parameter to control this behavior.\n",
      "  _warn_prf(average, modifier, f\"{metric.capitalize()} is\", len(result))\n",
      "d:\\project\\mlsec\\final\\project\\lib\\site-packages\\sklearn\\metrics\\_classification.py:1531: UndefinedMetricWarning: Precision is ill-defined and being set to 0.0 in labels with no predicted samples. Use `zero_division` parameter to control this behavior.\n",
      "  _warn_prf(average, modifier, f\"{metric.capitalize()} is\", len(result))\n"
     ]
    },
    {
     "name": "stdout",
     "output_type": "stream",
     "text": [
      "🏃 View run luminous-bat-250 at: http://localhost:5000/#/experiments/7/runs/74590c2840c246d395a4cb388165fceb\n",
      "🧪 View experiment at: http://localhost:5000/#/experiments/7\n"
     ]
    },
    {
     "name": "stderr",
     "output_type": "stream",
     "text": [
      "d:\\project\\mlsec\\final\\project\\lib\\site-packages\\sklearn\\metrics\\_classification.py:1531: UndefinedMetricWarning: Precision is ill-defined and being set to 0.0 in labels with no predicted samples. Use `zero_division` parameter to control this behavior.\n",
      "  _warn_prf(average, modifier, f\"{metric.capitalize()} is\", len(result))\n",
      "d:\\project\\mlsec\\final\\project\\lib\\site-packages\\sklearn\\metrics\\_classification.py:1531: UndefinedMetricWarning: Precision is ill-defined and being set to 0.0 in labels with no predicted samples. Use `zero_division` parameter to control this behavior.\n",
      "  _warn_prf(average, modifier, f\"{metric.capitalize()} is\", len(result))\n"
     ]
    },
    {
     "name": "stdout",
     "output_type": "stream",
     "text": [
      "🏃 View run aged-ray-223 at: http://localhost:5000/#/experiments/7/runs/571a3e834c484559a53081cabcfad47e\n",
      "🧪 View experiment at: http://localhost:5000/#/experiments/7\n"
     ]
    },
    {
     "name": "stderr",
     "output_type": "stream",
     "text": [
      "d:\\project\\mlsec\\final\\project\\lib\\site-packages\\sklearn\\metrics\\_classification.py:1531: UndefinedMetricWarning: Precision is ill-defined and being set to 0.0 in labels with no predicted samples. Use `zero_division` parameter to control this behavior.\n",
      "  _warn_prf(average, modifier, f\"{metric.capitalize()} is\", len(result))\n",
      "d:\\project\\mlsec\\final\\project\\lib\\site-packages\\sklearn\\metrics\\_classification.py:1531: UndefinedMetricWarning: Precision is ill-defined and being set to 0.0 in labels with no predicted samples. Use `zero_division` parameter to control this behavior.\n",
      "  _warn_prf(average, modifier, f\"{metric.capitalize()} is\", len(result))\n"
     ]
    },
    {
     "name": "stdout",
     "output_type": "stream",
     "text": [
      "🏃 View run flawless-panda-668 at: http://localhost:5000/#/experiments/7/runs/1324fe27b89d44eb8f2740423e033120\n",
      "🧪 View experiment at: http://localhost:5000/#/experiments/7\n"
     ]
    },
    {
     "name": "stderr",
     "output_type": "stream",
     "text": [
      "d:\\project\\mlsec\\final\\project\\lib\\site-packages\\sklearn\\metrics\\_classification.py:1531: UndefinedMetricWarning: Precision is ill-defined and being set to 0.0 in labels with no predicted samples. Use `zero_division` parameter to control this behavior.\n",
      "  _warn_prf(average, modifier, f\"{metric.capitalize()} is\", len(result))\n",
      "d:\\project\\mlsec\\final\\project\\lib\\site-packages\\sklearn\\metrics\\_classification.py:1531: UndefinedMetricWarning: Precision is ill-defined and being set to 0.0 in labels with no predicted samples. Use `zero_division` parameter to control this behavior.\n",
      "  _warn_prf(average, modifier, f\"{metric.capitalize()} is\", len(result))\n"
     ]
    },
    {
     "name": "stdout",
     "output_type": "stream",
     "text": [
      "🏃 View run crawling-grouse-5 at: http://localhost:5000/#/experiments/7/runs/c96fd9d40a654bf8a1f0968943c39f42\n",
      "🧪 View experiment at: http://localhost:5000/#/experiments/7\n"
     ]
    },
    {
     "name": "stderr",
     "output_type": "stream",
     "text": [
      "d:\\project\\mlsec\\final\\project\\lib\\site-packages\\sklearn\\metrics\\_classification.py:1531: UndefinedMetricWarning: Precision is ill-defined and being set to 0.0 in labels with no predicted samples. Use `zero_division` parameter to control this behavior.\n",
      "  _warn_prf(average, modifier, f\"{metric.capitalize()} is\", len(result))\n",
      "d:\\project\\mlsec\\final\\project\\lib\\site-packages\\sklearn\\metrics\\_classification.py:1531: UndefinedMetricWarning: Precision is ill-defined and being set to 0.0 in labels with no predicted samples. Use `zero_division` parameter to control this behavior.\n",
      "  _warn_prf(average, modifier, f\"{metric.capitalize()} is\", len(result))\n"
     ]
    },
    {
     "name": "stdout",
     "output_type": "stream",
     "text": [
      "🏃 View run resilient-horse-497 at: http://localhost:5000/#/experiments/7/runs/d8b215faa0c44e94b9991f675f6c06be\n",
      "🧪 View experiment at: http://localhost:5000/#/experiments/7\n"
     ]
    },
    {
     "name": "stderr",
     "output_type": "stream",
     "text": [
      "d:\\project\\mlsec\\final\\project\\lib\\site-packages\\sklearn\\metrics\\_classification.py:1531: UndefinedMetricWarning: Precision is ill-defined and being set to 0.0 in labels with no predicted samples. Use `zero_division` parameter to control this behavior.\n",
      "  _warn_prf(average, modifier, f\"{metric.capitalize()} is\", len(result))\n",
      "d:\\project\\mlsec\\final\\project\\lib\\site-packages\\sklearn\\metrics\\_classification.py:1531: UndefinedMetricWarning: Precision is ill-defined and being set to 0.0 in labels with no predicted samples. Use `zero_division` parameter to control this behavior.\n",
      "  _warn_prf(average, modifier, f\"{metric.capitalize()} is\", len(result))\n"
     ]
    },
    {
     "name": "stdout",
     "output_type": "stream",
     "text": [
      "🏃 View run crawling-finch-569 at: http://localhost:5000/#/experiments/7/runs/a61eb085b1224471a57ac8e1b9b529a3\n",
      "🧪 View experiment at: http://localhost:5000/#/experiments/7\n"
     ]
    },
    {
     "name": "stderr",
     "output_type": "stream",
     "text": [
      "d:\\project\\mlsec\\final\\project\\lib\\site-packages\\sklearn\\metrics\\_classification.py:1531: UndefinedMetricWarning: Precision is ill-defined and being set to 0.0 in labels with no predicted samples. Use `zero_division` parameter to control this behavior.\n",
      "  _warn_prf(average, modifier, f\"{metric.capitalize()} is\", len(result))\n",
      "d:\\project\\mlsec\\final\\project\\lib\\site-packages\\sklearn\\metrics\\_classification.py:1531: UndefinedMetricWarning: Precision is ill-defined and being set to 0.0 in labels with no predicted samples. Use `zero_division` parameter to control this behavior.\n",
      "  _warn_prf(average, modifier, f\"{metric.capitalize()} is\", len(result))\n"
     ]
    },
    {
     "name": "stdout",
     "output_type": "stream",
     "text": [
      "🏃 View run delightful-newt-68 at: http://localhost:5000/#/experiments/7/runs/b0b544085c024b80abc1f3b7a894eaf9\n",
      "🧪 View experiment at: http://localhost:5000/#/experiments/7\n"
     ]
    },
    {
     "name": "stderr",
     "output_type": "stream",
     "text": [
      "d:\\project\\mlsec\\final\\project\\lib\\site-packages\\sklearn\\metrics\\_classification.py:1531: UndefinedMetricWarning: Precision is ill-defined and being set to 0.0 in labels with no predicted samples. Use `zero_division` parameter to control this behavior.\n",
      "  _warn_prf(average, modifier, f\"{metric.capitalize()} is\", len(result))\n",
      "d:\\project\\mlsec\\final\\project\\lib\\site-packages\\sklearn\\metrics\\_classification.py:1531: UndefinedMetricWarning: Precision is ill-defined and being set to 0.0 in labels with no predicted samples. Use `zero_division` parameter to control this behavior.\n",
      "  _warn_prf(average, modifier, f\"{metric.capitalize()} is\", len(result))\n",
      "C:\\Users\\SonNH\\AppData\\Local\\Temp\\ipykernel_7932\\316235869.py:87: FutureWarning: ``mlflow.tracking.client.MlflowClient.get_latest_versions`` is deprecated since 2.9.0. Model registry stages will be removed in a future major release. To learn more about the deprecation of model registry stages, see our migration guide here: https://mlflow.org/docs/latest/model-registry.html#migrating-from-stages\n",
      "  latest_ = client.get_latest_versions(model_name, stages=None)[0]\n",
      "Registered model 'GaussianNB' already exists. Creating a new version of this model...\n",
      "2024/12/06 00:13:43 INFO mlflow.store.model_registry.abstract_store: Waiting up to 300 seconds for model version to finish creation. Model name: GaussianNB, version 2\n"
     ]
    },
    {
     "name": "stdout",
     "output_type": "stream",
     "text": [
      "🏃 View run efficient-pug-612 at: http://localhost:5000/#/experiments/7/runs/378fb3d5ef7d491eb3a113bc2e6b4f7f\n",
      "🧪 View experiment at: http://localhost:5000/#/experiments/7\n"
     ]
    },
    {
     "name": "stderr",
     "output_type": "stream",
     "text": [
      "Created version '2' of model 'GaussianNB'.\n"
     ]
    },
    {
     "name": "stdout",
     "output_type": "stream",
     "text": [
      "🏃 View run handsome-colt-774 at: http://localhost:5000/#/experiments/7/runs/095dad88cd0b4125b64005796ae5db35\n",
      "🧪 View experiment at: http://localhost:5000/#/experiments/7\n"
     ]
    }
   ],
   "source": [
    "tags = {\n",
    "    \"dataset_frac\": 1.0,\n",
    "    \"random_state\": 42,\n",
    "    \"test_size\" : 0.2,\n",
    "    \"droped_column\" : ['ID'],\n",
    "    # \"droped_column\" : ['ID','IRC','DHCP','LLC','IPv','DNS','ece_flag_number','Drate','SMTP','Telnet','cwr_flag_number','ARP','SSH'],\n",
    "    \"author\": \"Son Nguyen\"\n",
    "}\n",
    "\n",
    "\n",
    "def gnb_callback(study, frozen_trial):\n",
    "    winner = study.user_attrs.get(\"winner\", None)\n",
    "    if study.best_value and winner != study.best_value:\n",
    "        study.set_user_attr(\"winner\", study.best_value)\n",
    "        if winner:\n",
    "            improvement_percent = (abs(winner - study.best_value) / study.best_value) * 100\n",
    "            print(\n",
    "                f\"Trial {frozen_trial.number} achieved value: {frozen_trial.value} with \"\n",
    "                f\"{improvement_percent: .4f}% improvement\"\n",
    "            )\n",
    "        else:\n",
    "            print(f\"Initial trial {frozen_trial.number} achieved value: {frozen_trial.value}\")\n",
    "\n",
    "def gnb_objective(trial):\n",
    "    with mlflow.start_run(nested=True) as run:\n",
    "        params = {\n",
    "            \"var_smoothing\": trial.suggest_float(\"max_samples\",1e-9, 1e-1, log=True)\n",
    "        }\n",
    "        model = GaussianNB(**params)\n",
    "        mlflow.sklearn.autolog()\n",
    "        model.fit(X_train, y_train)\n",
    "        y_pred = model.predict(X_test)\n",
    "        accuracy = accuracy_score(y_test, y_pred)\n",
    "        f1 = f1_score(y_test, y_pred, average='weighted')\n",
    "        precision = precision_score(y_test, y_pred, average='weighted')\n",
    "        recall = recall_score(y_test, y_pred, average='weighted')\n",
    "        mlflow.log_metric(\"accuracy\", accuracy)\n",
    "        mlflow.log_metric(\"f1_score\", f1)\n",
    "        mlflow.log_metric(\"precision\", precision)\n",
    "        mlflow.log_metric(\"recall\", recall)\n",
    "\n",
    "        metrics_file = \"model_summary.json\"\n",
    "        metrics = {\n",
    "            \"parameter\" : {**params},\n",
    "            \"metrics\" : {\n",
    "                \"f1\" : f1,\n",
    "                \"precision\" : precision,\n",
    "                \"accuracy\" : accuracy,\n",
    "                \"recall\" : recall\n",
    "            }\n",
    "            \n",
    "        }\n",
    "        \n",
    "        with open(metrics_file, \"w\") as f:\n",
    "            json.dump(metrics, f, indent=4)\n",
    "\n",
    "        mlflow.log_artifact(metrics_file)\n",
    "        os.remove(metrics_file)\n",
    "\n",
    "        trial.set_user_attr(\"run_id\", run.info.run_id)\n",
    "    return f1\n",
    "\n",
    "# Prepare data\n",
    "data = data_n_null.drop(columns=tags['droped_column'])\n",
    "data_sample = data.sample(frac=tags['dataset_frac'])\n",
    "X = data_sample.drop(columns=['Label'])\n",
    "y = data_sample['Label']\n",
    "X_train, X_test, y_train, y_test = train_test_split(X, y, test_size = tags['test_size'], random_state = tags['random_state'])\n",
    "\n",
    "\n",
    "mlflow.set_experiment(\"naive-bayes\")\n",
    "optuna.logging.set_verbosity(optuna.logging.ERROR)\n",
    "with mlflow.start_run(nested=True) as run:\n",
    "\n",
    "    # mlflow.xgboost.autolog() can not put auto log here\n",
    "    study = optuna.create_study(direction='maximize')\n",
    "    study.optimize(gnb_objective, n_trials=100, timeout=7200, callbacks=[gnb_callback], show_progress_bar=True)\n",
    "    # study.optimize(gnb_objective, n_trials=100, timeout=100, callbacks=[gnb_callback], show_progress_bar=True)\n",
    "    \n",
    "    best_trial = study.best_trial\n",
    "    best_run_id = best_trial.user_attrs['run_id']\n",
    "    # best_param = study.best_params\n",
    "    best_value = study.best_value\n",
    "\n",
    "    model_name = \"GaussianNB\"\n",
    "    client = mlflow.tracking.MlflowClient()\n",
    "    latest_ = client.get_latest_versions(model_name, stages=None)[0]\n",
    "\n",
    "    model_uri = f\"runs:/{best_run_id}/model\"\n",
    "    best_model = mlflow.register_model(model_uri, model_name)\n",
    "    \n",
    "    \n",
    "    best_param = client.get_run(best_run_id).data.params\n",
    "    if latest_:\n",
    "        previous_f1_score = client.get_metric_history(latest_.run_id, \"f1_score\")[-1].value\n",
    "        if previous_f1_score >= best_value:\n",
    "            print(f\"Last model is better. Current values {best_value}, latest values {previous_f1_score}\")\n",
    "        else:\n",
    "            client.update_registered_model(\n",
    "                name=model_name,\n",
    "                description=\"Best moldel\",\n",
    "            )\n",
    "\n",
    "            for key, value in best_param.items():\n",
    "                client.set_model_version_tag(\n",
    "                    name=model_name,\n",
    "                    version=best_model.version,\n",
    "                    key=key,\n",
    "                    value=value\n",
    "                )\n",
    "\n",
    "            client.set_model_version_tag(\n",
    "                name=model_name,\n",
    "                version=best_model.version,\n",
    "                key=\"values\",\n",
    "                value=best_value\n",
    "            )\n",
    "\n",
    "            for key, value in tags.items():\n",
    "                mlflow.set_tag(key,value)\n",
    "            mlflow.set_tag(\"job\", \"GNB using optuna to search parameter\")"
   ]
  },
  {
   "cell_type": "code",
   "execution_count": 31,
   "metadata": {},
   "outputs": [
    {
     "data": {
      "application/vnd.jupyter.widget-view+json": {
       "model_id": "a66c3eecfb714745bf3475138aa1f6ba",
       "version_major": 2,
       "version_minor": 0
      },
      "text/plain": [
       "  0%|          | 0/100 [00:00<?, ?it/s]"
      ]
     },
     "metadata": {},
     "output_type": "display_data"
    },
    {
     "name": "stdout",
     "output_type": "stream",
     "text": [
      "🏃 View run orderly-bass-352 at: http://localhost:5000/#/experiments/3/runs/655766bc2b724227818c2040dcd6d4ba\n",
      "🧪 View experiment at: http://localhost:5000/#/experiments/3\n",
      "Initial trial 0 achieved value: 0.8106853780563875\n",
      "🏃 View run marvelous-skunk-86 at: http://localhost:5000/#/experiments/3/runs/032c84704a33437186c1e26c3b66f1c9\n",
      "🧪 View experiment at: http://localhost:5000/#/experiments/3\n",
      "Trial 1 achieved value: 0.8361783336803504 with  3.0487% improvement\n"
     ]
    },
    {
     "name": "stderr",
     "output_type": "stream",
     "text": [
      "C:\\Users\\SonNH\\AppData\\Local\\Temp\\ipykernel_7932\\3809554955.py:110: FutureWarning: ``mlflow.tracking.client.MlflowClient.get_latest_versions`` is deprecated since 2.9.0. Model registry stages will be removed in a future major release. To learn more about the deprecation of model registry stages, see our migration guide here: https://mlflow.org/docs/latest/model-registry.html#migrating-from-stages\n",
      "  latest_ = client.get_latest_versions(model_name, stages=None)[0]\n",
      "Registered model 'RandomForest-Classifier' already exists. Creating a new version of this model...\n",
      "2024/12/06 03:02:26 INFO mlflow.store.model_registry.abstract_store: Waiting up to 300 seconds for model version to finish creation. Model name: RandomForest-Classifier, version 4\n"
     ]
    },
    {
     "name": "stdout",
     "output_type": "stream",
     "text": [
      "🏃 View run capricious-cod-131 at: http://localhost:5000/#/experiments/3/runs/21594e57fd8c4437a8605db3df0aafcd\n",
      "🧪 View experiment at: http://localhost:5000/#/experiments/3\n",
      "Trial 2 achieved value: 0.855878553417509 with  2.3018% improvement\n"
     ]
    },
    {
     "name": "stderr",
     "output_type": "stream",
     "text": [
      "Created version '4' of model 'RandomForest-Classifier'.\n"
     ]
    },
    {
     "name": "stdout",
     "output_type": "stream",
     "text": [
      "Last model is better. Current values 0.855878553417509, latest values 0.89875639483346\n",
      "🏃 View run painted-bat-46 at: http://localhost:5000/#/experiments/3/runs/ea787c07655c4f918d6f2909aaeeac68\n",
      "🧪 View experiment at: http://localhost:5000/#/experiments/3\n"
     ]
    }
   ],
   "source": [
    "tags = {\n",
    "    \"dataset_frac\": 1.0,\n",
    "    \"random_state\": 42,\n",
    "    \"test_size\" : 0.2,\n",
    "    \"droped_column\" : ['ID','IRC','DHCP','LLC','IPv','DNS','ece_flag_number','Drate','SMTP','Telnet','cwr_flag_number','ARP','SSH'],\n",
    "    \"author\": \"Son Nguyen\",\n",
    "   \n",
    "}\n",
    "\n",
    "\n",
    "def rdf_objective(trial):\n",
    "    with mlflow.start_run(nested=True) as run:\n",
    "        params = {\n",
    "            \"n_estimators\": trial.suggest_int(\"n_estimators\", 50, 1050, step=100),\n",
    "            \"criterion\": trial.suggest_categorical(\"criterion\", [\"gini\", \"entropy\", \"log_loss\"]),\n",
    "            \"max_depth\": trial.suggest_int(\"max_depth\", 10, 1010, step=50),\n",
    "            \"min_samples_split\": trial.suggest_int(\"min_samples_split\", 2, 10),\n",
    "            \"min_samples_leaf\": trial.suggest_int(\"min_samples_leaf\", 1, 20),\n",
    "            \"max_features\": trial.suggest_int(\"max_features\", 2, 30),\n",
    "            \"max_leaf_nodes\": trial.suggest_int(\"max_leaf_nodes\", 10, 100),\n",
    "            \"bootstrap\": trial.suggest_categorical(\"bootstrap\", [True]),\n",
    "            \"max_samples\": trial.suggest_float(\"max_samples\", 0.1, 1.0, step=0.1),\n",
    "            \"class_weight\": trial.suggest_categorical(\"class_weight\", [\"balanced\", \"balanced_subsample\", None]),\n",
    "        }\n",
    "       \n",
    "        model = RandomForestClassifier(**params)\n",
    "        mlflow.sklearn.autolog()\n",
    "        model.fit(X_train, y_train)\n",
    "        y_pred = model.predict(X_test)\n",
    "        accuracy = accuracy_score(y_test, y_pred)\n",
    "        f1 = f1_score(y_test, y_pred, average='weighted')\n",
    "        precision = precision_score(y_test, y_pred, average='weighted')\n",
    "        recall = recall_score(y_test, y_pred, average='weighted')\n",
    "        mlflow.log_metric(\"accuracy\", accuracy)\n",
    "        mlflow.log_metric(\"f1_score\", f1)\n",
    "        mlflow.log_metric(\"precision\", precision)\n",
    "        mlflow.log_metric(\"recall\", recall)\n",
    "        \n",
    "        feature_scores = pd.Series(model.feature_importances_, index=X_train.columns).sort_values(ascending=False)\n",
    "        plt.figure(figsize=(20, 20))\n",
    "        sns.barplot(x=feature_scores, y=feature_scores.index)\n",
    "        plt.xlabel('Feature Importance Score')\n",
    "        plt.ylabel('Features')\n",
    "        plt.title(\"Visualizing Important Features\")\n",
    "        feature_importance_plot = \"feature_importance.png\"\n",
    "        plt.savefig(feature_importance_plot, bbox_inches='tight')\n",
    "        mlflow.log_artifact(feature_importance_plot)\n",
    "        os.remove(feature_importance_plot)\n",
    "\n",
    "        metrics_file = \"model_summary.json\"\n",
    "        metrics = {\n",
    "            \"parameter\" : {**params},\n",
    "            \"metrics\" : {\n",
    "                \"f1\" : f1,\n",
    "                \"precision\" : precision,\n",
    "                \"accuracy\" : accuracy,\n",
    "                \"recall\" : recall\n",
    "            }\n",
    "            \n",
    "        }\n",
    "\n",
    "        with open(metrics_file, \"w\") as f:\n",
    "            json.dump(metrics, f, indent=4)\n",
    "\n",
    "        mlflow.log_artifact(metrics_file)\n",
    "        os.remove(metrics_file)\n",
    "\n",
    "        trial.set_user_attr(\"run_id\", run.info.run_id)\n",
    "    return f1\n",
    "\n",
    "def rdf_callback(study, frozen_trial):\n",
    "    winner = study.user_attrs.get(\"winner\", None)\n",
    "    if study.best_value and winner != study.best_value:\n",
    "        study.set_user_attr(\"winner\", study.best_value)\n",
    "        if winner:\n",
    "            improvement_percent = (abs(winner - study.best_value) / study.best_value) * 100\n",
    "            print(\n",
    "                f\"Trial {frozen_trial.number} achieved value: {frozen_trial.value} with \"\n",
    "                f\"{improvement_percent: .4f}% improvement\"\n",
    "            )\n",
    "        else:\n",
    "            print(f\"Initial trial {frozen_trial.number} achieved value: {frozen_trial.value}\")\n",
    "\n",
    "\n",
    "\n",
    "data = data_n_null.drop(columns=tags['droped_column'])\n",
    "data_sample = data.sample(frac=tags['dataset_frac'])\n",
    "X = data_sample.drop(columns=['Label'])\n",
    "y = data_sample['Label']\n",
    "X_train, X_test, y_train, y_test = train_test_split(X, y, test_size = tags['test_size'], random_state = tags['random_state'])\n",
    "\n",
    "\n",
    "mlflow.set_experiment(\"random-forest\")\n",
    "optuna.logging.set_verbosity(optuna.logging.ERROR)\n",
    "\n",
    "with mlflow.start_run(nested=True) as run:\n",
    "\n",
    "    # mlflow.xgboost.autolog() can not put auto log here\n",
    "    study = optuna.create_study(direction='maximize')\n",
    "    study.optimize(rdf_objective, n_trials=100, timeout=7200, callbacks=[rdf_callback], show_progress_bar=True)\n",
    "    # study.optimize(rdf_objective, n_trials=100, timeout=100, callbacks=[rdf_callback], show_progress_bar=True)\n",
    "    \n",
    "    best_trial = study.best_trial\n",
    "    best_run_id = best_trial.user_attrs['run_id']\n",
    "    # best_param = study.best_params\n",
    "    best_value = study.best_value\n",
    "\n",
    "    model_name = \"RandomForest-Classifier\"\n",
    "    client = mlflow.tracking.MlflowClient()\n",
    "    latest_ = client.get_latest_versions(model_name, stages=None)[0]\n",
    "\n",
    "    model_uri = f\"runs:/{best_run_id}/model\"\n",
    "    best_model = mlflow.register_model(model_uri, model_name)\n",
    "    \n",
    "    \n",
    "    best_param = client.get_run(best_run_id).data.params\n",
    "    if latest_:\n",
    "        previous_f1_score = client.get_metric_history(latest_.run_id, \"f1_score\")[-1].value\n",
    "        if previous_f1_score >= best_value:\n",
    "            print(f\"Last model is better. Current values {best_value}, latest values {previous_f1_score}\")\n",
    "        else:\n",
    "            client.update_registered_model(\n",
    "                name=model_name,\n",
    "                description=\"Best moldel\",\n",
    "            )\n",
    "\n",
    "            for key, value in best_param.items():\n",
    "                client.set_model_version_tag(\n",
    "                    name=model_name,\n",
    "                    version=best_model.version,\n",
    "                    key=key,\n",
    "                    value=value\n",
    "                )\n",
    "\n",
    "            client.set_model_version_tag(\n",
    "                name=model_name,\n",
    "                version=best_model.version,\n",
    "                key=\"values\",\n",
    "                value=best_value\n",
    "            )\n",
    "\n",
    "            for key, value in tags.items():\n",
    "                mlflow.set_tag(key,value)\n",
    "            mlflow.set_tag(\"job\", \"random forest using optuna to search parameter\")\n",
    "    \n",
    "\n"
   ]
  },
  {
   "cell_type": "markdown",
   "metadata": {},
   "source": [
    "## XGBoost"
   ]
  },
  {
   "cell_type": "code",
   "execution_count": 32,
   "metadata": {},
   "outputs": [
    {
     "data": {
      "application/vnd.jupyter.widget-view+json": {
       "model_id": "76d4c83dcf9d47e8b1d4bf1e3f3e0eeb",
       "version_major": 2,
       "version_minor": 0
      },
      "text/plain": [
       "  0%|          | 0/100 [00:00<?, ?it/s]"
      ]
     },
     "metadata": {},
     "output_type": "display_data"
    },
    {
     "name": "stderr",
     "output_type": "stream",
     "text": [
      "2024/12/06 03:07:30 WARNING mlflow.utils.autologging_utils: MLflow autologging encountered a warning: \"d:\\project\\mlsec\\final\\project\\lib\\site-packages\\xgboost\\core.py:158: UserWarning: [03:07:30] WARNING: C:\\buildkite-agent\\builds\\buildkite-windows-cpu-autoscaling-group-i-0ed59c031377d09b8-1\\xgboost\\xgboost-ci-windows\\src\\c_api\\c_api.cc:1374: Saving model in the UBJSON format as default.  You can use file extension: `json`, `ubj` or `deprecated` to choose between formats.\"\n"
     ]
    },
    {
     "name": "stdout",
     "output_type": "stream",
     "text": [
      "🏃 View run big-hog-128 at: http://localhost:5000/#/experiments/9/runs/c4acb282001640c0a7be077ed1bd485e\n",
      "🧪 View experiment at: http://localhost:5000/#/experiments/9\n",
      "Initial trial 0 achieved value: 0.9333673003237396\n"
     ]
    },
    {
     "name": "stderr",
     "output_type": "stream",
     "text": [
      "2024/12/06 03:11:28 WARNING mlflow.utils.autologging_utils: MLflow autologging encountered a warning: \"d:\\project\\mlsec\\final\\project\\lib\\site-packages\\xgboost\\core.py:158: UserWarning: [03:11:28] WARNING: C:\\buildkite-agent\\builds\\buildkite-windows-cpu-autoscaling-group-i-0ed59c031377d09b8-1\\xgboost\\xgboost-ci-windows\\src\\c_api\\c_api.cc:1374: Saving model in the UBJSON format as default.  You can use file extension: `json`, `ubj` or `deprecated` to choose between formats.\"\n",
      "d:\\project\\mlsec\\final\\project\\lib\\site-packages\\sklearn\\metrics\\_classification.py:1531: UndefinedMetricWarning: Precision is ill-defined and being set to 0.0 in labels with no predicted samples. Use `zero_division` parameter to control this behavior.\n",
      "  _warn_prf(average, modifier, f\"{metric.capitalize()} is\", len(result))\n"
     ]
    },
    {
     "name": "stdout",
     "output_type": "stream",
     "text": [
      "🏃 View run judicious-shad-647 at: http://localhost:5000/#/experiments/9/runs/209b489f289c4ca89e55d508568879fb\n",
      "🧪 View experiment at: http://localhost:5000/#/experiments/9\n"
     ]
    },
    {
     "name": "stderr",
     "output_type": "stream",
     "text": [
      "2024/12/06 03:17:11 WARNING mlflow.utils.autologging_utils: MLflow autologging encountered a warning: \"d:\\project\\mlsec\\final\\project\\lib\\site-packages\\xgboost\\core.py:158: UserWarning: [03:17:11] WARNING: C:\\buildkite-agent\\builds\\buildkite-windows-cpu-autoscaling-group-i-0ed59c031377d09b8-1\\xgboost\\xgboost-ci-windows\\src\\c_api\\c_api.cc:1374: Saving model in the UBJSON format as default.  You can use file extension: `json`, `ubj` or `deprecated` to choose between formats.\"\n"
     ]
    },
    {
     "name": "stdout",
     "output_type": "stream",
     "text": [
      "🏃 View run youthful-snipe-677 at: http://localhost:5000/#/experiments/9/runs/353ce62acc564eae873b07c27cc21c21\n",
      "🧪 View experiment at: http://localhost:5000/#/experiments/9\n",
      "Trial 2 achieved value: 0.9390066500564209 with  0.6006% improvement\n"
     ]
    },
    {
     "name": "stderr",
     "output_type": "stream",
     "text": [
      "2024/12/06 03:21:38 WARNING mlflow.utils.autologging_utils: MLflow autologging encountered a warning: \"d:\\project\\mlsec\\final\\project\\lib\\site-packages\\xgboost\\core.py:158: UserWarning: [03:21:38] WARNING: C:\\buildkite-agent\\builds\\buildkite-windows-cpu-autoscaling-group-i-0ed59c031377d09b8-1\\xgboost\\xgboost-ci-windows\\src\\c_api\\c_api.cc:1374: Saving model in the UBJSON format as default.  You can use file extension: `json`, `ubj` or `deprecated` to choose between formats.\"\n"
     ]
    },
    {
     "name": "stdout",
     "output_type": "stream",
     "text": [
      "🏃 View run adaptable-calf-121 at: http://localhost:5000/#/experiments/9/runs/04ab2a79c39748e98bac44510130ed92\n",
      "🧪 View experiment at: http://localhost:5000/#/experiments/9\n"
     ]
    },
    {
     "name": "stderr",
     "output_type": "stream",
     "text": [
      "2024/12/06 03:28:25 WARNING mlflow.utils.autologging_utils: MLflow autologging encountered a warning: \"d:\\project\\mlsec\\final\\project\\lib\\site-packages\\xgboost\\core.py:158: UserWarning: [03:28:25] WARNING: C:\\buildkite-agent\\builds\\buildkite-windows-cpu-autoscaling-group-i-0ed59c031377d09b8-1\\xgboost\\xgboost-ci-windows\\src\\c_api\\c_api.cc:1374: Saving model in the UBJSON format as default.  You can use file extension: `json`, `ubj` or `deprecated` to choose between formats.\"\n"
     ]
    },
    {
     "name": "stdout",
     "output_type": "stream",
     "text": [
      "🏃 View run mercurial-worm-409 at: http://localhost:5000/#/experiments/9/runs/5139039e603f40b6a99ee5d4882a265d\n",
      "🧪 View experiment at: http://localhost:5000/#/experiments/9\n",
      "Trial 4 achieved value: 0.9397379229311994 with  0.0778% improvement\n"
     ]
    },
    {
     "name": "stderr",
     "output_type": "stream",
     "text": [
      "2024/12/06 03:33:03 WARNING mlflow.utils.autologging_utils: MLflow autologging encountered a warning: \"d:\\project\\mlsec\\final\\project\\lib\\site-packages\\xgboost\\core.py:158: UserWarning: [03:33:03] WARNING: C:\\buildkite-agent\\builds\\buildkite-windows-cpu-autoscaling-group-i-0ed59c031377d09b8-1\\xgboost\\xgboost-ci-windows\\src\\c_api\\c_api.cc:1374: Saving model in the UBJSON format as default.  You can use file extension: `json`, `ubj` or `deprecated` to choose between formats.\"\n",
      "d:\\project\\mlsec\\final\\project\\lib\\site-packages\\sklearn\\metrics\\_classification.py:1531: UndefinedMetricWarning: Precision is ill-defined and being set to 0.0 in labels with no predicted samples. Use `zero_division` parameter to control this behavior.\n",
      "  _warn_prf(average, modifier, f\"{metric.capitalize()} is\", len(result))\n"
     ]
    },
    {
     "name": "stdout",
     "output_type": "stream",
     "text": [
      "🏃 View run bustling-dog-180 at: http://localhost:5000/#/experiments/9/runs/f42c419e3f114b548fc67e6d01c0764e\n",
      "🧪 View experiment at: http://localhost:5000/#/experiments/9\n"
     ]
    },
    {
     "name": "stderr",
     "output_type": "stream",
     "text": [
      "2024/12/06 03:40:02 WARNING mlflow.utils.autologging_utils: MLflow autologging encountered a warning: \"d:\\project\\mlsec\\final\\project\\lib\\site-packages\\xgboost\\core.py:158: UserWarning: [03:40:02] WARNING: C:\\buildkite-agent\\builds\\buildkite-windows-cpu-autoscaling-group-i-0ed59c031377d09b8-1\\xgboost\\xgboost-ci-windows\\src\\c_api\\c_api.cc:1374: Saving model in the UBJSON format as default.  You can use file extension: `json`, `ubj` or `deprecated` to choose between formats.\"\n",
      "d:\\project\\mlsec\\final\\project\\lib\\site-packages\\sklearn\\metrics\\_classification.py:1531: UndefinedMetricWarning: Precision is ill-defined and being set to 0.0 in labels with no predicted samples. Use `zero_division` parameter to control this behavior.\n",
      "  _warn_prf(average, modifier, f\"{metric.capitalize()} is\", len(result))\n"
     ]
    },
    {
     "name": "stdout",
     "output_type": "stream",
     "text": [
      "🏃 View run ambitious-croc-479 at: http://localhost:5000/#/experiments/9/runs/7d176b1bad3b48aa8fd97295d949c79b\n",
      "🧪 View experiment at: http://localhost:5000/#/experiments/9\n"
     ]
    },
    {
     "name": "stderr",
     "output_type": "stream",
     "text": [
      "2024/12/06 03:46:31 WARNING mlflow.utils.autologging_utils: MLflow autologging encountered a warning: \"d:\\project\\mlsec\\final\\project\\lib\\site-packages\\xgboost\\core.py:158: UserWarning: [03:46:31] WARNING: C:\\buildkite-agent\\builds\\buildkite-windows-cpu-autoscaling-group-i-0ed59c031377d09b8-1\\xgboost\\xgboost-ci-windows\\src\\c_api\\c_api.cc:1374: Saving model in the UBJSON format as default.  You can use file extension: `json`, `ubj` or `deprecated` to choose between formats.\"\n"
     ]
    },
    {
     "name": "stdout",
     "output_type": "stream",
     "text": [
      "🏃 View run loud-kite-727 at: http://localhost:5000/#/experiments/9/runs/1e1faf7b41cd419bb01754d70cb4f309\n",
      "🧪 View experiment at: http://localhost:5000/#/experiments/9\n"
     ]
    },
    {
     "name": "stderr",
     "output_type": "stream",
     "text": [
      "2024/12/06 03:51:45 WARNING mlflow.utils.autologging_utils: MLflow autologging encountered a warning: \"d:\\project\\mlsec\\final\\project\\lib\\site-packages\\xgboost\\core.py:158: UserWarning: [03:51:45] WARNING: C:\\buildkite-agent\\builds\\buildkite-windows-cpu-autoscaling-group-i-0ed59c031377d09b8-1\\xgboost\\xgboost-ci-windows\\src\\c_api\\c_api.cc:1374: Saving model in the UBJSON format as default.  You can use file extension: `json`, `ubj` or `deprecated` to choose between formats.\"\n"
     ]
    },
    {
     "name": "stdout",
     "output_type": "stream",
     "text": [
      "🏃 View run abundant-deer-538 at: http://localhost:5000/#/experiments/9/runs/c750365ffd70464a8c77282860dc9eaf\n",
      "🧪 View experiment at: http://localhost:5000/#/experiments/9\n"
     ]
    },
    {
     "name": "stderr",
     "output_type": "stream",
     "text": [
      "2024/12/06 03:58:54 WARNING mlflow.utils.autologging_utils: MLflow autologging encountered a warning: \"d:\\project\\mlsec\\final\\project\\lib\\site-packages\\xgboost\\core.py:158: UserWarning: [03:58:54] WARNING: C:\\buildkite-agent\\builds\\buildkite-windows-cpu-autoscaling-group-i-0ed59c031377d09b8-1\\xgboost\\xgboost-ci-windows\\src\\c_api\\c_api.cc:1374: Saving model in the UBJSON format as default.  You can use file extension: `json`, `ubj` or `deprecated` to choose between formats.\"\n"
     ]
    },
    {
     "name": "stdout",
     "output_type": "stream",
     "text": [
      "🏃 View run upset-goose-226 at: http://localhost:5000/#/experiments/9/runs/09b727c49dd745038313d63a933c4388\n",
      "🧪 View experiment at: http://localhost:5000/#/experiments/9\n"
     ]
    },
    {
     "name": "stderr",
     "output_type": "stream",
     "text": [
      "2024/12/06 04:01:49 WARNING mlflow.utils.autologging_utils: MLflow autologging encountered a warning: \"d:\\project\\mlsec\\final\\project\\lib\\site-packages\\xgboost\\core.py:158: UserWarning: [04:01:49] WARNING: C:\\buildkite-agent\\builds\\buildkite-windows-cpu-autoscaling-group-i-0ed59c031377d09b8-1\\xgboost\\xgboost-ci-windows\\src\\c_api\\c_api.cc:1374: Saving model in the UBJSON format as default.  You can use file extension: `json`, `ubj` or `deprecated` to choose between formats.\"\n",
      "d:\\project\\mlsec\\final\\project\\lib\\site-packages\\sklearn\\metrics\\_classification.py:1531: UndefinedMetricWarning: Precision is ill-defined and being set to 0.0 in labels with no predicted samples. Use `zero_division` parameter to control this behavior.\n",
      "  _warn_prf(average, modifier, f\"{metric.capitalize()} is\", len(result))\n"
     ]
    },
    {
     "name": "stdout",
     "output_type": "stream",
     "text": [
      "🏃 View run abundant-mole-878 at: http://localhost:5000/#/experiments/9/runs/0e8eea338451417085ceea10e84a3527\n",
      "🧪 View experiment at: http://localhost:5000/#/experiments/9\n"
     ]
    },
    {
     "name": "stderr",
     "output_type": "stream",
     "text": [
      "2024/12/06 04:08:25 WARNING mlflow.utils.autologging_utils: MLflow autologging encountered a warning: \"d:\\project\\mlsec\\final\\project\\lib\\site-packages\\xgboost\\core.py:158: UserWarning: [04:08:25] WARNING: C:\\buildkite-agent\\builds\\buildkite-windows-cpu-autoscaling-group-i-0ed59c031377d09b8-1\\xgboost\\xgboost-ci-windows\\src\\c_api\\c_api.cc:1374: Saving model in the UBJSON format as default.  You can use file extension: `json`, `ubj` or `deprecated` to choose between formats.\"\n"
     ]
    },
    {
     "name": "stdout",
     "output_type": "stream",
     "text": [
      "🏃 View run treasured-kite-304 at: http://localhost:5000/#/experiments/9/runs/7d43d8db6b7943459e1bfba1116f05f6\n",
      "🧪 View experiment at: http://localhost:5000/#/experiments/9\n"
     ]
    },
    {
     "name": "stderr",
     "output_type": "stream",
     "text": [
      "2024/12/06 04:15:07 WARNING mlflow.utils.autologging_utils: MLflow autologging encountered a warning: \"d:\\project\\mlsec\\final\\project\\lib\\site-packages\\xgboost\\core.py:158: UserWarning: [04:15:07] WARNING: C:\\buildkite-agent\\builds\\buildkite-windows-cpu-autoscaling-group-i-0ed59c031377d09b8-1\\xgboost\\xgboost-ci-windows\\src\\c_api\\c_api.cc:1374: Saving model in the UBJSON format as default.  You can use file extension: `json`, `ubj` or `deprecated` to choose between formats.\"\n"
     ]
    },
    {
     "name": "stdout",
     "output_type": "stream",
     "text": [
      "🏃 View run sincere-pig-133 at: http://localhost:5000/#/experiments/9/runs/03ace9b7b8be468faffd849b4a57fcef\n",
      "🧪 View experiment at: http://localhost:5000/#/experiments/9\n"
     ]
    },
    {
     "name": "stderr",
     "output_type": "stream",
     "text": [
      "2024/12/06 04:21:53 WARNING mlflow.utils.autologging_utils: MLflow autologging encountered a warning: \"d:\\project\\mlsec\\final\\project\\lib\\site-packages\\xgboost\\core.py:158: UserWarning: [04:21:53] WARNING: C:\\buildkite-agent\\builds\\buildkite-windows-cpu-autoscaling-group-i-0ed59c031377d09b8-1\\xgboost\\xgboost-ci-windows\\src\\c_api\\c_api.cc:1374: Saving model in the UBJSON format as default.  You can use file extension: `json`, `ubj` or `deprecated` to choose between formats.\"\n"
     ]
    },
    {
     "name": "stdout",
     "output_type": "stream",
     "text": [
      "🏃 View run respected-horse-229 at: http://localhost:5000/#/experiments/9/runs/dee13c9692f042f182e5ba5d0aee3b44\n",
      "🧪 View experiment at: http://localhost:5000/#/experiments/9\n",
      "Trial 13 achieved value: 0.9401911227995349 with  0.0482% improvement\n"
     ]
    },
    {
     "name": "stderr",
     "output_type": "stream",
     "text": [
      "2024/12/06 04:28:34 WARNING mlflow.utils.autologging_utils: MLflow autologging encountered a warning: \"d:\\project\\mlsec\\final\\project\\lib\\site-packages\\xgboost\\core.py:158: UserWarning: [04:28:34] WARNING: C:\\buildkite-agent\\builds\\buildkite-windows-cpu-autoscaling-group-i-0ed59c031377d09b8-1\\xgboost\\xgboost-ci-windows\\src\\c_api\\c_api.cc:1374: Saving model in the UBJSON format as default.  You can use file extension: `json`, `ubj` or `deprecated` to choose between formats.\"\n"
     ]
    },
    {
     "name": "stdout",
     "output_type": "stream",
     "text": [
      "🏃 View run popular-moose-41 at: http://localhost:5000/#/experiments/9/runs/86e63462a315415992ad1933b9e834ff\n",
      "🧪 View experiment at: http://localhost:5000/#/experiments/9\n"
     ]
    },
    {
     "name": "stderr",
     "output_type": "stream",
     "text": [
      "2024/12/06 04:34:41 WARNING mlflow.utils.autologging_utils: MLflow autologging encountered a warning: \"d:\\project\\mlsec\\final\\project\\lib\\site-packages\\xgboost\\core.py:158: UserWarning: [04:34:41] WARNING: C:\\buildkite-agent\\builds\\buildkite-windows-cpu-autoscaling-group-i-0ed59c031377d09b8-1\\xgboost\\xgboost-ci-windows\\src\\c_api\\c_api.cc:1374: Saving model in the UBJSON format as default.  You can use file extension: `json`, `ubj` or `deprecated` to choose between formats.\"\n"
     ]
    },
    {
     "name": "stdout",
     "output_type": "stream",
     "text": [
      "🏃 View run enchanting-pug-649 at: http://localhost:5000/#/experiments/9/runs/61514d48cfec47ccbddda34ddaaee608\n",
      "🧪 View experiment at: http://localhost:5000/#/experiments/9\n"
     ]
    },
    {
     "name": "stderr",
     "output_type": "stream",
     "text": [
      "2024/12/06 04:41:19 WARNING mlflow.utils.autologging_utils: MLflow autologging encountered a warning: \"d:\\project\\mlsec\\final\\project\\lib\\site-packages\\xgboost\\core.py:158: UserWarning: [04:41:19] WARNING: C:\\buildkite-agent\\builds\\buildkite-windows-cpu-autoscaling-group-i-0ed59c031377d09b8-1\\xgboost\\xgboost-ci-windows\\src\\c_api\\c_api.cc:1374: Saving model in the UBJSON format as default.  You can use file extension: `json`, `ubj` or `deprecated` to choose between formats.\"\n"
     ]
    },
    {
     "name": "stdout",
     "output_type": "stream",
     "text": [
      "🏃 View run magnificent-ray-982 at: http://localhost:5000/#/experiments/9/runs/a301d97b4ac24c46827a2c7c0749c604\n",
      "🧪 View experiment at: http://localhost:5000/#/experiments/9\n"
     ]
    },
    {
     "name": "stderr",
     "output_type": "stream",
     "text": [
      "2024/12/06 04:44:12 WARNING mlflow.utils.autologging_utils: MLflow autologging encountered a warning: \"d:\\project\\mlsec\\final\\project\\lib\\site-packages\\xgboost\\core.py:158: UserWarning: [04:44:12] WARNING: C:\\buildkite-agent\\builds\\buildkite-windows-cpu-autoscaling-group-i-0ed59c031377d09b8-1\\xgboost\\xgboost-ci-windows\\src\\c_api\\c_api.cc:1374: Saving model in the UBJSON format as default.  You can use file extension: `json`, `ubj` or `deprecated` to choose between formats.\"\n",
      "d:\\project\\mlsec\\final\\project\\lib\\site-packages\\sklearn\\metrics\\_classification.py:1531: UndefinedMetricWarning: Precision is ill-defined and being set to 0.0 in labels with no predicted samples. Use `zero_division` parameter to control this behavior.\n",
      "  _warn_prf(average, modifier, f\"{metric.capitalize()} is\", len(result))\n"
     ]
    },
    {
     "name": "stdout",
     "output_type": "stream",
     "text": [
      "🏃 View run righteous-lark-725 at: http://localhost:5000/#/experiments/9/runs/0ea590a3f11b4381b23ac541bf6f5bab\n",
      "🧪 View experiment at: http://localhost:5000/#/experiments/9\n"
     ]
    },
    {
     "name": "stderr",
     "output_type": "stream",
     "text": [
      "2024/12/06 04:50:19 WARNING mlflow.utils.autologging_utils: MLflow autologging encountered a warning: \"d:\\project\\mlsec\\final\\project\\lib\\site-packages\\xgboost\\core.py:158: UserWarning: [04:50:19] WARNING: C:\\buildkite-agent\\builds\\buildkite-windows-cpu-autoscaling-group-i-0ed59c031377d09b8-1\\xgboost\\xgboost-ci-windows\\src\\c_api\\c_api.cc:1374: Saving model in the UBJSON format as default.  You can use file extension: `json`, `ubj` or `deprecated` to choose between formats.\"\n"
     ]
    },
    {
     "name": "stdout",
     "output_type": "stream",
     "text": [
      "🏃 View run amazing-stoat-313 at: http://localhost:5000/#/experiments/9/runs/2045c62ed77a472a913aa10c31ae90d6\n",
      "🧪 View experiment at: http://localhost:5000/#/experiments/9\n"
     ]
    },
    {
     "name": "stderr",
     "output_type": "stream",
     "text": [
      "2024/12/06 04:55:56 WARNING mlflow.utils.autologging_utils: MLflow autologging encountered a warning: \"d:\\project\\mlsec\\final\\project\\lib\\site-packages\\xgboost\\core.py:158: UserWarning: [04:55:56] WARNING: C:\\buildkite-agent\\builds\\buildkite-windows-cpu-autoscaling-group-i-0ed59c031377d09b8-1\\xgboost\\xgboost-ci-windows\\src\\c_api\\c_api.cc:1374: Saving model in the UBJSON format as default.  You can use file extension: `json`, `ubj` or `deprecated` to choose between formats.\"\n"
     ]
    },
    {
     "name": "stdout",
     "output_type": "stream",
     "text": [
      "🏃 View run tasteful-loon-697 at: http://localhost:5000/#/experiments/9/runs/4d2b1cfd4c10486c8938055cc268a027\n",
      "🧪 View experiment at: http://localhost:5000/#/experiments/9\n"
     ]
    },
    {
     "name": "stderr",
     "output_type": "stream",
     "text": [
      "2024/12/06 04:59:52 WARNING mlflow.utils.autologging_utils: MLflow autologging encountered a warning: \"d:\\project\\mlsec\\final\\project\\lib\\site-packages\\xgboost\\core.py:158: UserWarning: [04:59:52] WARNING: C:\\buildkite-agent\\builds\\buildkite-windows-cpu-autoscaling-group-i-0ed59c031377d09b8-1\\xgboost\\xgboost-ci-windows\\src\\c_api\\c_api.cc:1374: Saving model in the UBJSON format as default.  You can use file extension: `json`, `ubj` or `deprecated` to choose between formats.\"\n"
     ]
    },
    {
     "name": "stdout",
     "output_type": "stream",
     "text": [
      "🏃 View run tasteful-duck-654 at: http://localhost:5000/#/experiments/9/runs/8751c86f61734443b054829f70afd638\n",
      "🧪 View experiment at: http://localhost:5000/#/experiments/9\n"
     ]
    },
    {
     "name": "stderr",
     "output_type": "stream",
     "text": [
      "2024/12/06 05:06:22 WARNING mlflow.utils.autologging_utils: MLflow autologging encountered a warning: \"d:\\project\\mlsec\\final\\project\\lib\\site-packages\\xgboost\\core.py:158: UserWarning: [05:06:22] WARNING: C:\\buildkite-agent\\builds\\buildkite-windows-cpu-autoscaling-group-i-0ed59c031377d09b8-1\\xgboost\\xgboost-ci-windows\\src\\c_api\\c_api.cc:1374: Saving model in the UBJSON format as default.  You can use file extension: `json`, `ubj` or `deprecated` to choose between formats.\"\n"
     ]
    },
    {
     "name": "stdout",
     "output_type": "stream",
     "text": [
      "🏃 View run auspicious-lynx-277 at: http://localhost:5000/#/experiments/9/runs/0b3de205e9304ba3b105e1542ef0dc97\n",
      "🧪 View experiment at: http://localhost:5000/#/experiments/9\n"
     ]
    },
    {
     "name": "stderr",
     "output_type": "stream",
     "text": [
      "C:\\Users\\SonNH\\AppData\\Local\\Temp\\ipykernel_7932\\2088137831.py:94: FutureWarning: ``mlflow.tracking.client.MlflowClient.get_latest_versions`` is deprecated since 2.9.0. Model registry stages will be removed in a future major release. To learn more about the deprecation of model registry stages, see our migration guide here: https://mlflow.org/docs/latest/model-registry.html#migrating-from-stages\n",
      "  latest_ = client.get_latest_versions(model_name, stages=None)[0]\n",
      "Registered model 'XGBoost-Classifier' already exists. Creating a new version of this model...\n",
      "2024/12/06 05:06:37 INFO mlflow.store.model_registry.abstract_store: Waiting up to 300 seconds for model version to finish creation. Model name: XGBoost-Classifier, version 5\n"
     ]
    },
    {
     "name": "stdout",
     "output_type": "stream",
     "text": [
      "Last model is better. Current values 0.9401911227995349, latest values 0.9405534481927864\n",
      "🏃 View run fortunate-trout-941 at: http://localhost:5000/#/experiments/9/runs/b736c3dcf1e54cff9de92fd33f746bb2\n",
      "🧪 View experiment at: http://localhost:5000/#/experiments/9\n"
     ]
    },
    {
     "name": "stderr",
     "output_type": "stream",
     "text": [
      "Created version '5' of model 'XGBoost-Classifier'.\n"
     ]
    }
   ],
   "source": [
    "tags = {\n",
    "    \"dataset_frac\": 1.0,\n",
    "    \"random_state\": 42,\n",
    "    \"test_size\" : 0.2,\n",
    "    \"droped_column\" : ['ID','IPv','Drate','Telnet','SMTP','ARP','cwr_flag_number','ece_flag_number','fin_flag_number','SSH','psh_flag_number','rst_flag_number'],\n",
    "    \"author\": \"Son Nguyen\"\n",
    "}\n",
    "\n",
    "def xgboost_objective(trial):\n",
    "    with mlflow.start_run(nested=True) as run:\n",
    "        params = {\n",
    "            \"tree_method\" : \"hist\",\n",
    "            \"device\" : \"cuda\",\n",
    "            \"objective\": \"reg:squarederror\",\n",
    "            \"n_estimators\": 1000,\n",
    "            \"verbosity\": 0,\n",
    "            \"eval_metric\" : [\"rmse\", \"mae\", \"mape\", \"logloss\",\"error\",\"auc\"],\n",
    "            \"learning_rate\": trial.suggest_float(\"learning_rate\", 1e-3, 0.1, log=True),\n",
    "            \"max_depth\": trial.suggest_int(\"max_depth\", 1, 10),\n",
    "            \"subsample\": trial.suggest_float(\"subsample\", 0.05, 1.0),\n",
    "            \"colsample_bytree\": trial.suggest_float(\"colsample_bytree\", 0.05, 1.0),\n",
    "            \"min_child_weight\": trial.suggest_int(\"min_child_weight\", 1, 20),\n",
    "        }\n",
    "        model = XGBClassifier(**params)\n",
    "        mlflow.xgboost.autolog()\n",
    "        model.fit(X_train, y_train, verbose=False)\n",
    "        y_pred = model.predict(X_test)\n",
    "        accuracy = accuracy_score(y_test, y_pred)\n",
    "        f1 = f1_score(y_test, y_pred, average='weighted')\n",
    "        precision = precision_score(y_test, y_pred, average='weighted')\n",
    "        recall = recall_score(y_test, y_pred, average='weighted')\n",
    "        mlflow.log_metric(\"accuracy\", accuracy)\n",
    "        mlflow.log_metric(\"f1_score\", f1)\n",
    "        mlflow.log_metric(\"precision\", precision)\n",
    "        mlflow.log_metric(\"recall\", recall)\n",
    "\n",
    "        metrics_file = \"model_summary.json\"\n",
    "        metrics = {\n",
    "            \"parameter\" : {**params},\n",
    "            \"metrics\" : {\n",
    "                \"f1\" : f1,\n",
    "                \"precision\" : precision,\n",
    "                \"accuracy\" : accuracy,\n",
    "                \"recall\" : recall\n",
    "            }\n",
    "            \n",
    "        }\n",
    "        \n",
    "        with open(metrics_file, \"w\") as f:\n",
    "            json.dump(metrics, f, indent=4)\n",
    "\n",
    "        mlflow.log_artifact(metrics_file)\n",
    "        os.remove(metrics_file)\n",
    "\n",
    "        trial.set_user_attr(\"run_id\", run.info.run_id)\n",
    "    return f1\n",
    "\n",
    "def champion_callback(study, frozen_trial):\n",
    "    winner = study.user_attrs.get(\"winner\", None)\n",
    "    if study.best_value and winner != study.best_value:\n",
    "        study.set_user_attr(\"winner\", study.best_value)\n",
    "        if winner:\n",
    "            improvement_percent = (abs(winner - study.best_value) / study.best_value) * 100\n",
    "            print(\n",
    "                f\"Trial {frozen_trial.number} achieved value: {frozen_trial.value} with \"\n",
    "                f\"{improvement_percent: .4f}% improvement\"\n",
    "            )\n",
    "        else:\n",
    "            print(f\"Initial trial {frozen_trial.number} achieved value: {frozen_trial.value}\")\n",
    "\n",
    "data = data_n_null.drop(columns=tags['droped_column'])\n",
    "data_sample = data.sample(frac=tags['dataset_frac'])\n",
    "X = data_sample.drop(columns=['Label'])\n",
    "y = data_sample['Label']\n",
    "label_encoder = LabelEncoder()\n",
    "y = label_encoder.fit_transform(y)\n",
    "X_train, X_test, y_train, y_test = train_test_split(X, y, test_size = tags['test_size'], random_state = tags['random_state'])\n",
    "\n",
    "mlflow.set_experiment(\"xgboost\")\n",
    "optuna.logging.set_verbosity(optuna.logging.ERROR)\n",
    "with mlflow.start_run(nested=True) as run:\n",
    "\n",
    "    # mlflow.xgboost.autolog() can not put auto log here\n",
    "    study = optuna.create_study(direction='maximize')\n",
    "    study.optimize(xgboost_objective, n_trials=100, timeout=7200, callbacks=[champion_callback], show_progress_bar=True)\n",
    "    \n",
    "    best_trial = study.best_trial\n",
    "    best_run_id = best_trial.user_attrs['run_id']\n",
    "    # best_param = study.best_params\n",
    "    best_value = study.best_value\n",
    "\n",
    "    model_name = \"XGBoost-Classifier\"\n",
    "    client = mlflow.tracking.MlflowClient()\n",
    "    latest_ = client.get_latest_versions(model_name, stages=None)[0]\n",
    "\n",
    "    model_uri = f\"runs:/{best_run_id}/model\"\n",
    "    best_model = mlflow.register_model(model_uri, model_name)\n",
    "    \n",
    "    best_param = client.get_run(best_run_id).data.params\n",
    "    if latest_:\n",
    "        previous_f1_score = client.get_metric_history(latest_.run_id, \"f1_score\")[-1].value\n",
    "        if previous_f1_score >= best_value:\n",
    "            print(f\"Last model is better. Current values {best_value}, latest values {previous_f1_score}\")\n",
    "        else:\n",
    "            client.update_registered_model(\n",
    "                name=model_name,\n",
    "                description=\"Best moldel\",\n",
    "            )\n",
    "\n",
    "            for key, value in best_param.items():\n",
    "                client.set_model_version_tag(\n",
    "                    name=model_name,\n",
    "                    version=best_model.version,\n",
    "                    key=key,\n",
    "                    value=value\n",
    "                )\n",
    "\n",
    "            client.set_model_version_tag(\n",
    "                name=model_name,\n",
    "                version=best_model.version,\n",
    "                key=\"values\",\n",
    "                value=best_value\n",
    "            )\n",
    "\n",
    "            for key, value in tags.items():\n",
    "                mlflow.set_tag(key,value)\n",
    "            mlflow.set_tag(\"job\", \"xgboost using optuna to search parameter\")\n",
    "    \n"
   ]
  },
  {
   "cell_type": "code",
   "execution_count": null,
   "metadata": {},
   "outputs": [],
   "source": [
    "model = XGBClassifier()\n",
    "model.fit(X_train, y_train)\n",
    "y_pred = model.predict(X_test)\n",
    "f1 = f1_score(y_test, y_pred, average='weighted')\n",
    "feature_important = model.get_booster().get_score(importance_type='weight')\n",
    "keys = list(feature_important.keys())\n",
    "values = list(feature_important.values())\n",
    "data = pd.DataFrame(data=values, index=keys, columns=['score']).sort_values(by = 'score', ascending=False)\n",
    "data.nlargest(40, columns=\"score\").plot(kind='barh', figsize = (20,20))"
   ]
  }
 ],
 "metadata": {
  "kernelspec": {
   "display_name": "project",
   "language": "python",
   "name": "python3"
  },
  "language_info": {
   "codemirror_mode": {
    "name": "ipython",
    "version": 3
   },
   "file_extension": ".py",
   "mimetype": "text/x-python",
   "name": "python",
   "nbconvert_exporter": "python",
   "pygments_lexer": "ipython3",
   "version": "3.10.11"
  }
 },
 "nbformat": 4,
 "nbformat_minor": 2
}
